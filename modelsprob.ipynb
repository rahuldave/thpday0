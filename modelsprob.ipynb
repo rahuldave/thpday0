{
 "cells": [
  {
   "cell_type": "markdown",
   "metadata": {
    "hide": true
   },
   "source": [
    "## Probability, Modeling and Simulation"
   ]
  },
  {
   "cell_type": "markdown",
   "metadata": {},
   "source": [
    "\n",
    "\n",
    "We will do:\n",
    "\n",
    "* numpy\n",
    "* Describe a very simple model of coin tosses\n",
    "* Coin tosses model simulation.\n",
    "* The notion of a generative model\n",
    "* Election model. Simulation. \n",
    "* Evaluation of the election model.\n"
   ]
  },
  {
   "cell_type": "code",
   "execution_count": 1,
   "metadata": {
    "hide": true
   },
   "outputs": [
    {
     "name": "stderr",
     "output_type": "stream",
     "text": [
      "/srv/conda/envs/notebook/lib/python3.7/site-packages/matplotlib/__init__.py:855: MatplotlibDeprecationWarning: \n",
      "examples.directory is deprecated; in the future, examples will be found relative to the 'datapath' directory.\n",
      "  \"found relative to the 'datapath' directory.\".format(key))\n",
      "/srv/conda/envs/notebook/lib/python3.7/site-packages/matplotlib/__init__.py:846: MatplotlibDeprecationWarning: \n",
      "The text.latex.unicode rcparam was deprecated in Matplotlib 2.2 and will be removed in 3.1.\n",
      "  \"2.2\", name=key, obj_type=\"rcparam\", addendum=addendum)\n",
      "/srv/conda/envs/notebook/lib/python3.7/site-packages/seaborn/apionly.py:9: UserWarning: As seaborn no longer sets a default style on import, the seaborn.apionly module is deprecated. It will be removed in a future version.\n",
      "  warnings.warn(msg, UserWarning)\n"
     ]
    }
   ],
   "source": [
    "%matplotlib inline\n",
    "import numpy as np\n",
    "import scipy as sp\n",
    "import matplotlib as mpl\n",
    "import matplotlib.cm as cm\n",
    "import matplotlib.pyplot as plt\n",
    "import pandas as pd\n",
    "import seaborn.apionly as sns"
   ]
  },
  {
   "cell_type": "markdown",
   "metadata": {},
   "source": [
    "## Hello Numpy\n",
    "\n",
    "The Numpy array processing library is the basis of nearly all numerical computing in Python. Here's a 30 second crash course. "
   ]
  },
  {
   "cell_type": "code",
   "execution_count": 2,
   "metadata": {},
   "outputs": [
    {
     "name": "stdout",
     "output_type": "stream",
     "text": [
      "Make a 3 row x 4 column array of random numbers\n",
      "[[0.94525091 0.78848295 0.75588927 0.91682149]\n",
      " [0.57233793 0.32824017 0.60590707 0.86680137]\n",
      " [0.24369677 0.35935549 0.63635205 0.4647777 ]] \n",
      "\n",
      "-----------------\n",
      "Get the element at row 1, column 2\n",
      "0.6059070703826669\n",
      "Get the first row\n",
      "[0.94525091 0.78848295 0.75588927 0.91682149]\n",
      "Last 2 items in the first row\n",
      "[0.75588927 0.91682149]\n",
      "Get every 2nd item in the first row\n",
      "[0.94525091 0.75588927]\n"
     ]
    }
   ],
   "source": [
    "print(\"Make a 3 row x 4 column array of random numbers\")\n",
    "x = np.random.random((3, 4))\n",
    "print(x,\"\\n\")\n",
    "print(\"-----------------\")\n",
    "print(\"Get the element at row 1, column 2\")\n",
    "print(x[1, 2])\n",
    "\n",
    "# The colon syntax is called \"slicing\" the array. \n",
    "print(\"Get the first row\")\n",
    "print(x[0, :])\n",
    "\n",
    "print(\"Last 2 items in the first row\")\n",
    "print(x[0, -2:])\n",
    "\n",
    "print(\"Get every 2nd item in the first row\")\n",
    "print(x[0, ::2])"
   ]
  },
  {
   "cell_type": "code",
   "execution_count": 3,
   "metadata": {},
   "outputs": [
    {
     "name": "stdout",
     "output_type": "stream",
     "text": [
      "Max is   0.9452509129706668\n",
      "Min is   0.24369677237733467\n",
      "Mean is  0.6236594321719647\n"
     ]
    }
   ],
   "source": [
    "print(\"Max is  \", x.max())\n",
    "print(\"Min is  \", x.min())\n",
    "print(\"Mean is \", x.mean())"
   ]
  },
  {
   "cell_type": "code",
   "execution_count": 4,
   "metadata": {},
   "outputs": [
    {
     "data": {
      "text/plain": [
       "array([[0.94525091, 0.78848295, 0.75588927, 0.91682149],\n",
       "       [0.57233793, 0.32824017, 0.60590707, 0.86680137],\n",
       "       [0.24369677, 0.35935549, 0.63635205, 0.4647777 ]])"
      ]
     },
     "execution_count": 4,
     "metadata": {},
     "output_type": "execute_result"
    }
   ],
   "source": [
    "x"
   ]
  },
  {
   "cell_type": "code",
   "execution_count": 5,
   "metadata": {},
   "outputs": [
    {
     "name": "stdout",
     "output_type": "stream",
     "text": [
      "[0.94525091 0.86680137 0.63635205]\n"
     ]
    }
   ],
   "source": [
    "print(x.max(axis=1))"
   ]
  },
  {
   "cell_type": "code",
   "execution_count": 6,
   "metadata": {},
   "outputs": [
    {
     "name": "stdout",
     "output_type": "stream",
     "text": [
      "[0.94525091 0.78848295 0.75588927 0.91682149]\n"
     ]
    }
   ],
   "source": [
    "print(x.max(axis=0))"
   ]
  },
  {
   "cell_type": "markdown",
   "metadata": {},
   "source": [
    "There are many ways to construct these arrays"
   ]
  },
  {
   "cell_type": "code",
   "execution_count": 7,
   "metadata": {},
   "outputs": [
    {
     "data": {
      "text/plain": [
       "((5,), dtype('int64'))"
      ]
     },
     "execution_count": 7,
     "metadata": {},
     "output_type": "execute_result"
    }
   ],
   "source": [
    "thearray = np.array([1, 2, 3, 4, 5])\n",
    "thearray.shape, thearray.dtype"
   ]
  },
  {
   "cell_type": "code",
   "execution_count": 8,
   "metadata": {},
   "outputs": [
    {
     "data": {
      "text/plain": [
       "array([1, 1, 1, 1, 1, 1, 1, 1, 1, 1])"
      ]
     },
     "execution_count": 8,
     "metadata": {},
     "output_type": "execute_result"
    }
   ],
   "source": [
    "ones = np.ones(10, dtype=\"int64\")\n",
    "ones"
   ]
  },
  {
   "cell_type": "code",
   "execution_count": 9,
   "metadata": {},
   "outputs": [
    {
     "data": {
      "text/plain": [
       "array([1., 1., 1., 1., 1., 1., 1., 1., 1., 1.])"
      ]
     },
     "execution_count": 9,
     "metadata": {},
     "output_type": "execute_result"
    }
   ],
   "source": [
    "ones_float = np.ones(10)\n",
    "ones_float"
   ]
  },
  {
   "cell_type": "code",
   "execution_count": 10,
   "metadata": {},
   "outputs": [
    {
     "data": {
      "text/plain": [
       "array([[0., 0., 0., 0.],\n",
       "       [0., 0., 0., 0.],\n",
       "       [0., 0., 0., 0.]])"
      ]
     },
     "execution_count": 10,
     "metadata": {},
     "output_type": "execute_result"
    }
   ],
   "source": [
    "np.zeros((3,4))"
   ]
  },
  {
   "cell_type": "code",
   "execution_count": 11,
   "metadata": {},
   "outputs": [
    {
     "data": {
      "text/plain": [
       "array([[0., 0., 0., 0.],\n",
       "       [0., 0., 0., 0.],\n",
       "       [0., 0., 0., 0.]])"
      ]
     },
     "execution_count": 11,
     "metadata": {},
     "output_type": "execute_result"
    }
   ],
   "source": [
    "np.empty((3,4))"
   ]
  },
  {
   "cell_type": "markdown",
   "metadata": {},
   "source": [
    "Operations on numpy arrays are very different from those on regular python lists."
   ]
  },
  {
   "cell_type": "code",
   "execution_count": 12,
   "metadata": {},
   "outputs": [
    {
     "data": {
      "text/plain": [
       "array([[0.94525091, 0.78848295, 0.75588927, 0.91682149],\n",
       "       [0.57233793, 0.32824017, 0.60590707, 0.86680137],\n",
       "       [0.24369677, 0.35935549, 0.63635205, 0.4647777 ]])"
      ]
     },
     "execution_count": 12,
     "metadata": {},
     "output_type": "execute_result"
    }
   ],
   "source": [
    "x"
   ]
  },
  {
   "cell_type": "code",
   "execution_count": 13,
   "metadata": {},
   "outputs": [
    {
     "name": "stdout",
     "output_type": "stream",
     "text": [
      "Add 1 to every element\n"
     ]
    },
    {
     "data": {
      "text/plain": [
       "(array([[0.94525091, 0.78848295, 0.75588927, 0.91682149],\n",
       "        [0.57233793, 0.32824017, 0.60590707, 0.86680137],\n",
       "        [0.24369677, 0.35935549, 0.63635205, 0.4647777 ]]),\n",
       " array([[1.94525091, 1.78848295, 1.75588927, 1.91682149],\n",
       "        [1.57233793, 1.32824017, 1.60590707, 1.86680137],\n",
       "        [1.24369677, 1.35935549, 1.63635205, 1.4647777 ]]))"
      ]
     },
     "execution_count": 13,
     "metadata": {},
     "output_type": "execute_result"
    }
   ],
   "source": [
    "print(\"Add 1 to every element\")\n",
    "y = x + 1\n",
    "x, y"
   ]
  },
  {
   "cell_type": "markdown",
   "metadata": {},
   "source": [
    "This notion of adding 1 to every element, by virtually creating an array of 1's is called **broadcasting**"
   ]
  },
  {
   "cell_type": "code",
   "execution_count": 14,
   "metadata": {},
   "outputs": [
    {
     "data": {
      "text/plain": [
       "[1, 1, 1, 1, 1, 1.0, 1.0, 1.0, 1.0, 1.0]"
      ]
     },
     "execution_count": 14,
     "metadata": {},
     "output_type": "execute_result"
    }
   ],
   "source": [
    "int_ones_list = [1, 1, 1, 1, 1]\n",
    "float_ones_list = [1., 1., 1., 1., 1.]\n",
    "int_ones_list + float_ones_list"
   ]
  },
  {
   "cell_type": "markdown",
   "metadata": {},
   "source": [
    "This is not perhaps what you wanted....you might have wanted this"
   ]
  },
  {
   "cell_type": "code",
   "execution_count": 15,
   "metadata": {},
   "outputs": [
    {
     "data": {
      "text/plain": [
       "(array([1, 1, 1, 1, 1, 1, 1, 1, 1, 1]),\n",
       " array([1., 1., 1., 1., 1., 1., 1., 1., 1., 1.]),\n",
       " array([2., 2., 2., 2., 2., 2., 2., 2., 2., 2.]))"
      ]
     },
     "execution_count": 15,
     "metadata": {},
     "output_type": "execute_result"
    }
   ],
   "source": [
    "twos = ones + ones_float\n",
    "ones, ones_float, twos"
   ]
  },
  {
   "cell_type": "code",
   "execution_count": 16,
   "metadata": {},
   "outputs": [
    {
     "data": {
      "text/plain": [
       "array([0.32721389, 0.85457944, 0.7182025 , 0.397372  , 0.03897302,\n",
       "       0.66988775, 0.62176555, 0.38873871, 0.58482412, 0.41469794])"
      ]
     },
     "execution_count": 16,
     "metadata": {},
     "output_type": "execute_result"
    }
   ],
   "source": [
    "r = np.random.random(10)\n",
    "r"
   ]
  },
  {
   "cell_type": "code",
   "execution_count": 21,
   "metadata": {},
   "outputs": [
    {
     "data": {
      "text/plain": [
       "array([0. , 0.1, 0.2, 0.3, 0.4, 0.5, 0.6, 0.7, 0.8, 0.9, 1. ])"
      ]
     },
     "execution_count": 21,
     "metadata": {},
     "output_type": "execute_result"
    }
   ],
   "source": [
    "np.linspace(0, 1, 11)"
   ]
  },
  {
   "cell_type": "code",
   "execution_count": 19,
   "metadata": {},
   "outputs": [
    {
     "data": {
      "text/plain": [
       "array([0. , 0.1, 0.2, 0.3, 0.4, 0.5, 0.6, 0.7, 0.8, 0.9])"
      ]
     },
     "execution_count": 19,
     "metadata": {},
     "output_type": "execute_result"
    }
   ],
   "source": [
    "np.arange(0.0, 1.0, 0.1)"
   ]
  },
  {
   "cell_type": "code",
   "execution_count": 22,
   "metadata": {},
   "outputs": [
    {
     "data": {
      "image/png": "[encoded data removed]",
      "text/plain": [
       "<Figure size 432x288 with 1 Axes>"
      ]
     },
     "metadata": {
      "needs_background": "light"
     },
     "output_type": "display_data"
    }
   ],
   "source": [
    "plt.hist(r, bins=np.arange(0.0, 1.0, 0.1));"
   ]
  },
  {
   "cell_type": "code",
   "execution_count": 26,
   "metadata": {},
   "outputs": [
    {
     "data": {
      "text/plain": [
       "<matplotlib.lines.Line2D at 0x7f5c0e073898>"
      ]
     },
     "execution_count": 26,
     "metadata": {},
     "output_type": "execute_result"
    },
    {
     "data": {
      "image/png": "[encoded data removed]",
      "text/plain": [
       "<Figure size 432x288 with 1 Axes>"
      ]
     },
     "metadata": {
      "needs_background": "light"
     },
     "output_type": "display_data"
    }
   ],
   "source": [
    "r2 = np.random.random(100000)\n",
    "plt.hist(r2, bins=np.arange(0.0, 1.0, 0.1), alpha=0.4);\n",
    "plt.axhline(10000, 0, 1, color=\"r\")"
   ]
  },
  {
   "cell_type": "markdown",
   "metadata": {},
   "source": [
    "More broadcasting"
   ]
  },
  {
   "cell_type": "code",
   "execution_count": 27,
   "metadata": {},
   "outputs": [
    {
     "data": {
      "text/plain": [
       "(array([0.65442778, 1.70915888, 1.43640501, 0.79474401, 0.07794604,\n",
       "        1.3397755 , 1.24353111, 0.77747743, 1.16964824, 0.82939588]),\n",
       " array([0.16360694, 0.42728972, 0.35910125, 0.198686  , 0.01948651,\n",
       "        0.33494388, 0.31088278, 0.19436936, 0.29241206, 0.20734897]))"
      ]
     },
     "execution_count": 27,
     "metadata": {},
     "output_type": "execute_result"
    }
   ],
   "source": [
    "r*2, r/2"
   ]
  },
  {
   "cell_type": "code",
   "execution_count": 29,
   "metadata": {},
   "outputs": [
    {
     "data": {
      "text/plain": [
       "(array([0.32721389, 0.85457944, 0.7182025 , 0.397372  , 0.03897302,\n",
       "        0.66988775, 0.62176555, 0.38873871, 0.58482412, 0.41469794]),\n",
       " array([2., 2., 2., 2., 2., 2., 2., 2., 2., 2.]))"
      ]
     },
     "execution_count": 29,
     "metadata": {},
     "output_type": "execute_result"
    }
   ],
   "source": [
    "r, twos"
   ]
  },
  {
   "cell_type": "code",
   "execution_count": 33,
   "metadata": {},
   "outputs": [
    {
     "data": {
      "text/plain": [
       "array([0.65442778, 1.70915888, 1.43640501, 0.79474401, 0.07794604,\n",
       "       1.3397755 , 1.24353111, 0.77747743, 1.16964824, 0.82939588])"
      ]
     },
     "execution_count": 33,
     "metadata": {},
     "output_type": "execute_result"
    }
   ],
   "source": [
    "r * twos"
   ]
  },
  {
   "cell_type": "code",
   "execution_count": 32,
   "metadata": {},
   "outputs": [
    {
     "data": {
      "text/plain": [
       "10.032509880602104"
      ]
     },
     "execution_count": 32,
     "metadata": {},
     "output_type": "execute_result"
    }
   ],
   "source": [
    "np.dot(r, twos)"
   ]
  },
  {
   "cell_type": "markdown",
   "metadata": {},
   "source": [
    "We can also play with 2D arrays"
   ]
  },
  {
   "cell_type": "code",
   "execution_count": 34,
   "metadata": {},
   "outputs": [
    {
     "data": {
      "text/plain": [
       "array([[ 1,  2,  3,  4],\n",
       "       [ 5,  6,  7,  8],\n",
       "       [ 9, 10, 11, 12]])"
      ]
     },
     "execution_count": 34,
     "metadata": {},
     "output_type": "execute_result"
    }
   ],
   "source": [
    "my_array2d = np.array([ [1, 2, 3, 4], [5, 6, 7, 8], [9, 10, 11, 12] ])\n",
    "my_array2d"
   ]
  },
  {
   "cell_type": "code",
   "execution_count": 35,
   "metadata": {},
   "outputs": [
    {
     "data": {
      "text/plain": [
       "(3, 4)"
      ]
     },
     "execution_count": 35,
     "metadata": {},
     "output_type": "execute_result"
    }
   ],
   "source": [
    "my_array2d.shape"
   ]
  },
  {
   "cell_type": "code",
   "execution_count": 36,
   "metadata": {},
   "outputs": [
    {
     "data": {
      "text/plain": [
       "12"
      ]
     },
     "execution_count": 36,
     "metadata": {},
     "output_type": "execute_result"
    }
   ],
   "source": [
    "my_array2d[2, 3]"
   ]
  },
  {
   "cell_type": "markdown",
   "metadata": {},
   "source": [
    "Slicing is supported in 2D arrays.\n",
    "\n",
    "![](images/2dindex_v2.png)"
   ]
  },
  {
   "cell_type": "code",
   "execution_count": 37,
   "metadata": {},
   "outputs": [
    {
     "data": {
      "text/plain": [
       "array([[ 1.94525091,  2.78848295,  3.75588927,  4.91682149],\n",
       "       [ 5.57233793,  6.32824017,  7.60590707,  8.86680137],\n",
       "       [ 9.24369677, 10.35935549, 11.63635205, 12.4647777 ]])"
      ]
     },
     "execution_count": 37,
     "metadata": {},
     "output_type": "execute_result"
    }
   ],
   "source": [
    "x + my_array2d"
   ]
  },
  {
   "cell_type": "code",
   "execution_count": 38,
   "metadata": {},
   "outputs": [
    {
     "data": {
      "text/plain": [
       "array([2., 2., 2.])"
      ]
     },
     "execution_count": 38,
     "metadata": {},
     "output_type": "execute_result"
    }
   ],
   "source": [
    "threetwos = 2.0*np.ones(3)\n",
    "threetwos"
   ]
  },
  {
   "cell_type": "code",
   "execution_count": 39,
   "metadata": {},
   "outputs": [
    {
     "ename": "ValueError",
     "evalue": "operands could not be broadcast together with shapes (3,4) (3,) ",
     "output_type": "error",
     "traceback": [
      "\u001b[0;31m---------------------------------------------------------------------------\u001b[0m",
      "\u001b[0;31mValueError\u001b[0m                                Traceback (most recent call last)",
      "\u001b[0;32m<ipython-input-39-d310043588e3>\u001b[0m in \u001b[0;36m<module>\u001b[0;34m\u001b[0m\n\u001b[0;32m----> 1\u001b[0;31m \u001b[0mmy_array2d\u001b[0m \u001b[0;34m+\u001b[0m \u001b[0mthreetwos\u001b[0m\u001b[0;34m\u001b[0m\u001b[0;34m\u001b[0m\u001b[0m\n\u001b[0m",
      "\u001b[0;31mValueError\u001b[0m: operands could not be broadcast together with shapes (3,4) (3,) "
     ]
    }
   ],
   "source": [
    "my_array2d + threetwos"
   ]
  },
  {
   "cell_type": "markdown",
   "metadata": {},
   "source": [
    "To put this in 2-D array form, we can use reshape:"
   ]
  },
  {
   "cell_type": "code",
   "execution_count": 40,
   "metadata": {},
   "outputs": [
    {
     "data": {
      "text/plain": [
       "array([[2.],\n",
       "       [2.],\n",
       "       [2.]])"
      ]
     },
     "execution_count": 40,
     "metadata": {},
     "output_type": "execute_result"
    }
   ],
   "source": [
    "threetwos.reshape(-1,1)"
   ]
  },
  {
   "cell_type": "markdown",
   "metadata": {},
   "source": [
    "Now we can have some broadcasting fun"
   ]
  },
  {
   "cell_type": "code",
   "execution_count": 41,
   "metadata": {},
   "outputs": [
    {
     "name": "stdout",
     "output_type": "stream",
     "text": [
      "[[ 1  2  3  4]\n",
      " [ 5  6  7  8]\n",
      " [ 9 10 11 12]]\n"
     ]
    },
    {
     "data": {
      "text/plain": [
       "array([[ 2.,  4.,  6.,  8.],\n",
       "       [10., 12., 14., 16.],\n",
       "       [18., 20., 22., 24.]])"
      ]
     },
     "execution_count": 41,
     "metadata": {},
     "output_type": "execute_result"
    }
   ],
   "source": [
    "print(my_array2d)\n",
    "my_array2d*threetwos.reshape(-1,1)"
   ]
  },
  {
   "cell_type": "markdown",
   "metadata": {},
   "source": [
    "You can transpose arrays"
   ]
  },
  {
   "cell_type": "code",
   "execution_count": 42,
   "metadata": {},
   "outputs": [
    {
     "data": {
      "text/plain": [
       "array([[ 1,  2,  3,  4],\n",
       "       [ 5,  6,  7,  8],\n",
       "       [ 9, 10, 11, 12]])"
      ]
     },
     "execution_count": 42,
     "metadata": {},
     "output_type": "execute_result"
    }
   ],
   "source": [
    "my_array2d"
   ]
  },
  {
   "cell_type": "code",
   "execution_count": 43,
   "metadata": {},
   "outputs": [
    {
     "data": {
      "text/plain": [
       "array([[ 1,  5,  9],\n",
       "       [ 2,  6, 10],\n",
       "       [ 3,  7, 11],\n",
       "       [ 4,  8, 12]])"
      ]
     },
     "execution_count": 43,
     "metadata": {},
     "output_type": "execute_result"
    }
   ],
   "source": [
    "my_array2d.T"
   ]
  },
  {
   "cell_type": "code",
   "execution_count": 44,
   "metadata": {},
   "outputs": [
    {
     "data": {
      "text/plain": [
       "array([[ 2., 10., 18.],\n",
       "       [ 4., 12., 20.],\n",
       "       [ 6., 14., 22.],\n",
       "       [ 8., 16., 24.]])"
      ]
     },
     "execution_count": 44,
     "metadata": {},
     "output_type": "execute_result"
    }
   ],
   "source": [
    "my_array2d.T*threetwos"
   ]
  },
  {
   "cell_type": "code",
   "execution_count": 45,
   "metadata": {},
   "outputs": [
    {
     "data": {
      "text/plain": [
       "array([[ 2.,  4.,  6.,  8.],\n",
       "       [10., 12., 14., 16.],\n",
       "       [18., 20., 22., 24.]])"
      ]
     },
     "execution_count": 45,
     "metadata": {},
     "output_type": "execute_result"
    }
   ],
   "source": [
    "new_array = my_array2d.T*threetwos\n",
    "new_array.T"
   ]
  },
  {
   "cell_type": "markdown",
   "metadata": {},
   "source": [
    "Reshape is very general"
   ]
  },
  {
   "cell_type": "code",
   "execution_count": 46,
   "metadata": {},
   "outputs": [
    {
     "data": {
      "text/plain": [
       "array([[ 1,  2,  3],\n",
       "       [ 4,  5,  6],\n",
       "       [ 7,  8,  9],\n",
       "       [10, 11, 12]])"
      ]
     },
     "execution_count": 46,
     "metadata": {},
     "output_type": "execute_result"
    }
   ],
   "source": [
    "my_array2d.reshape(4,3) #whats happening here?"
   ]
  },
  {
   "cell_type": "markdown",
   "metadata": {},
   "source": [
    "### What is probability?\n",
    "\n",
    "Suppose you were to flip a coin. Then you expect not to be able to say whether the next toss would yield a heads or a tails.  You might tell a friend that the odds of getting a heads is equal to to the odds of getting a tails, and that both are $1/2$.\n",
    "\n",
    "This intuitive notion of odds is a **probability**. It comes about because of our physical **model** of the world: say that because of our faith in the U.S. Mint, we might be willing to, without having seen any tosses, say that the coin is fair. In other words, there are two choices, both of which are equally likely.\n",
    "\n",
    "#### Symmetry \n",
    "\n",
    "Consider another example. If we were tossing a 'fair' six-sided dice, we may thus equivalently say that the odds of the dice falling on any one of its sides is $1/6$. Indeed if there are $C$ different equally likely possibilities, we'd expect that the probability of any one particular outcome would be $1/C$.\n",
    "\n",
    "The examples of the coin as well as the dice illustrate the notion of probability springing from **symmetry**. Here we think of probability of of the number 4 on the dice as the ratio:\n",
    "\n",
    "$$\\frac{Number\\: of\\: cases\\: for\\: number\\: 4}{number\\: of\\: possibilities} = \\frac{1}{6},$$\n",
    " assuming equally likely possibilities.\n",
    "\n",
    "In other words, the symmetry refers to the notion that when there are multiple ways for an event to happen, and that then we have an intuitive **model** of fairness between these ways that tells us that none of these are any more likely than the other. \n",
    "\n",
    "#### Probability from a model\n",
    "\n",
    "But now think of an event like an election, say a presidential election. You cant exactly run multiple trials of the election: its a one-off event. But you still want to talk about the likelyhood of a candidate winning. However people do make **models** of elections, based on inputs such as race, age, income, sampling polls, etc. They assign likeyhoods of candidates winning and run large numbers of **simulations** of the election, making predictions based on that. Forecasters like Nate Silver, Sam Wang, And Drew Linzer, made incredibly successfull predictions of the 2012 elections.\n",
    "\n",
    "Or consider what a weather forecaster means when he or she says there is a 90% chance of rain today. Presumably, this conclusion has been made from many computer **simulations** which take in the weather conditions known in the past, and propagated using physics to the current day. The simulations give different results based on the uncertainty in the measurement of past weather, and the inability of the physics to capture the phenomenon exactly (all physics is some approximation to the natural world). But 90% of these simulations show rain.\n",
    "\n",
    "In all of these cases, there is either a model (a fair coin, an election forecasting model, a weather differential equation), or an experiment ( a large number of coin tosses) that is used to **estimate** a probability, or the odds, of an **event** $E$ occuring. \n",
    "\n",
    "#### Combining models and observations\n",
    "\n",
    "In all of these cases, probability is something we speak of, for observations we are to make in the future. And it is something we assign, based on the *model* or belief of the world we have, or on the basis of past observations that we have made, or that we might even imagine that we would make.\n",
    "\n",
    "Consider some additional examples. You might ask the probability of the Yankees winning the next baseball game against the Red Sox. Or you might ask for the probability of a launch failure for the next missile protecting Tel-Aviv. These are not academic questions: lots of betting money and lives depend upon them respectively. In both cases there is some past data, and some other inputs such as say, weather conditions, which might be used to construct a model, which is then used to predict the fate of the next game or launch. \n",
    "\n",
    "They key takeaway is this: for some reasons, and possibly using some data, we have constructed a model of the universe. In other words, we have combined **prior** beliefs and past frequencies respectively. This notion of such combination is yet another notion of probability, called the **Bayesian** notion of probability. And we can now use this model to make predictions, such us the future odds of a particular event happening."
   ]
  },
  {
   "cell_type": "markdown",
   "metadata": {},
   "source": [
    "### Testing a model\n",
    "\n",
    "We can test this model by having carried out a large number of coin flips. You would do, or imagine doing, a large number of flips or **trials** $N$, and finding the number of times you got heads $N_H$. Then the probability of getting heads would be \n",
    "$$\\frac{N_H}{N}.$$\n",
    "\n",
    "#### Probability as frequency\n",
    "\n",
    "This is the notion of probability as a **relative frequency**: if there are multiple ways an **event** like the tossing of a coin can happen, lets look at multiple trials of the event and see the fraction of times one or other of these ways happened. "
   ]
  },
  {
   "cell_type": "markdown",
   "metadata": {},
   "source": [
    "#### Simulating the results of the model\n",
    "\n",
    "We dont have a coin right now. So let us **simulate** this process on a computer. To do this we will use a form of the **random number generator** built into `numpy`. In particular, we will use the function `np.random.choice`, which will with equal probability for all items pick an item from a list (thus if the list is of size 6, it will pick one of the six list items each time, with a probability 1/6). "
   ]
  },
  {
   "cell_type": "code",
   "execution_count": 52,
   "metadata": {},
   "outputs": [
    {
     "name": "stdout",
     "output_type": "stream",
     "text": [
      "Throws: T T T T T T H H H H T T T T T H H T T T H H T H H H T H T T H T H H H T H H T H\n",
      "Number of Heads: 19\n",
      "p1 = Number of Heads/Total Throws: 0.475\n"
     ]
    }
   ],
   "source": [
    "def throw_a_coin(N):\n",
    "    return np.random.choice(['H','T'], size=N)\n",
    "throws=throw_a_coin(40)\n",
    "print(\"Throws:\",\" \".join(throws))\n",
    "print(\"Number of Heads:\", np.sum(throws=='H'))\n",
    "print(\"p1 = Number of Heads/Total Throws:\", np.sum(throws=='H')/40.)"
   ]
  },
  {
   "cell_type": "code",
   "execution_count": 54,
   "metadata": {},
   "outputs": [
    {
     "data": {
      "text/plain": [
       "0.475"
      ]
     },
     "execution_count": 54,
     "metadata": {},
     "output_type": "execute_result"
    }
   ],
   "source": [
    "np.mean(throws == 'H')"
   ]
  },
  {
   "cell_type": "markdown",
   "metadata": {},
   "source": [
    "Notice that you do not necessarily get 20 heads.\n",
    "\n",
    "Now say that we run the entire process again, a second **replication** to obtain a second sample. Then we ask the same question: what is the fraction of heads we get this time? Lets call the odds of heads in sample 2, then, $p_2$:"
   ]
  },
  {
   "cell_type": "code",
   "execution_count": 59,
   "metadata": {},
   "outputs": [
    {
     "name": "stdout",
     "output_type": "stream",
     "text": [
      "Number of Heads: 19\n",
      "p1 = Number of Heads/Total Throws: 0.475\n"
     ]
    }
   ],
   "source": [
    "throws=throw_a_coin(40)\n",
    "print(\"Number of Heads:\", np.sum(throws=='H'))\n",
    "print(\"p1 = Number of Heads/Total Throws:\", np.sum(throws=='H')/40.)"
   ]
  },
  {
   "cell_type": "code",
   "execution_count": 60,
   "metadata": {},
   "outputs": [
    {
     "name": "stdout",
     "output_type": "stream",
     "text": [
      "Number of Heads: 5086\n",
      "p1 = Number of Heads/Total Throws: 0.5086\n"
     ]
    }
   ],
   "source": [
    "throws=throw_a_coin(10000)\n",
    "print(\"Number of Heads:\", np.sum(throws=='H'))\n",
    "print(\"p1 = Number of Heads/Total Throws:\", np.sum(throws=='H')/10000.)"
   ]
  },
  {
   "cell_type": "markdown",
   "metadata": {},
   "source": [
    "As you can see, the larger number of trials we do, the closer we seem to get to half the tosses showing up heads. Lets see this more systematically. We'll use `np.arange` which gives us a grid:"
   ]
  },
  {
   "cell_type": "code",
   "execution_count": 61,
   "metadata": {},
   "outputs": [
    {
     "data": {
      "text/plain": [
       "(array([0, 1, 2, 3, 4, 5, 6, 7, 8, 9]),\n",
       " array([10, 11, 12, 13, 14, 15, 16, 17, 18, 19]),\n",
       " array([10, 12, 14, 16, 18]))"
      ]
     },
     "execution_count": 61,
     "metadata": {},
     "output_type": "execute_result"
    }
   ],
   "source": [
    "np.arange(10), np.arange(10,20), np.arange(10,20, 2)"
   ]
  },
  {
   "cell_type": "markdown",
   "metadata": {},
   "source": [
    "We are going to do many more trials. Pay attention to the plotting commands as well."
   ]
  },
  {
   "cell_type": "code",
   "execution_count": 63,
   "metadata": {},
   "outputs": [
    {
     "name": "stdout",
     "output_type": "stream",
     "text": [
      "[ 1000  2000  3000  4000  5000  6000  7000  8000  9000 10000 11000 12000\n",
      " 13000 14000 15000 16000 17000 18000 19000 20000 21000 22000 23000 24000\n",
      " 25000 26000 27000 28000 29000 30000 31000 32000 33000 34000 35000 36000\n",
      " 37000 38000 39000]\n"
     ]
    },
    {
     "data": {
      "image/png": "[encoded data removed]",
      "text/plain": [
       "<Figure size 432x288 with 1 Axes>"
      ]
     },
     "metadata": {
      "needs_background": "light"
     },
     "output_type": "display_data"
    }
   ],
   "source": [
    "trials=np.arange(1000, 40000, 1000)\n",
    "print(trials)\n",
    "plt.plot(trials, [np.sum(throw_a_coin(j)=='H')/np.float(j) for j in trials], 'o-', alpha=0.2);\n",
    "plt.axhline(0.5, 0, 1, color='r');\n",
    "plt.xlabel('number of trials');\n",
    "plt.ylabel('probability of heads from simulation');\n",
    "plt.title('frequentist probability of heads');"
   ]
  },
  {
   "cell_type": "markdown",
   "metadata": {},
   "source": [
    "Thus, the true odds **fluctuate** about their long-run value of 0.5, in accordance with the model of a fair coin (which we encoded in our simulation by having `np.random.choice` choose between two possibilities with equal probability), with the fluctuations becoming much smaller (we shall talk a lot more about this later in the book). These **fluctations** are what give rise to probability distributions.\n",
    "\n",
    "Each finite length run is called a **sample**, which has been obtained from the **generative** model of our fair coin. Its called generative as we can use the model to generate, using simulation, a set of samples we can play with to understand a model. Such **simulation from a model** is a key technique which we will come back to again and again in learning from data."
   ]
  },
  {
   "cell_type": "markdown",
   "metadata": {},
   "source": [
    "### The rules of probability\n",
    "\n",
    "We have seen multiple notions of probability so far. One might assign probabilities based on symmetry, for eg, 2 sides of a fair coin, or six sides of a fair dice. One might assign probabilities based on doing an experiment. such as the long run number of heads in many coin flips. One might assign probabilities based on beliefs; and one might even assign probabilities to events that have no chance of repeating, such as the 2012 presidential election, or the probability of rain between 2pm and 6pm today.\n",
    "\n",
    "Thus, the very definition of probability seems to be wishy-washy and subjective. Thus you might wonder how you might work with such probabilities. For this, we turn to the rules of probability.\n",
    "\n",
    "The rules dont care where our probabilities come from, as to how we estimated them, as long as they behave in intuitively sensible ways. \n",
    "\n",
    "Consider an example: \n",
    "\n",
    "E is the event of getting a heads in a first coin toss, and F is the same for a second coin toss. Here $\\Omega$, the set of all possibilities that can happen when you toss two coins is $\\{HH, HT, TH, TT\\}$. Since E only specifies that the first toss is heads, $E=\\{HT, HH\\}$. Similarly $F= {HH, TH}$ The set of all events that are not E then is $\\tilde{E} = {TH, TT}$.\n",
    "\n",
    "These sets, along with some others are captured in the venn diagram below:\n",
    "\n",
    "![2 coin toss venn diagram](images/venn.png) \n",
    "\n",
    "The critical notions of probability are:\n",
    "\n",
    "**Something must happen**\n",
    "\n",
    "$$P(\\Omega) =1$$\n",
    "\n",
    "**Complementary events must have probabilities summing to 1**\n",
    "\n",
    "Either E happened or didnt. So,\n",
    "\n",
    "$$P(E) + P(\\sim E) = 1$$\n",
    "\n",
    "**The Multiply/And/Intersection Formula for independent events**: If E and F are independent events, the probability of both events happening together $P(EF)$ or $P(E \\cap F)$ (read as E and F or E intersection F, respectively) is the multiplication of the individual probabilities.\n",
    "\n",
    "$$ P(EF) = P(E) P(F) .$$\n",
    "\n",
    "If you made the two independent coin tosses in our example, and you had a fair coin, the probability of both coming up heads is $(1/2)*(1/2) = 1/4$. This makes intuitive sense: half the time the first coin comes up heads, and then 1/2 the time the second coin comes up heads, so its 1/4 of the times that both come up heads.\n",
    "\n",
    "\n",
    "**The Plus/Or/Union Formula** \n",
    "\n",
    "We can now ask the question, what is $P(E+F)$, the odds of E alone, F alone, or both together. Translated into English, we are asking, whats the probability that only the first toss was heads, or only the second toss was heads, or that both came up heads?  Or in other words, what are the odds of at least one heads? The answer to this question is given by the rule:\n",
    "\n",
    "$$P(E+F) = P(E) + P(F) - P(EF),$$ \n",
    "\n",
    "the \"plus\" formula, where E+F, read as E or F (also $E \\cup F$, reads as E union F) means \"E alone, F alone, **or** both together\". This rule is a hard one to understand and has a lot of notation, so lets examine it in some detail.\n",
    "\n",
    "There are four ways that these two tosses can arrange themselves, as illustrated by this diagram.\n",
    "\n",
    "![2 coin flips](images/2flips.png) \n",
    "\n",
    "We can have a HH, HT, TH, or TT. In three out of 4 of these cases, either the first toss was heads, or the second was heads. Thus $P(E+F)=3/4$. \n",
    "\n",
    "The formula says, add the odds that \"the first toss was a heads, without worrying about the second one (1/2), to the probability that the second toss was a heads, without worrying about the first one\" (1/2). Since this double counts the situation where both are heads; subtract that (1/4):\n",
    "\n",
    "\\begin{eqnarray*}\n",
    "P(E+F) \\, & = &\\, P(E) + P(F) - P(EF)\\\\\n",
    "\\frac{3}{4} \\, & = &\\, \\frac{1}{2} + \\frac{1}{2} - \\frac{1}{4} \n",
    "\\end{eqnarray*}\n"
   ]
  },
  {
   "cell_type": "markdown",
   "metadata": {},
   "source": [
    "### A simple Election Model\n",
    "\n",
    "In the last section, we made a simple simulation of a coin-toss on the computer from a fair-coin model which associated equal probability with heads and tails. Let us consider another model here, a table of probabilities that [PredictWise](http://www.predictwise.com/results/2012/president) made on October 2, 2012 for the US presidential elections. \n",
    "PredictWise aggregated polling data and, for each state, estimated the probability that the Obama or Romney would win. Here are those estimated probabilities:"
   ]
  },
  {
   "cell_type": "code",
   "execution_count": 64,
   "metadata": {},
   "outputs": [
    {
     "data": {
      "text/html": [
       "<div>\n",
       "<style scoped>\n",
       "    .dataframe tbody tr th:only-of-type {\n",
       "        vertical-align: middle;\n",
       "    }\n",
       "\n",
       "    .dataframe tbody tr th {\n",
       "        vertical-align: top;\n",
       "    }\n",
       "\n",
       "    .dataframe thead th {\n",
       "        text-align: right;\n",
       "    }\n",
       "</style>\n",
       "<table border=\"1\" class=\"dataframe\">\n",
       "  <thead>\n",
       "    <tr style=\"text-align: right;\">\n",
       "      <th></th>\n",
       "      <th>Obama</th>\n",
       "      <th>Romney</th>\n",
       "      <th>Votes</th>\n",
       "    </tr>\n",
       "    <tr>\n",
       "      <th>States</th>\n",
       "      <th></th>\n",
       "      <th></th>\n",
       "      <th></th>\n",
       "    </tr>\n",
       "  </thead>\n",
       "  <tbody>\n",
       "    <tr>\n",
       "      <th>Alabama</th>\n",
       "      <td>0.000</td>\n",
       "      <td>1.000</td>\n",
       "      <td>9</td>\n",
       "    </tr>\n",
       "    <tr>\n",
       "      <th>Alaska</th>\n",
       "      <td>0.000</td>\n",
       "      <td>1.000</td>\n",
       "      <td>3</td>\n",
       "    </tr>\n",
       "    <tr>\n",
       "      <th>Arizona</th>\n",
       "      <td>0.062</td>\n",
       "      <td>0.938</td>\n",
       "      <td>11</td>\n",
       "    </tr>\n",
       "    <tr>\n",
       "      <th>Arkansas</th>\n",
       "      <td>0.000</td>\n",
       "      <td>1.000</td>\n",
       "      <td>6</td>\n",
       "    </tr>\n",
       "    <tr>\n",
       "      <th>California</th>\n",
       "      <td>1.000</td>\n",
       "      <td>0.000</td>\n",
       "      <td>55</td>\n",
       "    </tr>\n",
       "  </tbody>\n",
       "</table>\n",
       "</div>"
      ],
      "text/plain": [
       "            Obama  Romney  Votes\n",
       "States                          \n",
       "Alabama     0.000   1.000      9\n",
       "Alaska      0.000   1.000      3\n",
       "Arizona     0.062   0.938     11\n",
       "Arkansas    0.000   1.000      6\n",
       "California  1.000   0.000     55"
      ]
     },
     "execution_count": 64,
     "metadata": {},
     "output_type": "execute_result"
    }
   ],
   "source": [
    "predictwise = pd.read_csv('data/predictwise.csv').set_index('States')\n",
    "predictwise.head()"
   ]
  },
  {
   "cell_type": "markdown",
   "metadata": {},
   "source": [
    "Each row is the probability predicted by Predictwise that Romney or Obama would win a state. The votes column lists the number of electoral college votes in that state. \n",
    "\n",
    "Remember that simulation is used in different ways in the modelling process. Simulations might be used to propagate differential equations which describe the weather from different initial conditions. In this case they are used to create the model. In the coin flips case, they are used to illustrate the predictions of the model of a fair coin. This example is in the same spirit: we are given a (somehow obtained) list of win probabilities for the states of the US. \n",
    "Later on in this book we will explore some approaches to estimating probabilities like these and quatifying our uncertainty about them. But for the time being, we will focus on how to make a prediction assuming these probabilities are known.\n",
    "\n",
    "Lets plot a map of the probability that Obama wins each state, according to this prediction."
   ]
  },
  {
   "cell_type": "code",
   "execution_count": 65,
   "metadata": {
    "figure_type": "w"
   },
   "outputs": [
    {
     "data": {
      "image/png": "[encoded data removed]",
      "text/plain": [
       "<Figure size 864x648 with 2 Axes>"
      ]
     },
     "metadata": {
      "needs_background": "light"
     },
     "output_type": "display_data"
    }
   ],
   "source": [
    "from statesplot import make_map, load_states_geom\n",
    "s2p = load_states_geom(\"data/us-states.json\")\n",
    "make_map(s2p, predictwise.Obama, \"P(Obama): PredictWise\");"
   ]
  },
  {
   "cell_type": "markdown",
   "metadata": {},
   "source": [
    "You might be tempted from seeing this map to wonder why Romney ever thought he would win this election. But lets be patient: remember these are just probabilities, and this is our model of the election as of October 12th, 2012.\n",
    "\n",
    "In the case of the tossed coins, even though we had a model which said that the probability of heads was 0.5, there were sequences of flips in which more or less than half the flips were heads. Similarly, here, if the probability of Romney winning in Arizona is 0.938, it means that if somehow, there were 1000 replications with an election each, Romney would win in 938 of those Arizonas **on the average** across the replications. And there would be some samples with Romney winning more, and some with less. We can run these **simulated** universes on a computer though not in real life.\n",
    "\n",
    "#### Simulating the model\n",
    "\n",
    "To do this, \n",
    "we will assume that the outcome in each state is the result of an independent coin flip whose probability of coming up Obama is given by the Predictwise state-wise win probabilities. Lets write a function `simulate_election` that uses this **predictive model** to simulate the outcome of the election given a table of probabilities.\n",
    "\n",
    "In the code below, each column simulates a single outcome from the 50 states + DC by choosing a random number between 0 and 1. Obama wins that simulation if the random number is $<$ the win probability. If he wins that simulation, we add in the electoral votes for that state, otherwise we dont. We do this `n_sim` times and return a list of total Obama electoral votes in each simulation."
   ]
  },
  {
   "cell_type": "markdown",
   "metadata": {},
   "source": [
    "Lets unpack this function a bit, as a lot goes on.\n",
    "\n",
    "First we decide to make, say 100 simulations. We'll create 51 rows of 100 random numbers (100 columns) between 0 and 1"
   ]
  },
  {
   "cell_type": "code",
   "execution_count": 70,
   "metadata": {},
   "outputs": [
    {
     "name": "stdout",
     "output_type": "stream",
     "text": [
      "(51, 1000)\n"
     ]
    },
    {
     "data": {
      "text/plain": [
       "array([[0.80187089, 0.68674211, 0.2321233 , ..., 0.29177717, 0.24244037,\n",
       "        0.60653473],\n",
       "       [0.32970217, 0.72352317, 0.48620347, ..., 0.62608917, 0.79578723,\n",
       "        0.28103245],\n",
       "       [0.53462889, 0.52318499, 0.25306127, ..., 0.93669362, 0.19692671,\n",
       "        0.92934431],\n",
       "       ...,\n",
       "       [0.04533579, 0.19121304, 0.59138642, ..., 0.6520698 , 0.25408333,\n",
       "        0.55268   ],\n",
       "       [0.21157274, 0.68397837, 0.09160427, ..., 0.47136588, 0.81736672,\n",
       "        0.34425033],\n",
       "       [0.84358753, 0.59221907, 0.30602109, ..., 0.33955222, 0.2957772 ,\n",
       "        0.87842574]])"
      ]
     },
     "execution_count": 70,
     "metadata": {},
     "output_type": "execute_result"
    }
   ],
   "source": [
    "sims = np.random.uniform(size=(51, 1000))\n",
    "print(sims.shape)\n",
    "sims"
   ]
  },
  {
   "cell_type": "markdown",
   "metadata": {},
   "source": [
    "Now, consider the sixth row, or sixth state, Colorado"
   ]
  },
  {
   "cell_type": "code",
   "execution_count": 71,
   "metadata": {},
   "outputs": [
    {
     "name": "stdout",
     "output_type": "stream",
     "text": [
      "Obama     0.807\n",
      "Romney    0.193\n",
      "Votes     9.000\n",
      "Name: Colorado, dtype: float64\n"
     ]
    },
    {
     "data": {
      "text/plain": [
       "array([4.91036071e-01, 6.68601358e-01, 7.80162727e-01, 7.99579649e-01,\n",
       "       9.52055348e-01, 9.51722964e-01, 4.59952493e-02, 7.30586344e-01,\n",
       "       4.80055152e-01, 3.06999111e-01, 8.15026221e-01, 1.67209664e-02,\n",
       "       8.62141854e-01, 7.65296646e-01, 9.96063057e-01, 6.24677930e-01,\n",
       "       5.11358510e-01, 3.29222648e-01, 4.75214003e-01, 2.87578603e-01,\n",
       "       5.92384387e-02, 1.03455313e-01, 5.27754958e-01, 4.12781914e-01,\n",
       "       4.09652240e-01, 3.49729815e-01, 2.67780469e-01, 4.70429238e-01,\n",
       "       8.21645815e-01, 6.81797879e-01, 2.71510936e-01, 4.32413139e-01,\n",
       "       2.67590149e-01, 8.25827150e-01, 8.15407556e-01, 2.13375936e-01,\n",
       "       5.95065337e-01, 9.22597715e-01, 5.58754585e-02, 6.17835986e-01,\n",
       "       7.82823456e-01, 9.42943918e-01, 1.73813657e-01, 6.66709504e-01,\n",
       "       1.46046041e-01, 5.58387108e-01, 8.26458010e-01, 5.30920257e-01,\n",
       "       7.60954440e-01, 4.84832369e-01, 9.43980548e-01, 9.90520486e-01,\n",
       "       7.78277675e-01, 2.76263595e-01, 3.84424513e-01, 6.57901779e-01,\n",
       "       9.33546025e-01, 6.26779071e-01, 2.52379193e-01, 7.80367605e-01,\n",
       "       9.88425296e-01, 2.75460681e-01, 6.14953871e-01, 7.37060057e-01,\n",
       "       4.29626920e-02, 3.32741796e-01, 2.14266782e-01, 5.57161436e-01,\n",
       "       4.40170157e-01, 5.47396619e-01, 5.12655046e-01, 6.38983949e-01,\n",
       "       4.46543713e-01, 8.92706035e-01, 6.92865486e-01, 7.93386088e-01,\n",
       "       5.24810207e-01, 6.20936645e-01, 6.24273613e-01, 9.97602331e-01,\n",
       "       7.54878383e-01, 9.86420267e-01, 4.19221018e-02, 8.45490046e-01,\n",
       "       5.33535775e-01, 9.17109673e-01, 1.43071254e-01, 8.24216876e-01,\n",
       "       8.06718166e-01, 5.63442023e-01, 1.97114574e-01, 7.02114856e-01,\n",
       "       1.32304402e-01, 9.08492794e-02, 8.74210050e-01, 6.94465016e-01,\n",
       "       6.51153664e-03, 6.53555497e-01, 7.60841396e-01, 7.62450942e-01,\n",
       "       1.09166270e-01, 6.09505186e-01, 5.23389917e-01, 2.41225814e-01,\n",
       "       8.76321288e-01, 4.63918058e-01, 3.04368804e-01, 1.00520202e-01,\n",
       "       5.77167828e-01, 2.01474047e-01, 3.02182418e-01, 8.93420113e-01,\n",
       "       4.45062116e-01, 2.20645912e-01, 7.50974953e-01, 7.15359250e-01,\n",
       "       2.34347252e-01, 7.96065777e-01, 7.86211215e-01, 5.68284322e-01,\n",
       "       4.76351772e-01, 3.60411475e-01, 3.53282133e-01, 5.92877381e-01,\n",
       "       6.44703997e-01, 1.47132239e-01, 4.06361467e-01, 2.69309060e-01,\n",
       "       7.20619928e-02, 5.33143144e-01, 9.09359913e-02, 4.01463291e-01,\n",
       "       2.45641443e-01, 5.49650502e-01, 4.01297159e-01, 8.83758205e-01,\n",
       "       7.85920608e-01, 5.92793322e-01, 4.65652536e-01, 9.89999835e-01,\n",
       "       9.03404306e-01, 6.78664428e-01, 5.32719316e-01, 4.82863216e-01,\n",
       "       4.86980012e-01, 3.42691859e-01, 8.76263555e-01, 8.05684404e-01,\n",
       "       6.76249040e-01, 2.84745403e-01, 1.14644731e-01, 6.85898065e-01,\n",
       "       8.41273229e-01, 9.33467728e-01, 2.44009963e-01, 3.09703541e-01,\n",
       "       9.17391939e-01, 7.06933947e-01, 8.92882717e-01, 1.29755151e-01,\n",
       "       3.98013230e-01, 1.30464053e-01, 3.87673592e-01, 4.39688849e-01,\n",
       "       4.46331376e-01, 5.39688940e-01, 2.28571269e-01, 2.37436433e-01,\n",
       "       9.27062970e-01, 4.11569566e-01, 5.10791273e-01, 1.02793332e-01,\n",
       "       3.05548903e-01, 7.83194780e-01, 4.46574898e-01, 1.86596645e-02,\n",
       "       5.76693586e-01, 6.15254641e-01, 3.05757265e-01, 1.61409878e-01,\n",
       "       1.06903213e-01, 4.76617234e-01, 7.21569432e-02, 7.47493103e-01,\n",
       "       8.30556017e-01, 3.40612639e-01, 6.41612627e-01, 7.01434714e-01,\n",
       "       3.60460065e-01, 9.60999095e-01, 7.41936551e-01, 1.41986425e-01,\n",
       "       2.45458596e-01, 8.80369913e-01, 4.04498196e-01, 4.72669945e-01,\n",
       "       1.34816161e-01, 9.23987103e-01, 1.58042622e-01, 2.99886853e-01,\n",
       "       8.56389601e-01, 8.49018057e-01, 4.66166837e-01, 7.99064650e-02,\n",
       "       3.89537116e-01, 4.32502236e-01, 7.97389492e-01, 2.72203543e-01,\n",
       "       7.27047025e-01, 3.07488313e-01, 5.07227425e-01, 6.49567573e-01,\n",
       "       7.60827784e-01, 5.12600601e-01, 6.61574583e-01, 6.65015416e-01,\n",
       "       6.27686863e-01, 6.48385561e-01, 4.88881229e-01, 3.38371699e-02,\n",
       "       4.69706863e-01, 2.79120423e-01, 7.75338495e-01, 4.65460098e-01,\n",
       "       2.28574485e-01, 8.57521764e-01, 6.22744385e-01, 5.04902474e-01,\n",
       "       6.79468799e-01, 3.92227019e-01, 4.51877182e-01, 3.88528840e-01,\n",
       "       9.57545071e-02, 1.71149970e-01, 3.71379832e-01, 2.50461399e-01,\n",
       "       2.22312161e-01, 6.05153937e-01, 1.87781220e-01, 3.90115734e-02,\n",
       "       2.38485316e-01, 4.82704646e-01, 2.40556368e-01, 6.08913809e-01,\n",
       "       8.77374508e-01, 6.20138560e-01, 1.76414823e-01, 9.71562761e-01,\n",
       "       7.55261436e-02, 2.97881905e-01, 6.81131280e-02, 5.63125455e-02,\n",
       "       8.50908754e-01, 4.03338233e-01, 1.61684878e-01, 8.58269228e-01,\n",
       "       1.91360227e-01, 7.25904650e-01, 2.00865074e-01, 5.46290364e-01,\n",
       "       8.63206333e-01, 3.84856252e-01, 9.25120407e-01, 1.53420510e-01,\n",
       "       9.94334503e-01, 7.63506010e-01, 9.10417471e-01, 6.64719722e-01,\n",
       "       8.20402927e-01, 5.54783320e-01, 1.06760980e-02, 1.23174165e-02,\n",
       "       3.23606845e-01, 5.49203016e-01, 8.22604366e-01, 7.08954020e-01,\n",
       "       4.29893841e-01, 8.06957245e-01, 2.94649481e-01, 6.84398806e-01,\n",
       "       3.76991756e-01, 9.54341389e-01, 6.86888907e-02, 3.57742289e-01,\n",
       "       5.60385531e-02, 3.34071089e-02, 1.20947438e-01, 4.38068858e-01,\n",
       "       8.95266488e-01, 1.41279220e-01, 3.57726324e-01, 4.86988173e-01,\n",
       "       9.35196203e-01, 1.95066269e-01, 1.35982431e-02, 9.62475052e-01,\n",
       "       6.28662478e-01, 6.24803382e-01, 4.00206305e-01, 1.33893275e-02,\n",
       "       4.10393789e-01, 5.51627554e-01, 7.11963438e-01, 1.71137559e-01,\n",
       "       9.05601217e-01, 4.08755735e-01, 1.25549503e-01, 4.92426378e-01,\n",
       "       8.14692474e-02, 4.35595324e-01, 2.22826678e-01, 1.52665241e-01,\n",
       "       5.23347666e-01, 3.24460217e-01, 3.04533214e-01, 3.12531963e-01,\n",
       "       6.53502412e-01, 1.21547539e-01, 8.61750503e-02, 7.13697460e-01,\n",
       "       5.48334615e-01, 2.87121382e-01, 8.76626236e-01, 4.51688642e-01,\n",
       "       2.91150743e-01, 9.05054125e-01, 8.35222890e-01, 2.46036222e-01,\n",
       "       7.12600186e-01, 4.88856848e-01, 4.90537316e-01, 8.88485272e-01,\n",
       "       2.96648475e-01, 3.46183780e-01, 3.33110023e-01, 8.24571194e-02,\n",
       "       7.90500167e-01, 4.18391803e-01, 4.93520039e-01, 4.12741815e-01,\n",
       "       7.87394807e-01, 9.29506062e-01, 7.58801795e-01, 4.24554146e-01,\n",
       "       4.37698392e-02, 1.58206178e-01, 5.21333787e-01, 8.50637432e-01,\n",
       "       7.55057404e-01, 4.90302685e-01, 8.28100916e-01, 9.58702530e-01,\n",
       "       5.56650157e-01, 2.98566020e-02, 2.10697703e-01, 4.78098942e-01,\n",
       "       9.24871762e-01, 1.69028529e-01, 3.47839373e-01, 3.05218749e-01,\n",
       "       4.75661128e-01, 4.79963083e-01, 2.36213360e-01, 6.08336094e-01,\n",
       "       4.57180037e-01, 3.60898418e-01, 9.24111907e-01, 4.23792156e-01,\n",
       "       6.19925533e-01, 8.78193346e-01, 5.51608969e-01, 9.23283367e-01,\n",
       "       5.75543153e-01, 8.94119266e-01, 6.23469926e-01, 5.96726961e-01,\n",
       "       6.81568997e-01, 2.20243588e-01, 3.24249162e-01, 8.26294232e-01,\n",
       "       6.48649290e-02, 4.83217162e-01, 5.17557991e-01, 5.71869146e-02,\n",
       "       9.85714668e-01, 5.58831501e-01, 2.12985618e-02, 4.27755806e-01,\n",
       "       2.23787458e-01, 6.03535893e-01, 3.41819687e-01, 4.66056713e-01,\n",
       "       9.61163875e-01, 4.68808305e-01, 2.35766430e-01, 3.77699168e-02,\n",
       "       5.54788166e-01, 9.20433594e-01, 5.57296361e-02, 6.31649324e-01,\n",
       "       1.43866843e-02, 2.96969049e-01, 7.68594657e-01, 9.81285660e-01,\n",
       "       5.16712273e-02, 6.32510875e-01, 7.01042394e-01, 8.20952890e-01,\n",
       "       5.40093283e-01, 6.41252093e-01, 2.47861889e-02, 4.91702445e-01,\n",
       "       9.22286718e-01, 5.85703453e-01, 2.74619656e-01, 1.23390373e-01,\n",
       "       4.76459991e-01, 3.62383717e-01, 1.56160572e-01, 6.76604274e-01,\n",
       "       4.37371498e-02, 7.68531952e-01, 2.41848653e-01, 1.04988064e-01,\n",
       "       6.44043472e-01, 9.11110261e-01, 1.19911015e-01, 7.48941672e-01,\n",
       "       3.79851224e-01, 4.51781040e-01, 2.61336894e-01, 6.24561499e-01,\n",
       "       6.23542491e-01, 1.73956418e-01, 8.42236517e-01, 9.60465625e-01,\n",
       "       2.38706636e-02, 5.93319577e-01, 9.71413846e-01, 6.26562824e-01,\n",
       "       1.61147478e-01, 4.04871519e-01, 9.68974715e-01, 5.74614811e-01,\n",
       "       9.53358457e-01, 1.49970862e-01, 1.46252024e-01, 5.48702133e-01,\n",
       "       2.83452024e-01, 3.72038089e-01, 3.48892879e-02, 9.38931408e-01,\n",
       "       7.52124660e-01, 7.01992839e-01, 4.91239167e-01, 9.44403420e-01,\n",
       "       9.30442118e-01, 1.83054827e-01, 1.67064995e-01, 5.65348068e-01,\n",
       "       6.25753105e-01, 1.00448891e-01, 2.27137496e-01, 8.55918564e-01,\n",
       "       4.19076279e-01, 2.81254455e-01, 6.97601070e-01, 4.34733494e-02,\n",
       "       7.55193728e-01, 8.58845439e-01, 1.68335883e-01, 3.00004382e-02,\n",
       "       8.06925367e-01, 2.25146032e-01, 9.80227157e-01, 9.24590600e-01,\n",
       "       6.11840764e-01, 8.87591146e-01, 1.66607555e-01, 4.31549562e-01,\n",
       "       1.90526245e-01, 4.74235185e-01, 3.76268769e-01, 7.59680897e-01,\n",
       "       7.15623124e-01, 8.38139937e-01, 4.02579160e-01, 6.91381517e-01,\n",
       "       9.96543455e-01, 5.34227033e-01, 4.15646650e-01, 5.06503335e-01,\n",
       "       5.82200622e-02, 1.43906888e-01, 6.62721866e-01, 7.39289050e-01,\n",
       "       6.61516670e-01, 1.83937235e-01, 3.32685355e-01, 6.40024784e-01,\n",
       "       8.72120148e-02, 7.82379800e-02, 4.85622758e-02, 2.90310837e-01,\n",
       "       4.51012241e-01, 7.15180868e-01, 1.73238233e-01, 4.24997189e-01,\n",
       "       7.17679561e-01, 7.84733767e-01, 8.91397942e-01, 6.36428921e-01,\n",
       "       8.43432134e-01, 7.57527319e-01, 6.88457156e-01, 2.38040225e-01,\n",
       "       1.05327800e-02, 9.09475172e-01, 9.15865355e-01, 9.72226929e-01,\n",
       "       1.20918214e-01, 8.93442903e-01, 3.37549698e-01, 6.87218246e-01,\n",
       "       1.01145639e-03, 9.84389065e-01, 3.95187516e-01, 6.65835877e-01,\n",
       "       7.09373511e-02, 3.30239438e-01, 7.82088178e-02, 6.45905881e-01,\n",
       "       9.80263306e-01, 3.83612524e-01, 2.08177823e-01, 8.61671514e-01,\n",
       "       7.27815690e-01, 5.08808664e-01, 5.63807849e-01, 8.78470632e-01,\n",
       "       8.58297417e-01, 6.75305738e-01, 7.02078171e-01, 3.01323920e-01,\n",
       "       6.66084714e-01, 5.86534914e-01, 4.57933421e-01, 9.32469965e-01,\n",
       "       2.65062213e-01, 5.85310517e-01, 9.97727447e-01, 3.89023840e-01,\n",
       "       4.62879708e-01, 7.64205039e-01, 2.93129469e-01, 7.27623509e-01,\n",
       "       6.80054072e-01, 3.18536569e-01, 6.95804190e-01, 2.47124310e-01,\n",
       "       4.75609605e-01, 8.72961120e-01, 1.64684560e-01, 4.83432930e-01,\n",
       "       5.68628499e-01, 2.05379997e-01, 6.54980598e-01, 9.02315900e-01,\n",
       "       4.27531749e-01, 1.10185381e-01, 8.50111288e-01, 4.70991288e-01,\n",
       "       4.05694434e-01, 2.59843631e-01, 3.52113089e-01, 9.91663678e-01,\n",
       "       2.44667918e-01, 8.31082426e-01, 4.62595532e-01, 4.05353697e-01,\n",
       "       9.59627985e-01, 5.19611429e-01, 9.64683609e-01, 1.50861793e-01,\n",
       "       6.75306927e-01, 4.81998003e-01, 3.00323030e-01, 2.57194620e-01,\n",
       "       2.51706597e-01, 8.60779153e-01, 3.88955622e-02, 7.35709126e-01,\n",
       "       5.88895933e-02, 1.47090409e-01, 7.86573338e-01, 1.54811713e-01,\n",
       "       1.87624254e-01, 6.70758517e-01, 7.26587044e-01, 7.59864624e-01,\n",
       "       9.25339200e-01, 7.61098415e-01, 2.06579374e-01, 1.98862551e-01,\n",
       "       7.08412072e-01, 2.80195662e-01, 6.22516629e-01, 8.64025389e-01,\n",
       "       4.59251590e-01, 9.65426562e-01, 4.91146811e-01, 1.81745702e-01,\n",
       "       8.75840979e-01, 6.78602346e-01, 2.67566090e-01, 8.27904736e-01,\n",
       "       1.12221300e-01, 7.66242676e-01, 8.79029019e-01, 1.73569957e-01,\n",
       "       2.25460039e-01, 2.45574305e-01, 1.23792108e-01, 8.63222575e-01,\n",
       "       9.85471279e-02, 1.57756598e-01, 4.30770836e-01, 4.42866050e-01,\n",
       "       5.49338156e-02, 2.88844826e-01, 7.42384543e-01, 7.67537179e-01,\n",
       "       5.28879568e-01, 2.91168789e-01, 8.08427732e-01, 2.42774634e-01,\n",
       "       4.21244997e-01, 9.97927968e-01, 9.89871064e-01, 8.59645760e-01,\n",
       "       2.35864960e-01, 3.94433064e-01, 6.89641041e-02, 5.25610341e-01,\n",
       "       2.24772766e-01, 1.71704794e-03, 7.18210941e-01, 8.68188166e-01,\n",
       "       8.93913002e-01, 7.49117440e-01, 6.25103810e-01, 9.89616688e-01,\n",
       "       8.52458636e-02, 4.73573411e-01, 9.61877388e-01, 8.66229296e-01,\n",
       "       9.71292588e-02, 1.23258390e-02, 7.17368567e-01, 4.44810014e-01,\n",
       "       9.11534076e-01, 8.90624656e-01, 2.82576061e-01, 2.63156330e-01,\n",
       "       4.14104970e-01, 1.13775329e-02, 7.60157087e-01, 7.68110238e-01,\n",
       "       9.66928141e-01, 3.04740090e-01, 9.30856939e-01, 1.65021441e-01,\n",
       "       9.32173544e-01, 7.49982138e-01, 3.74206164e-01, 3.13505111e-01,\n",
       "       3.95723770e-01, 9.21722523e-01, 6.74725428e-01, 2.76305321e-01,\n",
       "       8.67174207e-01, 7.94457666e-01, 5.97529523e-01, 9.13165970e-01,\n",
       "       1.58607535e-01, 4.69930970e-01, 9.23730429e-01, 8.82777179e-01,\n",
       "       8.71873544e-01, 8.32206876e-01, 7.19049663e-02, 6.64415318e-01,\n",
       "       9.37834851e-01, 1.55548997e-01, 7.42464362e-01, 5.68592741e-01,\n",
       "       8.57107066e-01, 1.27318251e-01, 1.16124326e-01, 4.52204155e-01,\n",
       "       2.83772228e-01, 3.13966702e-01, 7.09268228e-01, 5.97869282e-01,\n",
       "       4.77364186e-01, 3.22583589e-01, 8.46441673e-01, 1.37254849e-01,\n",
       "       9.22610503e-01, 6.32908780e-01, 2.20405148e-01, 5.06165848e-01,\n",
       "       5.86359759e-01, 7.00829802e-02, 7.68139914e-01, 5.00943310e-01,\n",
       "       4.16959316e-02, 1.66066010e-01, 3.24184839e-01, 7.31167053e-01,\n",
       "       9.83244318e-01, 6.52673254e-01, 4.44123032e-01, 4.73023527e-01,\n",
       "       8.20877215e-01, 2.13385469e-01, 5.31639427e-01, 8.24399219e-01,\n",
       "       5.10170376e-01, 6.12001610e-01, 6.28033901e-01, 9.64804356e-01,\n",
       "       6.96990113e-01, 4.12848896e-01, 4.27613096e-01, 7.71724505e-02,\n",
       "       7.14363057e-02, 7.06171271e-02, 4.45256810e-01, 3.10566201e-01,\n",
       "       8.89377093e-01, 2.32084207e-01, 3.54255211e-01, 7.09612811e-01,\n",
       "       6.32899017e-01, 9.99219795e-02, 5.67329800e-02, 4.76275297e-01,\n",
       "       6.38823880e-01, 7.03049348e-01, 8.24621401e-02, 2.05695685e-01,\n",
       "       6.75810369e-01, 4.11552425e-01, 8.68302080e-02, 8.57456226e-01,\n",
       "       8.28626216e-01, 9.07746538e-01, 3.98969002e-01, 3.01565351e-01,\n",
       "       4.83996529e-01, 3.86107404e-01, 5.27244544e-01, 9.29325979e-01,\n",
       "       9.97135978e-02, 7.08747109e-01, 5.46560011e-01, 8.48240571e-01,\n",
       "       5.36754510e-01, 6.12202731e-01, 2.42409949e-01, 8.84814150e-01,\n",
       "       2.98317914e-01, 8.65783217e-01, 2.14252287e-01, 4.00739954e-01,\n",
       "       9.96452668e-01, 3.75570512e-01, 8.91877831e-01, 7.13510706e-01,\n",
       "       4.10395493e-01, 2.72527869e-01, 7.28423488e-01, 1.15832667e-01,\n",
       "       6.56835940e-01, 5.73498228e-01, 2.49855682e-01, 8.00656618e-01,\n",
       "       9.63431751e-01, 4.53718295e-01, 3.01218467e-01, 9.74869959e-01,\n",
       "       4.13492523e-01, 8.10486373e-01, 3.12980591e-01, 9.87156205e-01,\n",
       "       2.93810327e-02, 9.31060952e-01, 5.79656757e-01, 9.24846555e-01,\n",
       "       5.24454580e-01, 2.67541156e-01, 4.71341700e-01, 7.44814797e-01,\n",
       "       2.84896913e-01, 2.15569915e-01, 4.99754019e-01, 7.55556975e-01,\n",
       "       9.52167695e-01, 6.74448016e-02, 6.61542747e-01, 5.14907533e-01,\n",
       "       9.19224463e-01, 7.36110424e-01, 3.54390310e-01, 3.06229522e-01,\n",
       "       3.78845847e-01, 3.75442906e-01, 8.18626757e-01, 2.75941135e-02,\n",
       "       9.39773714e-01, 6.55255651e-01, 6.89501589e-02, 1.50885501e-01,\n",
       "       2.41626672e-01, 9.03384434e-01, 5.88914340e-01, 7.70724338e-01,\n",
       "       9.90029816e-01, 7.66196334e-01, 7.67219603e-01, 6.61007162e-01,\n",
       "       7.51433151e-02, 5.82220046e-01, 9.14295939e-01, 2.32142809e-01,\n",
       "       4.86689696e-01, 8.09662079e-01, 5.01172225e-01, 7.26902274e-01,\n",
       "       5.32353141e-01, 3.39029432e-01, 9.09834295e-01, 8.01869715e-01,\n",
       "       8.59132917e-01, 9.90630385e-01, 1.21971760e-01, 5.15537070e-01,\n",
       "       7.34767611e-01, 9.73578440e-01, 8.65875625e-02, 3.96458076e-01,\n",
       "       5.46806954e-02, 5.19069745e-01, 6.02457361e-01, 3.44999781e-01,\n",
       "       6.70506816e-01, 9.59571065e-04, 7.68041046e-01, 3.58552690e-01,\n",
       "       6.10007994e-01, 2.50868118e-01, 8.04647560e-02, 4.26374491e-01,\n",
       "       5.47971576e-02, 4.31535524e-01, 7.45014659e-01, 6.30541140e-01,\n",
       "       2.04513709e-01, 3.46235145e-01, 4.31190922e-01, 2.03503809e-01,\n",
       "       5.39296884e-01, 9.00769566e-01, 5.62199744e-01, 1.79741017e-01,\n",
       "       2.06048829e-02, 9.04725460e-01, 6.08390771e-01, 6.46633329e-02,\n",
       "       6.99215740e-01, 2.39225321e-01, 3.22118935e-01, 4.14496738e-01,\n",
       "       9.06176215e-02, 3.56112336e-01, 4.08637102e-01, 5.99269656e-01,\n",
       "       2.44649785e-01, 3.49310443e-01, 7.47010410e-01, 5.31300737e-01,\n",
       "       1.05937108e-01, 5.96433330e-01, 2.08567615e-01, 2.68944034e-02,\n",
       "       4.70865123e-01, 4.44756019e-01, 4.45608116e-02, 1.31042096e-01,\n",
       "       4.44565995e-01, 9.60407621e-01, 3.05746147e-02, 7.26188004e-01,\n",
       "       4.02162187e-01, 1.67462428e-01, 8.43958036e-01, 5.56961251e-01,\n",
       "       2.37436524e-01, 4.06667011e-01, 7.17368267e-01, 2.15749406e-01,\n",
       "       5.93275519e-01, 7.12478378e-01, 4.89735692e-01, 3.59400578e-01,\n",
       "       3.88127294e-01, 2.59881393e-01, 4.21105422e-01, 1.55934136e-01,\n",
       "       5.51389970e-01, 3.50814371e-01, 7.97172578e-01, 3.51922236e-01,\n",
       "       7.80671420e-01, 9.78034687e-01, 9.92835734e-01, 1.53995552e-01,\n",
       "       6.94818657e-01, 3.20941336e-01, 5.86948586e-01, 9.95894905e-01,\n",
       "       9.27501001e-01, 6.14378953e-01, 3.43566343e-01, 8.28848164e-01,\n",
       "       9.78430767e-01, 4.22966612e-01, 1.67044311e-01, 3.16089279e-01,\n",
       "       4.65089083e-01, 8.84920752e-01, 9.51318997e-01, 1.11021370e-01,\n",
       "       5.53383448e-01, 9.34871774e-01, 7.88444231e-01, 4.10990305e-01,\n",
       "       4.48945965e-01, 9.87457086e-01, 7.77122436e-01, 9.33748446e-01,\n",
       "       2.43267739e-01, 6.73063643e-01, 4.28722574e-01, 9.96159512e-01,\n",
       "       5.17725996e-02, 3.05027528e-01, 9.84543325e-01, 2.61906961e-01,\n",
       "       3.29380718e-01, 6.29332919e-01, 5.40252317e-01, 4.32412739e-01,\n",
       "       6.03779200e-01, 4.70388969e-02, 8.25322056e-01, 3.76220253e-01,\n",
       "       2.06753748e-01, 1.34848212e-01, 7.79493911e-01, 7.07610231e-01,\n",
       "       7.40346592e-01, 7.93063970e-01, 2.73864218e-02, 8.75039115e-01,\n",
       "       2.36947518e-01, 9.93531620e-01, 3.10128570e-01, 4.63569407e-02,\n",
       "       7.41288711e-01, 2.22780266e-02, 3.41279760e-01, 8.41577955e-01,\n",
       "       5.78653619e-01, 3.73287628e-01, 1.08220206e-01, 5.98414109e-01,\n",
       "       6.57311483e-02, 7.30362164e-01, 2.94885611e-01, 5.99188057e-01,\n",
       "       1.53073417e-01, 2.02017425e-01, 3.83837476e-01, 9.97079582e-02,\n",
       "       1.73018458e-01, 8.95905508e-01, 1.96918529e-01, 8.13837850e-01])"
      ]
     },
     "execution_count": 71,
     "metadata": {},
     "output_type": "execute_result"
    }
   ],
   "source": [
    "print(predictwise.iloc[5])\n",
    "sims[5,:]"
   ]
  },
  {
   "cell_type": "markdown",
   "metadata": {},
   "source": [
    "With an Obama probability of about 0.8, This means that if I threw down random numbers between 0 and 1 **uniformly**, about 80% should be below 0.8. So we can pick the simulations in which Obama wins Colorado by seeing in how many of the simulations the random number thrown is less than 0.8"
   ]
  },
  {
   "cell_type": "code",
   "execution_count": 72,
   "metadata": {},
   "outputs": [
    {
     "data": {
      "text/plain": [
       "array([ True,  True,  True,  True, False, False,  True,  True,  True,\n",
       "        True, False,  True, False,  True, False,  True,  True,  True,\n",
       "        True,  True,  True,  True,  True,  True,  True,  True,  True,\n",
       "        True, False,  True,  True,  True,  True, False, False,  True,\n",
       "        True, False,  True,  True,  True, False,  True,  True,  True,\n",
       "        True, False,  True,  True,  True, False, False,  True,  True,\n",
       "        True,  True, False,  True,  True,  True, False,  True,  True,\n",
       "        True,  True,  True,  True,  True,  True,  True,  True,  True,\n",
       "        True, False,  True,  True,  True,  True,  True, False,  True,\n",
       "       False,  True, False,  True, False,  True, False,  True,  True,\n",
       "        True,  True,  True,  True, False,  True,  True,  True,  True,\n",
       "        True,  True,  True,  True,  True, False,  True,  True,  True,\n",
       "        True,  True,  True, False,  True,  True,  True,  True,  True,\n",
       "        True,  True,  True,  True,  True,  True,  True,  True,  True,\n",
       "        True,  True,  True,  True,  True,  True,  True,  True,  True,\n",
       "       False,  True,  True,  True, False, False,  True,  True,  True,\n",
       "        True,  True, False,  True,  True,  True,  True,  True, False,\n",
       "       False,  True,  True, False,  True, False,  True,  True,  True,\n",
       "        True,  True,  True,  True,  True,  True, False,  True,  True,\n",
       "        True,  True,  True,  True,  True,  True,  True,  True,  True,\n",
       "        True,  True,  True,  True, False,  True,  True,  True,  True,\n",
       "       False,  True,  True,  True, False,  True,  True,  True, False,\n",
       "        True,  True, False, False,  True,  True,  True,  True,  True,\n",
       "        True,  True,  True,  True,  True,  True,  True,  True,  True,\n",
       "        True,  True,  True,  True,  True,  True,  True,  True,  True,\n",
       "       False,  True,  True,  True,  True,  True,  True,  True,  True,\n",
       "        True,  True,  True,  True,  True,  True,  True,  True,  True,\n",
       "        True, False,  True,  True, False,  True,  True,  True,  True,\n",
       "       False,  True,  True, False,  True,  True,  True,  True, False,\n",
       "        True, False,  True, False,  True, False,  True, False,  True,\n",
       "        True,  True,  True,  True, False,  True,  True,  True,  True,\n",
       "        True,  True, False,  True,  True,  True,  True,  True,  True,\n",
       "       False,  True,  True,  True, False,  True,  True, False,  True,\n",
       "        True,  True,  True,  True,  True,  True,  True, False,  True,\n",
       "        True,  True,  True,  True,  True,  True,  True,  True,  True,\n",
       "        True,  True,  True,  True,  True,  True,  True, False,  True,\n",
       "        True, False, False,  True,  True,  True,  True, False,  True,\n",
       "        True,  True,  True,  True,  True,  True,  True,  True, False,\n",
       "        True,  True,  True,  True,  True, False,  True,  True, False,\n",
       "       False,  True,  True,  True,  True, False,  True,  True,  True,\n",
       "        True,  True,  True,  True,  True,  True, False,  True,  True,\n",
       "       False,  True, False,  True, False,  True,  True,  True,  True,\n",
       "        True, False,  True,  True,  True,  True, False,  True,  True,\n",
       "        True,  True,  True,  True,  True, False,  True,  True,  True,\n",
       "        True, False,  True,  True,  True,  True,  True, False,  True,\n",
       "        True,  True, False,  True,  True,  True,  True, False,  True,\n",
       "        True,  True,  True,  True,  True,  True,  True,  True,  True,\n",
       "        True,  True, False,  True,  True,  True,  True,  True,  True,\n",
       "        True,  True, False, False,  True,  True, False,  True,  True,\n",
       "        True, False,  True, False,  True,  True,  True,  True,  True,\n",
       "        True, False,  True,  True,  True, False, False,  True,  True,\n",
       "        True,  True,  True,  True, False,  True,  True,  True,  True,\n",
       "        True, False,  True,  True,  True,  True, False, False,  True,\n",
       "       False,  True,  True,  True,  True,  True,  True,  True, False,\n",
       "        True,  True, False,  True,  True,  True,  True,  True,  True,\n",
       "        True,  True,  True,  True,  True,  True,  True,  True,  True,\n",
       "        True,  True,  True,  True,  True,  True, False,  True, False,\n",
       "        True,  True,  True,  True, False, False, False,  True, False,\n",
       "        True,  True,  True, False,  True,  True,  True,  True,  True,\n",
       "        True, False,  True,  True, False,  True,  True,  True, False,\n",
       "       False,  True,  True,  True,  True,  True,  True, False,  True,\n",
       "        True, False,  True,  True,  True,  True,  True,  True,  True,\n",
       "        True,  True,  True, False,  True,  True,  True,  True,  True,\n",
       "       False,  True,  True, False,  True,  True,  True,  True, False,\n",
       "        True, False,  True,  True, False,  True, False,  True,  True,\n",
       "        True,  True,  True,  True, False,  True,  True,  True,  True,\n",
       "        True,  True,  True,  True,  True,  True, False,  True,  True,\n",
       "        True,  True,  True,  True, False,  True, False,  True,  True,\n",
       "       False,  True,  True, False,  True,  True, False,  True,  True,\n",
       "        True,  True, False,  True,  True,  True,  True,  True,  True,\n",
       "        True,  True,  True,  True, False,  True,  True, False, False,\n",
       "       False,  True,  True,  True,  True,  True,  True,  True, False,\n",
       "       False,  True,  True, False,  True,  True, False, False,  True,\n",
       "        True,  True,  True, False, False,  True,  True,  True,  True,\n",
       "        True,  True, False,  True, False,  True, False,  True,  True,\n",
       "        True,  True, False,  True,  True, False,  True,  True, False,\n",
       "        True,  True, False, False, False, False,  True,  True, False,\n",
       "        True,  True,  True, False,  True,  True,  True,  True,  True,\n",
       "        True,  True,  True,  True, False,  True, False,  True,  True,\n",
       "        True,  True,  True,  True,  True,  True,  True,  True,  True,\n",
       "       False,  True,  True,  True, False,  True,  True, False,  True,\n",
       "        True,  True, False,  True,  True,  True,  True,  True,  True,\n",
       "        True,  True, False,  True,  True,  True,  True,  True,  True,\n",
       "        True,  True,  True,  True,  True,  True,  True,  True, False,\n",
       "       False, False,  True,  True,  True,  True,  True, False,  True,\n",
       "        True,  True, False,  True,  True,  True, False,  True, False,\n",
       "        True,  True, False,  True, False,  True,  True,  True,  True,\n",
       "        True,  True,  True,  True,  True, False,  True,  True, False,\n",
       "        True, False,  True, False,  True, False,  True, False,  True,\n",
       "        True,  True,  True,  True,  True,  True,  True, False,  True,\n",
       "        True,  True, False,  True,  True,  True,  True,  True, False,\n",
       "        True, False,  True,  True,  True,  True, False,  True,  True,\n",
       "       False,  True,  True,  True,  True,  True, False,  True,  True,\n",
       "       False,  True,  True,  True,  True, False,  True, False, False,\n",
       "        True,  True,  True, False,  True,  True,  True,  True,  True,\n",
       "        True,  True,  True,  True,  True,  True,  True,  True,  True,\n",
       "        True,  True,  True,  True,  True,  True,  True,  True,  True,\n",
       "       False,  True,  True,  True, False,  True,  True,  True,  True,\n",
       "        True,  True,  True,  True,  True,  True,  True,  True,  True,\n",
       "        True,  True,  True,  True,  True,  True,  True,  True,  True,\n",
       "        True, False,  True,  True,  True,  True, False,  True,  True,\n",
       "        True,  True,  True,  True,  True,  True,  True,  True,  True,\n",
       "        True,  True,  True,  True,  True,  True,  True, False, False,\n",
       "        True,  True,  True,  True, False, False,  True,  True, False,\n",
       "       False,  True,  True,  True,  True, False, False,  True,  True,\n",
       "       False,  True,  True,  True, False,  True, False,  True,  True,\n",
       "        True, False,  True,  True, False,  True,  True,  True,  True,\n",
       "        True,  True,  True, False,  True,  True,  True,  True,  True,\n",
       "        True,  True,  True, False,  True, False,  True,  True,  True,\n",
       "        True,  True, False,  True,  True,  True,  True,  True,  True,\n",
       "        True,  True,  True,  True,  True,  True,  True, False,  True,\n",
       "       False])"
      ]
     },
     "execution_count": 72,
     "metadata": {},
     "output_type": "execute_result"
    }
   ],
   "source": [
    "sims[5,:] < predictwise.loc['Colorado'].Obama"
   ]
  },
  {
   "cell_type": "markdown",
   "metadata": {},
   "source": [
    "This is a boolean numpy array. Summing coerces the True to 1 and False to 0 and gives us the total number of simulations"
   ]
  },
  {
   "cell_type": "code",
   "execution_count": 73,
   "metadata": {},
   "outputs": [
    {
     "data": {
      "text/plain": [
       "801"
      ]
     },
     "execution_count": 73,
     "metadata": {},
     "output_type": "execute_result"
    }
   ],
   "source": [
    "np.sum(sims[5,:] < predictwise.loc['Colorado'].Obama)"
   ]
  },
  {
   "cell_type": "markdown",
   "metadata": {},
   "source": [
    "And the fraction from the mean:"
   ]
  },
  {
   "cell_type": "code",
   "execution_count": 74,
   "metadata": {},
   "outputs": [
    {
     "data": {
      "text/plain": [
       "0.801"
      ]
     },
     "execution_count": 74,
     "metadata": {},
     "output_type": "execute_result"
    }
   ],
   "source": [
    "np.mean(sims[5,:] < predictwise.loc['Colorado'].Obama)"
   ]
  },
  {
   "cell_type": "markdown",
   "metadata": {},
   "source": [
    "Lets do it for all the states now. 51 rows of 100 trues and Falses"
   ]
  },
  {
   "cell_type": "code",
   "execution_count": 76,
   "metadata": {},
   "outputs": [
    {
     "data": {
      "text/plain": [
       "array([[0.   ],\n",
       "       [0.   ],\n",
       "       [0.062],\n",
       "       [0.   ],\n",
       "       [1.   ],\n",
       "       [0.807],\n",
       "       [1.   ],\n",
       "       [1.   ],\n",
       "       [1.   ],\n",
       "       [0.72 ],\n",
       "       [0.004],\n",
       "       [1.   ],\n",
       "       [0.   ],\n",
       "       [1.   ],\n",
       "       [0.036],\n",
       "       [0.837],\n",
       "       [0.   ],\n",
       "       [0.   ],\n",
       "       [0.   ],\n",
       "       [1.   ],\n",
       "       [1.   ],\n",
       "       [1.   ],\n",
       "       [0.987],\n",
       "       [0.982],\n",
       "       [0.   ],\n",
       "       [0.074],\n",
       "       [0.046],\n",
       "       [0.   ],\n",
       "       [0.851],\n",
       "       [0.857],\n",
       "       [0.998],\n",
       "       [0.985],\n",
       "       [1.   ],\n",
       "       [0.349],\n",
       "       [0.025],\n",
       "       [0.89 ],\n",
       "       [0.   ],\n",
       "       [0.976],\n",
       "       [0.978],\n",
       "       [1.   ],\n",
       "       [0.   ],\n",
       "       [0.001],\n",
       "       [0.001],\n",
       "       [0.   ],\n",
       "       [0.   ],\n",
       "       [1.   ],\n",
       "       [0.798],\n",
       "       [0.999],\n",
       "       [0.002],\n",
       "       [0.925],\n",
       "       [0.   ]])"
      ]
     },
     "execution_count": 76,
     "metadata": {},
     "output_type": "execute_result"
    }
   ],
   "source": [
    " predictwise.Obama.values.reshape(-1,1)"
   ]
  },
  {
   "cell_type": "code",
   "execution_count": 77,
   "metadata": {},
   "outputs": [
    {
     "data": {
      "text/plain": [
       "array([[False, False, False, ..., False, False, False],\n",
       "       [False, False, False, ..., False, False, False],\n",
       "       [False, False, False, ..., False, False, False],\n",
       "       ...,\n",
       "       [False, False, False, ..., False, False, False],\n",
       "       [ True,  True,  True, ...,  True,  True,  True],\n",
       "       [False, False, False, ..., False, False, False]])"
      ]
     },
     "execution_count": 77,
     "metadata": {},
     "output_type": "execute_result"
    }
   ],
   "source": [
    "sims < predictwise.Obama.values.reshape(-1,1) # reshape for broadcasting"
   ]
  },
  {
   "cell_type": "markdown",
   "metadata": {},
   "source": [
    "Multiply by the number of electoral Votes in each state"
   ]
  },
  {
   "cell_type": "code",
   "execution_count": 78,
   "metadata": {},
   "outputs": [
    {
     "data": {
      "text/plain": [
       "array([[ 9],\n",
       "       [ 3],\n",
       "       [11],\n",
       "       [ 6],\n",
       "       [55],\n",
       "       [ 9],\n",
       "       [ 7],\n",
       "       [ 3],\n",
       "       [ 3],\n",
       "       [29],\n",
       "       [16],\n",
       "       [ 4],\n",
       "       [ 4],\n",
       "       [20],\n",
       "       [11],\n",
       "       [ 6],\n",
       "       [ 6],\n",
       "       [ 8],\n",
       "       [ 8],\n",
       "       [ 4],\n",
       "       [10],\n",
       "       [11],\n",
       "       [16],\n",
       "       [10],\n",
       "       [ 6],\n",
       "       [10],\n",
       "       [ 3],\n",
       "       [ 5],\n",
       "       [ 6],\n",
       "       [ 4],\n",
       "       [14],\n",
       "       [ 5],\n",
       "       [29],\n",
       "       [15],\n",
       "       [ 3],\n",
       "       [18],\n",
       "       [ 7],\n",
       "       [ 7],\n",
       "       [20],\n",
       "       [ 4],\n",
       "       [ 9],\n",
       "       [ 3],\n",
       "       [11],\n",
       "       [38],\n",
       "       [ 6],\n",
       "       [ 3],\n",
       "       [13],\n",
       "       [12],\n",
       "       [ 5],\n",
       "       [10],\n",
       "       [ 3]])"
      ]
     },
     "execution_count": 78,
     "metadata": {},
     "output_type": "execute_result"
    }
   ],
   "source": [
    "predictwise.Votes.values.reshape(-1,1)"
   ]
  },
  {
   "cell_type": "code",
   "execution_count": 79,
   "metadata": {},
   "outputs": [
    {
     "data": {
      "text/plain": [
       "array([[ 0,  0,  0, ...,  0,  0,  0],\n",
       "       [ 0,  0,  0, ...,  0,  0,  0],\n",
       "       [ 0,  0,  0, ...,  0,  0,  0],\n",
       "       ...,\n",
       "       [ 0,  0,  0, ...,  0,  0,  0],\n",
       "       [10, 10, 10, ..., 10, 10, 10],\n",
       "       [ 0,  0,  0, ...,  0,  0,  0]])"
      ]
     },
     "execution_count": 79,
     "metadata": {},
     "output_type": "execute_result"
    }
   ],
   "source": [
    "(sims < predictwise.Obama.values.reshape(-1,1))*predictwise.Votes.values.reshape(-1,1)"
   ]
  },
  {
   "cell_type": "markdown",
   "metadata": {},
   "source": [
    "If I sum the columns now, I get the total electoral votes in the country for Obama in each simulation"
   ]
  },
  {
   "cell_type": "code",
   "execution_count": 80,
   "metadata": {},
   "outputs": [
    {
     "data": {
      "text/plain": [
       "array([343, 329, 304, 319, 304, 320, 301, 347, 318, 297, 279, 324, 312,\n",
       "       319, 325, 259, 319, 322, 347, 319, 342, 358, 363, 332, 299, 332,\n",
       "       328, 310, 304, 309, 332, 311, 334, 327, 296, 326, 323, 284, 312,\n",
       "       332, 347, 323, 296, 314, 285, 287, 294, 328, 332, 358, 338, 288,\n",
       "       342, 298, 360, 318, 326, 312, 326, 347, 320, 329, 332, 326, 343,\n",
       "       347, 332, 333, 326, 332, 332, 332, 342, 305, 311, 343, 332, 309,\n",
       "       324, 338, 329, 338, 314, 313, 332, 359, 334, 281, 299, 297, 335,\n",
       "       332, 288, 301, 297, 333, 326, 284, 337, 325, 357, 281, 312, 332,\n",
       "       305, 303, 347, 332, 342, 335, 326, 294, 342, 328, 312, 310, 328,\n",
       "       319, 326, 326, 326, 322, 318, 298, 316, 332, 343, 332, 319, 332,\n",
       "       317, 293, 314, 314, 332, 278, 287, 320, 319, 338, 313, 303, 303,\n",
       "       304, 329, 347, 309, 309, 321, 290, 306, 299, 323, 349, 343, 326,\n",
       "       266, 329, 304, 317, 335, 314, 293, 341, 322, 330, 316, 326, 295,\n",
       "       328, 332, 326, 284, 328, 321, 347, 306, 312, 318, 332, 318, 293,\n",
       "       290, 371, 338, 347, 310, 290, 347, 275, 332, 332, 332, 317, 309,\n",
       "       318, 325, 294, 350, 313, 317, 323, 313, 324, 299, 337, 292, 307,\n",
       "       332, 303, 296, 308, 303, 314, 332, 325, 318, 307, 326, 314, 332,\n",
       "       332, 285, 325, 296, 328, 303, 314, 329, 299, 312, 332, 318, 283,\n",
       "       341, 343, 293, 284, 319, 314, 293, 313, 328, 327, 313, 326, 314,\n",
       "       334, 334, 308, 326, 316, 277, 337, 299, 336, 329, 319, 303, 329,\n",
       "       317, 290, 312, 316, 328, 343, 299, 308, 326, 335, 319, 340, 337,\n",
       "       270, 309, 303, 322, 315, 332, 285, 341, 318, 294, 347, 320, 337,\n",
       "       332, 336, 317, 275, 318, 332, 323, 342, 343, 339, 299, 325, 337,\n",
       "       343, 303, 332, 345, 358, 294, 302, 337, 322, 327, 341, 312, 332,\n",
       "       328, 316, 339, 296, 322, 326, 332, 301, 348, 341, 323, 328, 332,\n",
       "       317, 338, 333, 341, 328, 326, 309, 300, 303, 302, 334, 342, 334,\n",
       "       329, 312, 299, 338, 324, 347, 332, 306, 314, 288, 314, 332, 339,\n",
       "       323, 318, 319, 341, 332, 323, 293, 341, 317, 347, 347, 346, 341,\n",
       "       345, 313, 334, 323, 297, 331, 343, 314, 309, 349, 330, 340, 347,\n",
       "       322, 306, 319, 319, 347, 307, 330, 309, 314, 332, 337, 347, 328,\n",
       "       319, 326, 341, 309, 320, 332, 343, 320, 303, 293, 342, 314, 332,\n",
       "       338, 311, 314, 303, 294, 343, 332, 319, 328, 338, 338, 318, 347,\n",
       "       319, 315, 341, 358, 319, 334, 332, 319, 332, 297, 328, 332, 328,\n",
       "       354, 347, 337, 333, 347, 326, 317, 357, 332, 303, 318, 338, 272,\n",
       "       299, 322, 293, 281, 332, 297, 325, 343, 326, 317, 358, 289, 326,\n",
       "       321, 333, 334, 323, 289, 305, 347, 332, 333, 294, 332, 332, 338,\n",
       "       332, 323, 272, 285, 303, 303, 294, 280, 347, 294, 332, 293, 314,\n",
       "       332, 337, 316, 321, 323, 308, 312, 290, 332, 332, 328, 332, 321,\n",
       "       316, 299, 327, 318, 341, 301, 332, 332, 332, 312, 318, 303, 334,\n",
       "       332, 322, 309, 302, 324, 310, 303, 332, 292, 318, 319, 315, 309,\n",
       "       326, 306, 326, 345, 342, 310, 347, 275, 332, 319, 332, 332, 324,\n",
       "       287, 328, 313, 318, 332, 303, 332, 294, 297, 337, 326, 293, 337,\n",
       "       334, 310, 347, 347, 304, 323, 303, 285, 326, 285, 341, 304, 272,\n",
       "       332, 314, 323, 326, 298, 332, 314, 329, 313, 347, 336, 334, 315,\n",
       "       329, 303, 332, 318, 318, 341, 327, 303, 338, 358, 326, 314, 264,\n",
       "       318, 308, 318, 303, 326, 347, 328, 332, 292, 305, 303, 314, 328,\n",
       "       297, 316, 338, 347, 293, 314, 326, 337, 311, 305, 330, 294, 333,\n",
       "       347, 295, 345, 343, 295, 347, 332, 323, 354, 335, 347, 313, 310,\n",
       "       330, 332, 307, 332, 332, 347, 328, 320, 315, 319, 310, 332, 287,\n",
       "       294, 323, 317, 308, 295, 344, 319, 342, 343, 347, 312, 314, 335,\n",
       "       347, 310, 319, 319, 328, 294, 343, 326, 341, 332, 323, 260, 326,\n",
       "       347, 316, 305, 314, 352, 332, 297, 323, 318, 323, 348, 314, 332,\n",
       "       303, 349, 326, 334, 325, 303, 347, 325, 326, 326, 281, 338, 304,\n",
       "       317, 299, 358, 307, 313, 308, 347, 338, 332, 322, 343, 332, 332,\n",
       "       303, 307, 319, 292, 305, 303, 323, 328, 337, 299, 347, 347, 343,\n",
       "       315, 319, 350, 303, 331, 294, 324, 347, 301, 323, 309, 308, 309,\n",
       "       330, 319, 333, 305, 297, 293, 301, 340, 293, 314, 348, 317, 331,\n",
       "       305, 347, 332, 319, 318, 319, 337, 332, 326, 303, 347, 333, 332,\n",
       "       332, 305, 317, 327, 332, 347, 303, 332, 312, 338, 316, 335, 332,\n",
       "       310, 319, 305, 332, 309, 332, 323, 296, 306, 287, 303, 338, 318,\n",
       "       281, 328, 308, 326, 272, 334, 300, 343, 312, 332, 326, 309, 332,\n",
       "       326, 337, 334, 304, 330, 328, 327, 343, 318, 315, 330, 347, 308,\n",
       "       347, 322, 288, 332, 342, 340, 322, 332, 318, 303, 324, 332, 305,\n",
       "       313, 307, 328, 323, 343, 364, 333, 328, 293, 334, 332, 295, 332,\n",
       "       332, 300, 317, 332, 312, 309, 332, 326, 332, 328, 304, 314, 323,\n",
       "       332, 368, 347, 329, 286, 299, 303, 302, 341, 327, 303, 355, 313,\n",
       "       343, 332, 303, 311, 316, 353, 314, 341, 331, 347, 341, 340, 334,\n",
       "       357, 347, 290, 347, 308, 342, 305, 353, 284, 356, 303, 318, 284,\n",
       "       341, 332, 318, 319, 348, 322, 329, 282, 319, 319, 326, 332, 290,\n",
       "       354, 341, 343, 305, 332, 326, 318, 298, 294, 315, 337, 340, 343,\n",
       "       299, 347, 337, 326, 303, 328, 276, 329, 322, 296, 319, 332, 304,\n",
       "       332, 297, 298, 325, 284, 289, 347, 328, 355, 323, 299, 332, 344,\n",
       "       317, 256, 328, 299, 318, 338, 272, 341, 333, 316, 339, 293, 332,\n",
       "       291, 301, 338, 319, 328, 332, 305, 317, 326, 305, 319, 299, 326,\n",
       "       303, 305, 287, 332, 348, 295, 322, 318, 297, 342, 337, 303, 293,\n",
       "       305, 341, 304, 357, 322, 286, 328, 332, 316, 332, 340, 322, 319,\n",
       "       326, 345, 341, 319, 334, 319, 336, 332, 326, 304, 313, 281])"
      ]
     },
     "execution_count": 80,
     "metadata": {},
     "output_type": "execute_result"
    }
   ],
   "source": [
    "np.sum((sims < predictwise.Obama.values.reshape(-1,1))*predictwise.Votes.values.reshape(-1,1), axis=0)"
   ]
  },
  {
   "cell_type": "code",
   "execution_count": 82,
   "metadata": {},
   "outputs": [],
   "source": [
    "def simulate_election(model, n_sim):\n",
    "    simulations = np.random.uniform(size=(51, n_sim))\n",
    "    obama_votes = (simulations < model.Obama.values.reshape(-1, 1)) * model.Votes.values.reshape(-1, 1)\n",
    "    #summing over rows gives the total electoral votes for each simulation\n",
    "    return obama_votes.sum(axis=0)"
   ]
  },
  {
   "cell_type": "markdown",
   "metadata": {},
   "source": [
    "This is how `simulate_election` works.\n",
    "\n",
    "The following code takes the necessary probabilities for the Predictwise data, and runs 10000 simulations. If you think of this in terms of our coins, think of it as having 51 biased coins, one for each state, and tossing them 10,000 times each.\n",
    "\n",
    "We use the results to compute the number of simulations, according to this predictive model, that Obama wins the election (i.e., the probability that he receives 269 or more electoral college votes)"
   ]
  },
  {
   "cell_type": "code",
   "execution_count": 83,
   "metadata": {},
   "outputs": [
    {
     "name": "stdout",
     "output_type": "stream",
     "text": [
      "<class 'numpy.ndarray'>\n"
     ]
    },
    {
     "data": {
      "text/plain": [
       "9955"
      ]
     },
     "execution_count": 83,
     "metadata": {},
     "output_type": "execute_result"
    }
   ],
   "source": [
    "result = simulate_election(predictwise, 10000)\n",
    "print(type(result))\n",
    "np.sum(result >= 269)"
   ]
  },
  {
   "cell_type": "markdown",
   "metadata": {},
   "source": [
    "There are roughly only 50 simulations in which Romney wins the election!\n",
    "\n",
    "#### Displaying the prediction\n",
    "\n",
    "Now, lets visualize the simulation. We will build a histogram from the result of `simulate_election`. We will **normalize** the histogram by dividing the frequency of a vote tally by the number of simulations. We'll overplot the \"victory threshold\" of 269 votes as a vertical black line and the result (Obama winning 332 votes) as a vertical red line.\n",
    "\n",
    "We also compute the number of votes at the 5th and 95th quantiles, which we call the spread, and display it (this is an estimate of the outcome's uncertainty). By 5th quantile we mean that if we ordered the number of votes Obama gets in each simulation in increasing order, the 5th quantile is the number below which 5\\% of the simulations lie. \n",
    "\n",
    "We also display the probability of an Obama victory    \n",
    "    "
   ]
  },
  {
   "cell_type": "code",
   "execution_count": 84,
   "metadata": {},
   "outputs": [],
   "source": [
    "def plot_simulation(simulation):    \n",
    "    plt.hist(simulation, bins=np.arange(200, 538, 1), \n",
    "             label='simulations', align='left', normed=True)\n",
    "    plt.axvline(332, 0, .5, color='r', label='Actual Outcome')\n",
    "    plt.axvline(269, 0, .5, color='k', label='Victory Threshold')\n",
    "    p05 = np.percentile(simulation, 5.)\n",
    "    p95 = np.percentile(simulation, 95.)\n",
    "    iq = int(p95 - p05)\n",
    "    pwin = ((simulation >= 269).mean() * 100)\n",
    "    plt.title(\"Chance of Obama Victory: %0.2f%%, Spread: %d votes\" % (pwin, iq))\n",
    "    plt.legend(frameon=False, loc='upper left')\n",
    "    plt.xlabel(\"Obama Electoral College Votes\")\n",
    "    plt.ylabel(\"Probability\")\n",
    "    sns.despine()"
   ]
  },
  {
   "cell_type": "code",
   "execution_count": 85,
   "metadata": {},
   "outputs": [
    {
     "name": "stderr",
     "output_type": "stream",
     "text": [
      "/srv/conda/envs/notebook/lib/python3.7/site-packages/matplotlib/axes/_axes.py:6521: MatplotlibDeprecationWarning: \n",
      "The 'normed' kwarg was deprecated in Matplotlib 2.1 and will be removed in 3.1. Use 'density' instead.\n",
      "  alternative=\"'density'\", removal=\"3.1\")\n"
     ]
    },
    {
     "data": {
      "image/png": "[encoded data removed]",
      "text/plain": [
       "<Figure size 432x288 with 1 Axes>"
      ]
     },
     "metadata": {
      "needs_background": "light"
     },
     "output_type": "display_data"
    }
   ],
   "source": [
    "with sns.plotting_context('poster'):\n",
    "    plot_simulation(result)"
   ]
  },
  {
   "cell_type": "markdown",
   "metadata": {},
   "source": [
    "The model created by combining the probabilities we obtained from Predictwise with the simulation of a biased coin flip corresponding to the win probability in each states leads us to obtain a histogram of election outcomes. We are plotting the probabilities of a prediction, so we call this distribution over outcomes the **predictive distribution**. Simulating from our model and plotting a histogram allows us to visualize this predictive distribution. In general, such a set of probabilities is called a **probability distribution** or **probability mass function**. "
   ]
  },
  {
   "cell_type": "markdown",
   "metadata": {},
   "source": [
    "### Evaluating and Validating our Prediction\n",
    "\n",
    "The point of creating a probabilistic predictive model is to simultaneously make a forecast and give an estimate of how certain we are about it. Let us **evaluate** our prediction to get a sense of how useful it is, and we **validate** the predictive model by comparing it to real data.\n",
    "\n",
    "However, in order to trust our prediction or our reported level of uncertainty, the model needs to be *correct*. We say a model is *correct* if it honestly accounts for all of the mechanisms of variation in the system we're forecasting. Another way of thinking about this is that the predictive distribution matches the true distribution of election outcomes when the information leading up to the election matches the information that we have now.\n",
    "\n",
    "In general a model is never entirely correct: it is just an approximation to the underlying natural phenomenon. However it might be correct enough to be useful: our simple model of a fair coin is one such example where we've substituted subtle notions of the weight distributions of a coin or trust in the US mint by a simple number, 0.5.\n",
    "\n",
    "#### Accuracy and precision\n",
    "\n",
    "Suppose that we believe the model is correct \"enough\". Under this assumption, we can evaluate our prediction by characterizing its **accuracy** and **precision**.\n",
    "\n",
    "Accuracy refers to the closeness of our predictions to the true result, while precision refers to the uncertainty about our predicted value. Thus, to evaluate the accuracy of our prediction, we can check to see whether the center of mass of our predictive distribution seems to match the true outcome.  So, based on the outcome we observed, the model seems accurate. To make a more rigorous statement about accuracy, we would want to have more replications (that is, more elections) to see whether the expectation of the predictive distribution consistently matches the true outcomes. \n",
    "\n",
    "To evaluate the **precision** of our prediction,  we look at the spread of the histogram, which is 60 votes, and relatively large. Because we are assuming the model is correct, we can interpret the spread of the histogram as a measure of the variability among the election outcomes that are consistent with the information we have. Whether the prediction is precise *enough* is a question of what you want to do with your prediction. For example, it is not if you want to be able to call the winner of a close election (say the candidates are separated by less than 30 votes), this prediction would not be precise enough to identify a winner with a lot of confidence. To handle this, we might wish to incorporate more information into the model to reduce the spread of likely election outcomes. \n",
    "\n",
    "On the other hand, what we are really trying to do is to see if Romney has any chance of winning by Obama not exceeding the 269 votes threshold. For this purpose the precision is good enough; the win threshold is way outside the spread!\n",
    "\n",
    "![m:](images/avp1.jpg)\n",
    "\n",
    "![m:accuracy vs precision](images/avp2.jpg)"
   ]
  }
 ],
 "metadata": {
  "celltoolbar": "Edit Metadata",
  "kernelspec": {
   "display_name": "Python 3",
   "language": "python",
   "name": "python3"
  },
  "language_info": {
   "codemirror_mode": {
    "name": "ipython",
    "version": 3
   },
   "file_extension": ".py",
   "mimetype": "text/x-python",
   "name": "python",
   "nbconvert_exporter": "python",
   "pygments_lexer": "ipython3",
   "version": "3.7.3"
  }
 },
 "nbformat": 4,
 "nbformat_minor": 2
}
