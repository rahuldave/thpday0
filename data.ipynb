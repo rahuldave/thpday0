{
 "cells": [
  {
   "cell_type": "markdown",
   "metadata": {},
   "source": [
    "# Dealing With Data"
   ]
  },
  {
   "cell_type": "markdown",
   "metadata": {},
   "source": [
    "All notebooks should begin with code that imports modules, collections of built-in, commonly-used Python functions. Below we import a bunch of then, with the \n",
    "```python\n",
    "import MODULE_NAME as MODULE_NICKNAME\n",
    "```\n",
    "\n",
    "syntax."
   ]
  },
  {
   "cell_type": "code",
   "execution_count": 1,
   "metadata": {
    "hide": true
   },
   "outputs": [
    {
     "name": "stderr",
     "output_type": "stream",
     "text": [
      "/srv/conda/envs/notebook/lib/python3.7/site-packages/matplotlib/__init__.py:855: MatplotlibDeprecationWarning: \n",
      "examples.directory is deprecated; in the future, examples will be found relative to the 'datapath' directory.\n",
      "  \"found relative to the 'datapath' directory.\".format(key))\n",
      "/srv/conda/envs/notebook/lib/python3.7/site-packages/matplotlib/__init__.py:846: MatplotlibDeprecationWarning: \n",
      "The text.latex.unicode rcparam was deprecated in Matplotlib 2.2 and will be removed in 3.1.\n",
      "  \"2.2\", name=key, obj_type=\"rcparam\", addendum=addendum)\n",
      "/srv/conda/envs/notebook/lib/python3.7/site-packages/seaborn/apionly.py:9: UserWarning: As seaborn no longer sets a default style on import, the seaborn.apionly module is deprecated. It will be removed in a future version.\n",
      "  warnings.warn(msg, UserWarning)\n"
     ]
    }
   ],
   "source": [
    "%matplotlib inline\n",
    "import numpy as np # imports a fast numerical programming library\n",
    "import scipy as sp # imports a statistical programming library\n",
    "import matplotlib as mpl # imports the standard plotting library\n",
    "import matplotlib.cm as cm # imports plotting colormaps\n",
    "import matplotlib.pyplot as plt # imports the MATLAB compatible plotting API\n",
    "import pandas as pd # imports a library to handle data as dataframes\n",
    "import seaborn.apionly as sns"
   ]
  },
  {
   "cell_type": "code",
   "execution_count": 3,
   "metadata": {},
   "outputs": [
    {
     "data": {
      "text/plain": [
       "200"
      ]
     },
     "execution_count": 3,
     "metadata": {},
     "output_type": "execute_result"
    }
   ],
   "source": [
    "2*100 # * + - / % //"
   ]
  },
  {
   "cell_type": "code",
   "execution_count": 6,
   "metadata": {},
   "outputs": [
    {
     "data": {
      "text/plain": [
       "1"
      ]
     },
     "execution_count": 6,
     "metadata": {},
     "output_type": "execute_result"
    }
   ],
   "source": [
    "5 % 2"
   ]
  },
  {
   "cell_type": "code",
   "execution_count": 2,
   "metadata": {},
   "outputs": [
    {
     "data": {
      "text/plain": [
       "2"
      ]
     },
     "execution_count": 2,
     "metadata": {},
     "output_type": "execute_result"
    }
   ],
   "source": [
    "1+1"
   ]
  },
  {
   "cell_type": "markdown",
   "metadata": {},
   "source": [
    "## Variables and Functions"
   ]
  },
  {
   "cell_type": "markdown",
   "metadata": {},
   "source": [
    "Let us create a list of numbers:"
   ]
  },
  {
   "cell_type": "code",
   "execution_count": 11,
   "metadata": {},
   "outputs": [
    {
     "data": {
      "text/plain": [
       "[1.0, 2, 3.0]"
      ]
     },
     "execution_count": 11,
     "metadata": {},
     "output_type": "execute_result"
    }
   ],
   "source": [
    "a = [1.0, 2, 3.0]\n",
    "a"
   ]
  },
  {
   "cell_type": "markdown",
   "metadata": {},
   "source": [
    "Now we can do some usual statistical stuff, using built-in functions"
   ]
  },
  {
   "cell_type": "code",
   "execution_count": 12,
   "metadata": {},
   "outputs": [
    {
     "data": {
      "text/plain": [
       "3"
      ]
     },
     "execution_count": 12,
     "metadata": {},
     "output_type": "execute_result"
    }
   ],
   "source": [
    "len(a)"
   ]
  },
  {
   "cell_type": "code",
   "execution_count": 13,
   "metadata": {},
   "outputs": [
    {
     "data": {
      "text/plain": [
       "2.0"
      ]
     },
     "execution_count": 13,
     "metadata": {},
     "output_type": "execute_result"
    }
   ],
   "source": [
    "np.mean(a)"
   ]
  },
  {
   "cell_type": "code",
   "execution_count": 14,
   "metadata": {},
   "outputs": [
    {
     "data": {
      "text/plain": [
       "0.816496580927726"
      ]
     },
     "execution_count": 14,
     "metadata": {},
     "output_type": "execute_result"
    }
   ],
   "source": [
    "np.std(a)"
   ]
  },
  {
   "cell_type": "markdown",
   "metadata": {},
   "source": [
    "Think of a variable as a label for a value, not a box in which you put the value\n",
    "\n",
    "![](images/sticksnotboxes.png)\n",
    "\n",
    "(image taken from Fluent Python by Luciano Ramalho)"
   ]
  },
  {
   "cell_type": "code",
   "execution_count": 15,
   "metadata": {},
   "outputs": [
    {
     "data": {
      "text/plain": [
       "[1.0, 2, 3.0]"
      ]
     },
     "execution_count": 15,
     "metadata": {},
     "output_type": "execute_result"
    }
   ],
   "source": [
    "b = a\n",
    "b"
   ]
  },
  {
   "cell_type": "markdown",
   "metadata": {},
   "source": [
    "This DOES NOT create a new copy of a. It merely puts a new label on the memory at a, as can be seen by the following code:"
   ]
  },
  {
   "cell_type": "code",
   "execution_count": 16,
   "metadata": {},
   "outputs": [],
   "source": [
    "a[1] = 2.0"
   ]
  },
  {
   "cell_type": "code",
   "execution_count": 17,
   "metadata": {},
   "outputs": [
    {
     "data": {
      "text/plain": [
       "([1.0, 2.0, 3.0], [1.0, 2.0, 3.0])"
      ]
     },
     "execution_count": 17,
     "metadata": {},
     "output_type": "execute_result"
    }
   ],
   "source": [
    "a, b"
   ]
  },
  {
   "cell_type": "markdown",
   "metadata": {},
   "source": [
    "Multiple items on one line in the interface are returned as a tuple, an immutable sequence of Python objects."
   ]
  },
  {
   "cell_type": "markdown",
   "metadata": {},
   "source": [
    "## Lists\n",
    "\n",
    "Above you saw an example of indexing on lists: `a[1]`. You will have noticed that the second element is indexed as 1. This is because python idexes start at 0."
   ]
  },
  {
   "cell_type": "code",
   "execution_count": 25,
   "metadata": {},
   "outputs": [],
   "source": [
    "float_list = [1., 3., 5., 4., 2.]"
   ]
  },
  {
   "cell_type": "markdown",
   "metadata": {},
   "source": [
    "Python has some pretty snazzy indexing:"
   ]
  },
  {
   "cell_type": "code",
   "execution_count": 26,
   "metadata": {},
   "outputs": [
    {
     "name": "stdout",
     "output_type": "stream",
     "text": [
      "[3.0, 5.0, 4.0, 2.0]\n",
      "[1.0, 3.0]\n"
     ]
    }
   ],
   "source": [
    "print(float_list[1:5:1])\n",
    "print(float_list[0:2])"
   ]
  },
  {
   "cell_type": "code",
   "execution_count": 29,
   "metadata": {},
   "outputs": [
    {
     "data": {
      "text/plain": [
       "[4.0, 2.0]"
      ]
     },
     "execution_count": 29,
     "metadata": {},
     "output_type": "execute_result"
    }
   ],
   "source": [
    "float_list[-2:]"
   ]
  },
  {
   "cell_type": "markdown",
   "metadata": {},
   "source": [
    "Here is a key for some of the indexing operations:\n",
    "\n",
    "![](images/ops3_v2.png)\n",
    "\n",
    "We can iterate through a list using a loop. Here's a for loop."
   ]
  },
  {
   "cell_type": "code",
   "execution_count": 30,
   "metadata": {},
   "outputs": [
    {
     "name": "stdout",
     "output_type": "stream",
     "text": [
      "1.0\n",
      "3.0\n",
      "5.0\n",
      "4.0\n",
      "2.0\n"
     ]
    }
   ],
   "source": [
    "for ele in float_list:\n",
    "    print(ele)"
   ]
  },
  {
   "cell_type": "markdown",
   "metadata": {},
   "source": [
    "What if you wanted the index as well?\n",
    "\n",
    "Python has other useful functions such as enumerate, which can be used to create a list of tuples with each tuple of the form (index, value)."
   ]
  },
  {
   "cell_type": "code",
   "execution_count": 31,
   "metadata": {},
   "outputs": [
    {
     "name": "stdout",
     "output_type": "stream",
     "text": [
      "0 1.0\n",
      "1 3.0\n",
      "2 5.0\n",
      "3 4.0\n",
      "4 2.0\n"
     ]
    }
   ],
   "source": [
    "for i, ele in enumerate(float_list):\n",
    "    print(i,ele)"
   ]
  },
  {
   "cell_type": "markdown",
   "metadata": {},
   "source": [
    "Another construct, like `enumerate`, is zip. It combines lists together"
   ]
  },
  {
   "cell_type": "code",
   "execution_count": 39,
   "metadata": {},
   "outputs": [
    {
     "data": {
      "text/plain": [
       "<zip at 0x7fdee77cb048>"
      ]
     },
     "execution_count": 39,
     "metadata": {},
     "output_type": "execute_result"
    }
   ],
   "source": [
    "int_list = [1, 2, 3, 4, 5]\n",
    "zip(int_list, float_list)"
   ]
  },
  {
   "cell_type": "code",
   "execution_count": 40,
   "metadata": {},
   "outputs": [
    {
     "data": {
      "text/plain": [
       "[1.0, 3.0, 5.0, 4.0, 2.0]"
      ]
     },
     "execution_count": 40,
     "metadata": {},
     "output_type": "execute_result"
    }
   ],
   "source": [
    "float_list"
   ]
  },
  {
   "cell_type": "markdown",
   "metadata": {},
   "source": [
    "To materialize it, you must wrap in a for loop"
   ]
  },
  {
   "cell_type": "code",
   "execution_count": 41,
   "metadata": {},
   "outputs": [],
   "source": [
    "assert(len(int_list)==5)"
   ]
  },
  {
   "cell_type": "code",
   "execution_count": 42,
   "metadata": {},
   "outputs": [
    {
     "name": "stdout",
     "output_type": "stream",
     "text": [
      "1 1.0\n",
      "2 3.0\n",
      "3 5.0\n",
      "4 4.0\n",
      "5 2.0\n"
     ]
    }
   ],
   "source": [
    "for i, f in zip(int_list, float_list):\n",
    "    print(i, f)"
   ]
  },
  {
   "cell_type": "markdown",
   "metadata": {},
   "source": [
    "And you can do multiple:"
   ]
  },
  {
   "cell_type": "code",
   "execution_count": 43,
   "metadata": {},
   "outputs": [
    {
     "name": "stdout",
     "output_type": "stream",
     "text": [
      "1 1.0 a\n",
      "2 3.0 b\n",
      "3 5.0 c\n",
      "4 4.0 d\n",
      "5 2.0 e\n"
     ]
    }
   ],
   "source": [
    "char_list = ['a', 'b', 'c', 'd', 'e']\n",
    "for i, f, c in zip(int_list, float_list, char_list):\n",
    "    print(i, f, c)"
   ]
  },
  {
   "cell_type": "markdown",
   "metadata": {},
   "source": [
    "Lists can be constructed in a compact way using a list comprehension. Here's a simple example."
   ]
  },
  {
   "cell_type": "code",
   "execution_count": 44,
   "metadata": {},
   "outputs": [
    {
     "data": {
      "text/plain": [
       "[1.0, 9.0, 25.0, 16.0, 4.0]"
      ]
     },
     "execution_count": 44,
     "metadata": {},
     "output_type": "execute_result"
    }
   ],
   "source": [
    "squaredlist = [i*i for i in float_list]\n",
    "squaredlist"
   ]
  },
  {
   "cell_type": "markdown",
   "metadata": {},
   "source": [
    "You can mix in conditions:"
   ]
  },
  {
   "cell_type": "code",
   "execution_count": 45,
   "metadata": {},
   "outputs": [
    {
     "name": "stdout",
     "output_type": "stream",
     "text": [
      "[32.0, 8.0]\n"
     ]
    }
   ],
   "source": [
    "comp_list1 = [2*i for i in squaredlist if i % 2 == 0]\n",
    "print(comp_list1)"
   ]
  },
  {
   "cell_type": "markdown",
   "metadata": {},
   "source": [
    "This is probably a good point to show you the operators Python has:\n",
    "\n",
    "![](images/ops1_v2.png)\n",
    "\n",
    "and the comparison operator you can use in conditionals:\n",
    "\n",
    "![](images/ops2_v2.png)\n",
    "\n",
    "The list comprehension above can be constructed by combining for loops and conditionals:"
   ]
  },
  {
   "cell_type": "code",
   "execution_count": 46,
   "metadata": {},
   "outputs": [
    {
     "data": {
      "text/plain": [
       "[32.0, 8.0]"
      ]
     },
     "execution_count": 46,
     "metadata": {},
     "output_type": "execute_result"
    }
   ],
   "source": [
    "comp_list2 = []\n",
    "for i in squaredlist:\n",
    "    if i % 2 == 0:\n",
    "        comp_list2.append(2*i)\n",
    "        \n",
    "comp_list2"
   ]
  },
  {
   "cell_type": "markdown",
   "metadata": {},
   "source": [
    "Indeed, a list comprehension is just \"syntactic sugar\" for the above."
   ]
  },
  {
   "cell_type": "markdown",
   "metadata": {},
   "source": [
    "## Dictionaries\n",
    "\n",
    "A dictionary is another storage container. Like a list, a dictionary is a sequence of items. Unlike a list, a dictionary is unordered and its items are accessed with keys and not integer positions.\n",
    "\n",
    "Dictionaries are the closest container we have to a database.\n",
    "\n",
    "Here is a dictionary which gives us state names when looked up by their abbreviations.\n",
    "\n",
    "(We are sneakily getting to see some Python strings as well)"
   ]
  },
  {
   "cell_type": "code",
   "execution_count": 48,
   "metadata": {},
   "outputs": [],
   "source": [
    "#this mapping between states and abbreviations will come in handy later\n",
    "states_abbrev = {\n",
    "        'AK': 'Alaska',\n",
    "        'AL': 'Alabama',\n",
    "        'AR': 'Arkansas',\n",
    "        'AS': 'American Samoa',\n",
    "        'AZ': 'Arizona',\n",
    "        'CA': 'California',\n",
    "        'CO': 'Colorado',\n",
    "        'CT': 'Connecticut',\n",
    "        'DC': 'District of Columbia',\n",
    "        'DE': 'Delaware',\n",
    "        'FL': 'Florida',\n",
    "        'GA': 'Georgia',\n",
    "        'GU': 'Guam',\n",
    "        'HI': 'Hawaii',\n",
    "        'IA': 'Iowa',\n",
    "        'ID': 'Idaho',\n",
    "        'IL': 'Illinois',\n",
    "        'IN': 'Indiana',\n",
    "        'KS': 'Kansas',\n",
    "        'KY': 'Kentucky',\n",
    "        'LA': 'Louisiana',\n",
    "        'MA': 'Massachusetts',\n",
    "        'MD': 'Maryland',\n",
    "        'ME': 'Maine',\n",
    "        'MI': 'Michigan',\n",
    "        'MN': 'Minnesota',\n",
    "        'MO': 'Missouri',\n",
    "        'MP': 'Northern Mariana Islands',\n",
    "        'MS': 'Mississippi',\n",
    "        'MT': 'Montana',\n",
    "        'NA': 'National',\n",
    "        'NC': 'North Carolina',\n",
    "        'ND': 'North Dakota',\n",
    "        'NE': 'Nebraska',\n",
    "        'NH': 'New Hampshire',\n",
    "        'NJ': 'New Jersey',\n",
    "        'NM': 'New Mexico',\n",
    "        'NV': 'Nevada',\n",
    "        'NY': 'New York',\n",
    "        'OH': 'Ohio',\n",
    "        'OK': 'Oklahoma',\n",
    "        'OR': 'Oregon',\n",
    "        'PA': 'Pennsylvania',\n",
    "        'PR': 'Puerto Rico',\n",
    "        'RI': 'Rhode Island',\n",
    "        'SC': 'South Carolina',\n",
    "        'SD': 'South Dakota',\n",
    "        'TN': 'Tennessee',\n",
    "        'TX': 'Texas',\n",
    "        'UT': 'Utah',\n",
    "        'VA': 'Virginia',\n",
    "        'VI': 'Virgin Islands',\n",
    "        'VT': 'Vermont',\n",
    "        'WA': 'Washington',\n",
    "        'WI': 'Wisconsin',\n",
    "        'WV': 'West Virginia',\n",
    "        'WY': 'Wyoming'\n",
    "}\n"
   ]
  },
  {
   "cell_type": "code",
   "execution_count": 49,
   "metadata": {},
   "outputs": [
    {
     "data": {
      "text/plain": [
       "dict_keys(['AK', 'AL', 'AR', 'AS', 'AZ', 'CA', 'CO', 'CT', 'DC', 'DE', 'FL', 'GA', 'GU', 'HI', 'IA', 'ID', 'IL', 'IN', 'KS', 'KY', 'LA', 'MA', 'MD', 'ME', 'MI', 'MN', 'MO', 'MP', 'MS', 'MT', 'NA', 'NC', 'ND', 'NE', 'NH', 'NJ', 'NM', 'NV', 'NY', 'OH', 'OK', 'OR', 'PA', 'PR', 'RI', 'SC', 'SD', 'TN', 'TX', 'UT', 'VA', 'VI', 'VT', 'WA', 'WI', 'WV', 'WY'])"
      ]
     },
     "execution_count": 49,
     "metadata": {},
     "output_type": "execute_result"
    }
   ],
   "source": [
    "states_abbrev.keys()"
   ]
  },
  {
   "cell_type": "code",
   "execution_count": 50,
   "metadata": {},
   "outputs": [
    {
     "data": {
      "text/plain": [
       "dict_values(['Alaska', 'Alabama', 'Arkansas', 'American Samoa', 'Arizona', 'California', 'Colorado', 'Connecticut', 'District of Columbia', 'Delaware', 'Florida', 'Georgia', 'Guam', 'Hawaii', 'Iowa', 'Idaho', 'Illinois', 'Indiana', 'Kansas', 'Kentucky', 'Louisiana', 'Massachusetts', 'Maryland', 'Maine', 'Michigan', 'Minnesota', 'Missouri', 'Northern Mariana Islands', 'Mississippi', 'Montana', 'National', 'North Carolina', 'North Dakota', 'Nebraska', 'New Hampshire', 'New Jersey', 'New Mexico', 'Nevada', 'New York', 'Ohio', 'Oklahoma', 'Oregon', 'Pennsylvania', 'Puerto Rico', 'Rhode Island', 'South Carolina', 'South Dakota', 'Tennessee', 'Texas', 'Utah', 'Virginia', 'Virgin Islands', 'Vermont', 'Washington', 'Wisconsin', 'West Virginia', 'Wyoming'])"
      ]
     },
     "execution_count": 50,
     "metadata": {},
     "output_type": "execute_result"
    }
   ],
   "source": [
    "states_abbrev.values()"
   ]
  },
  {
   "cell_type": "code",
   "execution_count": 51,
   "metadata": {},
   "outputs": [
    {
     "data": {
      "text/plain": [
       "dict_items([('AK', 'Alaska'), ('AL', 'Alabama'), ('AR', 'Arkansas'), ('AS', 'American Samoa'), ('AZ', 'Arizona'), ('CA', 'California'), ('CO', 'Colorado'), ('CT', 'Connecticut'), ('DC', 'District of Columbia'), ('DE', 'Delaware'), ('FL', 'Florida'), ('GA', 'Georgia'), ('GU', 'Guam'), ('HI', 'Hawaii'), ('IA', 'Iowa'), ('ID', 'Idaho'), ('IL', 'Illinois'), ('IN', 'Indiana'), ('KS', 'Kansas'), ('KY', 'Kentucky'), ('LA', 'Louisiana'), ('MA', 'Massachusetts'), ('MD', 'Maryland'), ('ME', 'Maine'), ('MI', 'Michigan'), ('MN', 'Minnesota'), ('MO', 'Missouri'), ('MP', 'Northern Mariana Islands'), ('MS', 'Mississippi'), ('MT', 'Montana'), ('NA', 'National'), ('NC', 'North Carolina'), ('ND', 'North Dakota'), ('NE', 'Nebraska'), ('NH', 'New Hampshire'), ('NJ', 'New Jersey'), ('NM', 'New Mexico'), ('NV', 'Nevada'), ('NY', 'New York'), ('OH', 'Ohio'), ('OK', 'Oklahoma'), ('OR', 'Oregon'), ('PA', 'Pennsylvania'), ('PR', 'Puerto Rico'), ('RI', 'Rhode Island'), ('SC', 'South Carolina'), ('SD', 'South Dakota'), ('TN', 'Tennessee'), ('TX', 'Texas'), ('UT', 'Utah'), ('VA', 'Virginia'), ('VI', 'Virgin Islands'), ('VT', 'Vermont'), ('WA', 'Washington'), ('WI', 'Wisconsin'), ('WV', 'West Virginia'), ('WY', 'Wyoming')])"
      ]
     },
     "execution_count": 51,
     "metadata": {},
     "output_type": "execute_result"
    }
   ],
   "source": [
    "states_abbrev.items()"
   ]
  },
  {
   "cell_type": "code",
   "execution_count": 52,
   "metadata": {},
   "outputs": [
    {
     "name": "stdout",
     "output_type": "stream",
     "text": [
      "The state for abbreviation AK is Alaska.\n",
      "The state for abbreviation AL is Alabama.\n",
      "The state for abbreviation AR is Arkansas.\n",
      "The state for abbreviation AS is American Samoa.\n",
      "The state for abbreviation AZ is Arizona.\n",
      "The state for abbreviation CA is California.\n",
      "The state for abbreviation CO is Colorado.\n",
      "The state for abbreviation CT is Connecticut.\n",
      "The state for abbreviation DC is District of Columbia.\n",
      "The state for abbreviation DE is Delaware.\n",
      "The state for abbreviation FL is Florida.\n",
      "The state for abbreviation GA is Georgia.\n",
      "The state for abbreviation GU is Guam.\n",
      "The state for abbreviation HI is Hawaii.\n",
      "The state for abbreviation IA is Iowa.\n",
      "The state for abbreviation ID is Idaho.\n",
      "The state for abbreviation IL is Illinois.\n",
      "The state for abbreviation IN is Indiana.\n",
      "The state for abbreviation KS is Kansas.\n",
      "The state for abbreviation KY is Kentucky.\n",
      "The state for abbreviation LA is Louisiana.\n",
      "The state for abbreviation MA is Massachusetts.\n",
      "The state for abbreviation MD is Maryland.\n",
      "The state for abbreviation ME is Maine.\n",
      "The state for abbreviation MI is Michigan.\n",
      "The state for abbreviation MN is Minnesota.\n",
      "The state for abbreviation MO is Missouri.\n",
      "The state for abbreviation MP is Northern Mariana Islands.\n",
      "The state for abbreviation MS is Mississippi.\n",
      "The state for abbreviation MT is Montana.\n",
      "The state for abbreviation NA is National.\n",
      "The state for abbreviation NC is North Carolina.\n",
      "The state for abbreviation ND is North Dakota.\n",
      "The state for abbreviation NE is Nebraska.\n",
      "The state for abbreviation NH is New Hampshire.\n",
      "The state for abbreviation NJ is New Jersey.\n",
      "The state for abbreviation NM is New Mexico.\n",
      "The state for abbreviation NV is Nevada.\n",
      "The state for abbreviation NY is New York.\n",
      "The state for abbreviation OH is Ohio.\n",
      "The state for abbreviation OK is Oklahoma.\n",
      "The state for abbreviation OR is Oregon.\n",
      "The state for abbreviation PA is Pennsylvania.\n",
      "The state for abbreviation PR is Puerto Rico.\n",
      "The state for abbreviation RI is Rhode Island.\n",
      "The state for abbreviation SC is South Carolina.\n",
      "The state for abbreviation SD is South Dakota.\n",
      "The state for abbreviation TN is Tennessee.\n",
      "The state for abbreviation TX is Texas.\n",
      "The state for abbreviation UT is Utah.\n",
      "The state for abbreviation VA is Virginia.\n",
      "The state for abbreviation VI is Virgin Islands.\n",
      "The state for abbreviation VT is Vermont.\n",
      "The state for abbreviation WA is Washington.\n",
      "The state for abbreviation WI is Wisconsin.\n",
      "The state for abbreviation WV is West Virginia.\n",
      "The state for abbreviation WY is Wyoming.\n"
     ]
    }
   ],
   "source": [
    "for key, value in states_abbrev.items():\n",
    "    print(\"The state for abbreviation {} is {}.\".format(key, value))"
   ]
  },
  {
   "cell_type": "markdown",
   "metadata": {},
   "source": [
    "## Dataframes with Pandas\n",
    "\n",
    "For reference, here is a useful [pandas cheat sheet](https://drive.google.com/folderview?id=0ByIrJAE4KMTtaGhRcXkxNHhmY2M&usp=sharing).\n",
    "\n",
    "Often data is stored in comma separated values (CSV) files. CSV files can be output by any spreadsheet software, and are plain text, hence are a great way to share data.\n",
    "\n",
    "Here we are reading in a spreadsheet of the number of electoral votes in the American Electoral College."
   ]
  },
  {
   "cell_type": "code",
   "execution_count": 58,
   "metadata": {},
   "outputs": [
    {
     "data": {
      "text/html": [
       "<div>\n",
       "<style scoped>\n",
       "    .dataframe tbody tr th:only-of-type {\n",
       "        vertical-align: middle;\n",
       "    }\n",
       "\n",
       "    .dataframe tbody tr th {\n",
       "        vertical-align: top;\n",
       "    }\n",
       "\n",
       "    .dataframe thead th {\n",
       "        text-align: right;\n",
       "    }\n",
       "</style>\n",
       "<table border=\"1\" class=\"dataframe\">\n",
       "  <thead>\n",
       "    <tr style=\"text-align: right;\">\n",
       "      <th></th>\n",
       "      <th>State</th>\n",
       "      <th>Votes</th>\n",
       "    </tr>\n",
       "  </thead>\n",
       "  <tbody>\n",
       "    <tr>\n",
       "      <th>0</th>\n",
       "      <td>California</td>\n",
       "      <td>55</td>\n",
       "    </tr>\n",
       "    <tr>\n",
       "      <th>1</th>\n",
       "      <td>Texas</td>\n",
       "      <td>38</td>\n",
       "    </tr>\n",
       "    <tr>\n",
       "      <th>2</th>\n",
       "      <td>New York</td>\n",
       "      <td>29</td>\n",
       "    </tr>\n",
       "    <tr>\n",
       "      <th>3</th>\n",
       "      <td>Florida</td>\n",
       "      <td>29</td>\n",
       "    </tr>\n",
       "    <tr>\n",
       "      <th>4</th>\n",
       "      <td>Illinois</td>\n",
       "      <td>20</td>\n",
       "    </tr>\n",
       "  </tbody>\n",
       "</table>\n",
       "</div>"
      ],
      "text/plain": [
       "        State  Votes\n",
       "0  California     55\n",
       "1       Texas     38\n",
       "2    New York     29\n",
       "3     Florida     29\n",
       "4    Illinois     20"
      ]
     },
     "execution_count": 58,
     "metadata": {},
     "output_type": "execute_result"
    }
   ],
   "source": [
    "electoral_votes = pd.read_csv(\"data/electoral_votes.csv\")\n",
    "electoral_votes.head()"
   ]
  },
  {
   "cell_type": "markdown",
   "metadata": {},
   "source": [
    "The actual file looks something like this:\n",
    "\n",
    "```\n",
    "State,Votes\n",
    "California,55\n",
    "Texas,38\n",
    "New York,29\n",
    "Florida,29\n",
    "Illinois,20\n",
    "Pennsylvania,20\n",
    "```\n",
    "You can see that an index has been added, and its numerical, and starts at 0 (like in the lists). This index is not particularly useful, so lets set the state column as the index."
   ]
  },
  {
   "cell_type": "code",
   "execution_count": 59,
   "metadata": {},
   "outputs": [
    {
     "data": {
      "text/html": [
       "<div>\n",
       "<style scoped>\n",
       "    .dataframe tbody tr th:only-of-type {\n",
       "        vertical-align: middle;\n",
       "    }\n",
       "\n",
       "    .dataframe tbody tr th {\n",
       "        vertical-align: top;\n",
       "    }\n",
       "\n",
       "    .dataframe thead th {\n",
       "        text-align: right;\n",
       "    }\n",
       "</style>\n",
       "<table border=\"1\" class=\"dataframe\">\n",
       "  <thead>\n",
       "    <tr style=\"text-align: right;\">\n",
       "      <th></th>\n",
       "      <th>Votes</th>\n",
       "    </tr>\n",
       "    <tr>\n",
       "      <th>State</th>\n",
       "      <th></th>\n",
       "    </tr>\n",
       "  </thead>\n",
       "  <tbody>\n",
       "    <tr>\n",
       "      <th>California</th>\n",
       "      <td>55</td>\n",
       "    </tr>\n",
       "    <tr>\n",
       "      <th>Texas</th>\n",
       "      <td>38</td>\n",
       "    </tr>\n",
       "    <tr>\n",
       "      <th>New York</th>\n",
       "      <td>29</td>\n",
       "    </tr>\n",
       "    <tr>\n",
       "      <th>Florida</th>\n",
       "      <td>29</td>\n",
       "    </tr>\n",
       "    <tr>\n",
       "      <th>Illinois</th>\n",
       "      <td>20</td>\n",
       "    </tr>\n",
       "    <tr>\n",
       "      <th>Pennsylvania</th>\n",
       "      <td>20</td>\n",
       "    </tr>\n",
       "    <tr>\n",
       "      <th>Ohio</th>\n",
       "      <td>18</td>\n",
       "    </tr>\n",
       "    <tr>\n",
       "      <th>Michigan</th>\n",
       "      <td>16</td>\n",
       "    </tr>\n",
       "    <tr>\n",
       "      <th>Georgia</th>\n",
       "      <td>16</td>\n",
       "    </tr>\n",
       "    <tr>\n",
       "      <th>North Carolina</th>\n",
       "      <td>15</td>\n",
       "    </tr>\n",
       "    <tr>\n",
       "      <th>New Jersey</th>\n",
       "      <td>14</td>\n",
       "    </tr>\n",
       "    <tr>\n",
       "      <th>Virginia</th>\n",
       "      <td>13</td>\n",
       "    </tr>\n",
       "    <tr>\n",
       "      <th>Washington</th>\n",
       "      <td>12</td>\n",
       "    </tr>\n",
       "    <tr>\n",
       "      <th>Massachusetts</th>\n",
       "      <td>11</td>\n",
       "    </tr>\n",
       "    <tr>\n",
       "      <th>Indiana</th>\n",
       "      <td>11</td>\n",
       "    </tr>\n",
       "    <tr>\n",
       "      <th>Tennessee</th>\n",
       "      <td>11</td>\n",
       "    </tr>\n",
       "    <tr>\n",
       "      <th>Arizona</th>\n",
       "      <td>11</td>\n",
       "    </tr>\n",
       "    <tr>\n",
       "      <th>Missouri</th>\n",
       "      <td>10</td>\n",
       "    </tr>\n",
       "    <tr>\n",
       "      <th>Maryland</th>\n",
       "      <td>10</td>\n",
       "    </tr>\n",
       "    <tr>\n",
       "      <th>Minnesota</th>\n",
       "      <td>10</td>\n",
       "    </tr>\n",
       "    <tr>\n",
       "      <th>Wisconsin</th>\n",
       "      <td>10</td>\n",
       "    </tr>\n",
       "    <tr>\n",
       "      <th>Alabama</th>\n",
       "      <td>9</td>\n",
       "    </tr>\n",
       "    <tr>\n",
       "      <th>Colorado</th>\n",
       "      <td>9</td>\n",
       "    </tr>\n",
       "    <tr>\n",
       "      <th>South Carolina</th>\n",
       "      <td>9</td>\n",
       "    </tr>\n",
       "    <tr>\n",
       "      <th>Louisiana</th>\n",
       "      <td>8</td>\n",
       "    </tr>\n",
       "    <tr>\n",
       "      <th>Kentucky</th>\n",
       "      <td>8</td>\n",
       "    </tr>\n",
       "    <tr>\n",
       "      <th>Connecticut</th>\n",
       "      <td>7</td>\n",
       "    </tr>\n",
       "    <tr>\n",
       "      <th>Oklahoma</th>\n",
       "      <td>7</td>\n",
       "    </tr>\n",
       "    <tr>\n",
       "      <th>Oregon</th>\n",
       "      <td>7</td>\n",
       "    </tr>\n",
       "    <tr>\n",
       "      <th>Iowa</th>\n",
       "      <td>6</td>\n",
       "    </tr>\n",
       "    <tr>\n",
       "      <th>Arkansas</th>\n",
       "      <td>6</td>\n",
       "    </tr>\n",
       "    <tr>\n",
       "      <th>Kansas</th>\n",
       "      <td>6</td>\n",
       "    </tr>\n",
       "    <tr>\n",
       "      <th>Mississippi</th>\n",
       "      <td>6</td>\n",
       "    </tr>\n",
       "    <tr>\n",
       "      <th>Nevada</th>\n",
       "      <td>6</td>\n",
       "    </tr>\n",
       "    <tr>\n",
       "      <th>Utah</th>\n",
       "      <td>6</td>\n",
       "    </tr>\n",
       "    <tr>\n",
       "      <th>Nebraska</th>\n",
       "      <td>5</td>\n",
       "    </tr>\n",
       "    <tr>\n",
       "      <th>New Mexico</th>\n",
       "      <td>5</td>\n",
       "    </tr>\n",
       "    <tr>\n",
       "      <th>West Virginia</th>\n",
       "      <td>5</td>\n",
       "    </tr>\n",
       "    <tr>\n",
       "      <th>Hawaii</th>\n",
       "      <td>4</td>\n",
       "    </tr>\n",
       "    <tr>\n",
       "      <th>Idaho</th>\n",
       "      <td>4</td>\n",
       "    </tr>\n",
       "    <tr>\n",
       "      <th>Maine</th>\n",
       "      <td>4</td>\n",
       "    </tr>\n",
       "    <tr>\n",
       "      <th>New Hampshire</th>\n",
       "      <td>4</td>\n",
       "    </tr>\n",
       "    <tr>\n",
       "      <th>Rhode Island</th>\n",
       "      <td>4</td>\n",
       "    </tr>\n",
       "    <tr>\n",
       "      <th>Alaska</th>\n",
       "      <td>3</td>\n",
       "    </tr>\n",
       "    <tr>\n",
       "      <th>Delaware</th>\n",
       "      <td>3</td>\n",
       "    </tr>\n",
       "    <tr>\n",
       "      <th>District of Columbia</th>\n",
       "      <td>3</td>\n",
       "    </tr>\n",
       "    <tr>\n",
       "      <th>Montana</th>\n",
       "      <td>3</td>\n",
       "    </tr>\n",
       "    <tr>\n",
       "      <th>North Dakota</th>\n",
       "      <td>3</td>\n",
       "    </tr>\n",
       "    <tr>\n",
       "      <th>South Dakota</th>\n",
       "      <td>3</td>\n",
       "    </tr>\n",
       "    <tr>\n",
       "      <th>Vermont</th>\n",
       "      <td>3</td>\n",
       "    </tr>\n",
       "    <tr>\n",
       "      <th>Wyoming</th>\n",
       "      <td>3</td>\n",
       "    </tr>\n",
       "  </tbody>\n",
       "</table>\n",
       "</div>"
      ],
      "text/plain": [
       "                      Votes\n",
       "State                      \n",
       "California               55\n",
       "Texas                    38\n",
       "New York                 29\n",
       "Florida                  29\n",
       "Illinois                 20\n",
       "Pennsylvania             20\n",
       "Ohio                     18\n",
       "Michigan                 16\n",
       "Georgia                  16\n",
       "North Carolina           15\n",
       "New Jersey               14\n",
       "Virginia                 13\n",
       "Washington               12\n",
       "Massachusetts            11\n",
       "Indiana                  11\n",
       "Tennessee                11\n",
       "Arizona                  11\n",
       "Missouri                 10\n",
       "Maryland                 10\n",
       "Minnesota                10\n",
       "Wisconsin                10\n",
       "Alabama                   9\n",
       "Colorado                  9\n",
       "South Carolina            9\n",
       "Louisiana                 8\n",
       "Kentucky                  8\n",
       "Connecticut               7\n",
       "Oklahoma                  7\n",
       "Oregon                    7\n",
       "Iowa                      6\n",
       "Arkansas                  6\n",
       "Kansas                    6\n",
       "Mississippi               6\n",
       "Nevada                    6\n",
       "Utah                      6\n",
       "Nebraska                  5\n",
       "New Mexico                5\n",
       "West Virginia             5\n",
       "Hawaii                    4\n",
       "Idaho                     4\n",
       "Maine                     4\n",
       "New Hampshire             4\n",
       "Rhode Island              4\n",
       "Alaska                    3\n",
       "Delaware                  3\n",
       "District of Columbia      3\n",
       "Montana                   3\n",
       "North Dakota              3\n",
       "South Dakota              3\n",
       "Vermont                   3\n",
       "Wyoming                   3"
      ]
     },
     "execution_count": 59,
     "metadata": {},
     "output_type": "execute_result"
    }
   ],
   "source": [
    "acndf = electoral_votes.set_index('State')\n",
    "acndf"
   ]
  },
  {
   "cell_type": "code",
   "execution_count": 60,
   "metadata": {},
   "outputs": [
    {
     "data": {
      "text/html": [
       "<div>\n",
       "<style scoped>\n",
       "    .dataframe tbody tr th:only-of-type {\n",
       "        vertical-align: middle;\n",
       "    }\n",
       "\n",
       "    .dataframe tbody tr th {\n",
       "        vertical-align: top;\n",
       "    }\n",
       "\n",
       "    .dataframe thead th {\n",
       "        text-align: right;\n",
       "    }\n",
       "</style>\n",
       "<table border=\"1\" class=\"dataframe\">\n",
       "  <thead>\n",
       "    <tr style=\"text-align: right;\">\n",
       "      <th></th>\n",
       "      <th>Votes</th>\n",
       "    </tr>\n",
       "    <tr>\n",
       "      <th>State</th>\n",
       "      <th></th>\n",
       "    </tr>\n",
       "  </thead>\n",
       "  <tbody>\n",
       "    <tr>\n",
       "      <th>California</th>\n",
       "      <td>55</td>\n",
       "    </tr>\n",
       "    <tr>\n",
       "      <th>Texas</th>\n",
       "      <td>38</td>\n",
       "    </tr>\n",
       "    <tr>\n",
       "      <th>New York</th>\n",
       "      <td>29</td>\n",
       "    </tr>\n",
       "    <tr>\n",
       "      <th>Florida</th>\n",
       "      <td>29</td>\n",
       "    </tr>\n",
       "    <tr>\n",
       "      <th>Illinois</th>\n",
       "      <td>20</td>\n",
       "    </tr>\n",
       "  </tbody>\n",
       "</table>\n",
       "</div>"
      ],
      "text/plain": [
       "            Votes\n",
       "State            \n",
       "California     55\n",
       "Texas          38\n",
       "New York       29\n",
       "Florida        29\n",
       "Illinois       20"
      ]
     },
     "execution_count": 60,
     "metadata": {},
     "output_type": "execute_result"
    }
   ],
   "source": [
    "electoral_votes = electoral_votes.set_index('State')\n",
    "electoral_votes.head()"
   ]
  },
  {
   "cell_type": "markdown",
   "metadata": {},
   "source": [
    "Notice how we used the `electoral_votes` variable twice in a line above. Pandas returns new objects in memory when we do something to a dataframe (here, setting the index). We relabel the new memory with the same label.\n",
    "\n",
    "What happens to the old memory? When nothing refers to it, Python \"garbage collects\" it."
   ]
  },
  {
   "cell_type": "markdown",
   "metadata": {},
   "source": [
    "Let us load up another csv file. Gallup measures the political leaning of each state, based on asking random people which party they identify or affiliate with. [Here's the data](http://www.gallup.com/poll/156437/heavily-democratic-states-concentrated-east.aspx#2) they collected from January-June of 2012:"
   ]
  },
  {
   "cell_type": "code",
   "execution_count": 61,
   "metadata": {},
   "outputs": [
    {
     "data": {
      "text/html": [
       "<div>\n",
       "<style scoped>\n",
       "    .dataframe tbody tr th:only-of-type {\n",
       "        vertical-align: middle;\n",
       "    }\n",
       "\n",
       "    .dataframe tbody tr th {\n",
       "        vertical-align: top;\n",
       "    }\n",
       "\n",
       "    .dataframe thead th {\n",
       "        text-align: right;\n",
       "    }\n",
       "</style>\n",
       "<table border=\"1\" class=\"dataframe\">\n",
       "  <thead>\n",
       "    <tr style=\"text-align: right;\">\n",
       "      <th></th>\n",
       "      <th>Democrat</th>\n",
       "      <th>Republican</th>\n",
       "      <th>Dem_Adv</th>\n",
       "      <th>N</th>\n",
       "    </tr>\n",
       "    <tr>\n",
       "      <th>State</th>\n",
       "      <th></th>\n",
       "      <th></th>\n",
       "      <th></th>\n",
       "      <th></th>\n",
       "    </tr>\n",
       "  </thead>\n",
       "  <tbody>\n",
       "    <tr>\n",
       "      <th>Alabama</th>\n",
       "      <td>36.0</td>\n",
       "      <td>49.6</td>\n",
       "      <td>-13.6</td>\n",
       "      <td>3197</td>\n",
       "    </tr>\n",
       "    <tr>\n",
       "      <th>Alaska</th>\n",
       "      <td>35.9</td>\n",
       "      <td>44.3</td>\n",
       "      <td>-8.4</td>\n",
       "      <td>402</td>\n",
       "    </tr>\n",
       "    <tr>\n",
       "      <th>Arizona</th>\n",
       "      <td>39.8</td>\n",
       "      <td>47.3</td>\n",
       "      <td>-7.5</td>\n",
       "      <td>4325</td>\n",
       "    </tr>\n",
       "    <tr>\n",
       "      <th>Arkansas</th>\n",
       "      <td>41.5</td>\n",
       "      <td>40.8</td>\n",
       "      <td>0.7</td>\n",
       "      <td>2071</td>\n",
       "    </tr>\n",
       "    <tr>\n",
       "      <th>California</th>\n",
       "      <td>48.3</td>\n",
       "      <td>34.6</td>\n",
       "      <td>13.7</td>\n",
       "      <td>16197</td>\n",
       "    </tr>\n",
       "  </tbody>\n",
       "</table>\n",
       "</div>"
      ],
      "text/plain": [
       "            Democrat  Republican  Dem_Adv      N\n",
       "State                                           \n",
       "Alabama         36.0        49.6    -13.6   3197\n",
       "Alaska          35.9        44.3     -8.4    402\n",
       "Arizona         39.8        47.3     -7.5   4325\n",
       "Arkansas        41.5        40.8      0.7   2071\n",
       "California      48.3        34.6     13.7  16197"
      ]
     },
     "execution_count": 61,
     "metadata": {},
     "output_type": "execute_result"
    }
   ],
   "source": [
    "gallup_2012=pd.read_csv(\"data/g12.csv\").set_index('State')\n",
    "gallup_2012.head()"
   ]
  },
  {
   "cell_type": "markdown",
   "metadata": {},
   "source": [
    "What we have now is a spreadsheet with indexed rows and named columns, called a dataframe in pandas.  `gallup_2012` is an instance of the pd.DataFrame class, created by calling the pd.read_csv \"constructor function\".\n",
    "\n",
    "`gallup_2012` is a dataframe object, and it has methods (functions) belonging to it. For example, `gallup_2012.head()` is a method that shows the first 5 rows of the dataframe.\n",
    "\n",
    "A pandas dataframe is a set of columns pasted together into a spreadsheet, as shown in the schematic below, which is taken from the cheatsheet above. The columns in pandas are called series objects.\n",
    "\n",
    "![](images/pandastruct.png)"
   ]
  },
  {
   "cell_type": "markdown",
   "metadata": {},
   "source": [
    "Lets construct a new series of this data, people who said they would not vote republican or democrat:"
   ]
  },
  {
   "cell_type": "code",
   "execution_count": 62,
   "metadata": {},
   "outputs": [
    {
     "data": {
      "text/plain": [
       "State\n",
       "Alabama                 14.4\n",
       "Alaska                  19.8\n",
       "Arizona                 12.9\n",
       "Arkansas                17.7\n",
       "California              17.1\n",
       "Colorado                15.0\n",
       "Connecticut             15.8\n",
       "Delaware                16.4\n",
       "District of Columbia     8.3\n",
       "Florida                 14.7\n",
       "Georgia                 15.4\n",
       "Hawaii                  17.0\n",
       "Idaho                   14.7\n",
       "Illinois                15.8\n",
       "Indiana                 15.3\n",
       "Iowa                    15.4\n",
       "Kansas                  14.3\n",
       "Kentucky                13.4\n",
       "Louisiana               14.6\n",
       "Maine                   16.8\n",
       "Maryland                12.2\n",
       "Massachusetts           14.1\n",
       "Michigan                15.7\n",
       "Minnesota               13.4\n",
       "Mississippi             12.8\n",
       "Missouri                15.9\n",
       "Montana                 14.5\n",
       "Nebraska                14.8\n",
       "Nevada                  17.4\n",
       "New Hampshire           13.9\n",
       "New Jersey              16.7\n",
       "New Mexico              14.2\n",
       "New York                17.2\n",
       "North Carolina          13.4\n",
       "North Dakota            15.2\n",
       "Ohio                    15.4\n",
       "Oklahoma                13.4\n",
       "Oregon                  13.7\n",
       "Pennsylvania            12.4\n",
       "Rhode Island            21.0\n",
       "South Carolina          14.3\n",
       "South Dakota            11.0\n",
       "Tennessee               15.4\n",
       "Texas                   17.6\n",
       "Utah                    11.7\n",
       "Vermont                 16.3\n",
       "Virginia                14.6\n",
       "Washington              14.8\n",
       "West Virginia           12.8\n",
       "Wisconsin               12.8\n",
       "Wyoming                 16.7\n",
       "dtype: float64"
      ]
     },
     "execution_count": 62,
     "metadata": {},
     "output_type": "execute_result"
    }
   ],
   "source": [
    "vote_for_others = 100 - gallup_2012.Democrat - gallup_2012.Republican\n",
    "vote_for_others"
   ]
  },
  {
   "cell_type": "code",
   "execution_count": 63,
   "metadata": {},
   "outputs": [
    {
     "data": {
      "text/plain": [
       "pandas.core.series.Series"
      ]
     },
     "execution_count": 63,
     "metadata": {},
     "output_type": "execute_result"
    }
   ],
   "source": [
    "type(vote_for_others)"
   ]
  },
  {
   "cell_type": "markdown",
   "metadata": {},
   "source": [
    "Now lets paste this series into our dataframe:"
   ]
  },
  {
   "cell_type": "code",
   "execution_count": 64,
   "metadata": {},
   "outputs": [
    {
     "data": {
      "text/html": [
       "<div>\n",
       "<style scoped>\n",
       "    .dataframe tbody tr th:only-of-type {\n",
       "        vertical-align: middle;\n",
       "    }\n",
       "\n",
       "    .dataframe tbody tr th {\n",
       "        vertical-align: top;\n",
       "    }\n",
       "\n",
       "    .dataframe thead th {\n",
       "        text-align: right;\n",
       "    }\n",
       "</style>\n",
       "<table border=\"1\" class=\"dataframe\">\n",
       "  <thead>\n",
       "    <tr style=\"text-align: right;\">\n",
       "      <th></th>\n",
       "      <th>Democrat</th>\n",
       "      <th>Republican</th>\n",
       "      <th>Dem_Adv</th>\n",
       "      <th>N</th>\n",
       "      <th>Unknown</th>\n",
       "    </tr>\n",
       "    <tr>\n",
       "      <th>State</th>\n",
       "      <th></th>\n",
       "      <th></th>\n",
       "      <th></th>\n",
       "      <th></th>\n",
       "      <th></th>\n",
       "    </tr>\n",
       "  </thead>\n",
       "  <tbody>\n",
       "    <tr>\n",
       "      <th>Alabama</th>\n",
       "      <td>36.0</td>\n",
       "      <td>49.6</td>\n",
       "      <td>-13.6</td>\n",
       "      <td>3197</td>\n",
       "      <td>14.4</td>\n",
       "    </tr>\n",
       "    <tr>\n",
       "      <th>Alaska</th>\n",
       "      <td>35.9</td>\n",
       "      <td>44.3</td>\n",
       "      <td>-8.4</td>\n",
       "      <td>402</td>\n",
       "      <td>19.8</td>\n",
       "    </tr>\n",
       "    <tr>\n",
       "      <th>Arizona</th>\n",
       "      <td>39.8</td>\n",
       "      <td>47.3</td>\n",
       "      <td>-7.5</td>\n",
       "      <td>4325</td>\n",
       "      <td>12.9</td>\n",
       "    </tr>\n",
       "    <tr>\n",
       "      <th>Arkansas</th>\n",
       "      <td>41.5</td>\n",
       "      <td>40.8</td>\n",
       "      <td>0.7</td>\n",
       "      <td>2071</td>\n",
       "      <td>17.7</td>\n",
       "    </tr>\n",
       "    <tr>\n",
       "      <th>California</th>\n",
       "      <td>48.3</td>\n",
       "      <td>34.6</td>\n",
       "      <td>13.7</td>\n",
       "      <td>16197</td>\n",
       "      <td>17.1</td>\n",
       "    </tr>\n",
       "  </tbody>\n",
       "</table>\n",
       "</div>"
      ],
      "text/plain": [
       "            Democrat  Republican  Dem_Adv      N  Unknown\n",
       "State                                                    \n",
       "Alabama         36.0        49.6    -13.6   3197     14.4\n",
       "Alaska          35.9        44.3     -8.4    402     19.8\n",
       "Arizona         39.8        47.3     -7.5   4325     12.9\n",
       "Arkansas        41.5        40.8      0.7   2071     17.7\n",
       "California      48.3        34.6     13.7  16197     17.1"
      ]
     },
     "execution_count": 64,
     "metadata": {},
     "output_type": "execute_result"
    }
   ],
   "source": [
    "gallup_2012[\"Unknown\"] = vote_for_others\n",
    "gallup_2012.head()"
   ]
  },
  {
   "cell_type": "markdown",
   "metadata": {},
   "source": [
    "Each row lists a state, the percent of surveyed individuals who identify as Democrat/Republican, the percent whose identification is unknown or who haven't made an affiliation yet, the margin between Democrats and Republicans (`Dem_Adv`: the percentage identifying as Democrats minus the percentage identifying as Republicans), and the number `N` of people surveyed, and now this new `Unknown` column."
   ]
  },
  {
   "cell_type": "markdown",
   "metadata": {},
   "source": [
    "We now have two dataframes with state names as an index. Lets **join** these to produce a wider one with all the data we have. This is identical to a SQL inner join."
   ]
  },
  {
   "cell_type": "code",
   "execution_count": 66,
   "metadata": {},
   "outputs": [
    {
     "data": {
      "text/html": [
       "<div>\n",
       "<style scoped>\n",
       "    .dataframe tbody tr th:only-of-type {\n",
       "        vertical-align: middle;\n",
       "    }\n",
       "\n",
       "    .dataframe tbody tr th {\n",
       "        vertical-align: top;\n",
       "    }\n",
       "\n",
       "    .dataframe thead th {\n",
       "        text-align: right;\n",
       "    }\n",
       "</style>\n",
       "<table border=\"1\" class=\"dataframe\">\n",
       "  <thead>\n",
       "    <tr style=\"text-align: right;\">\n",
       "      <th></th>\n",
       "      <th>Democrat</th>\n",
       "      <th>Republican</th>\n",
       "      <th>Dem_Adv</th>\n",
       "      <th>N</th>\n",
       "      <th>Unknown</th>\n",
       "      <th>Votes</th>\n",
       "    </tr>\n",
       "    <tr>\n",
       "      <th>State</th>\n",
       "      <th></th>\n",
       "      <th></th>\n",
       "      <th></th>\n",
       "      <th></th>\n",
       "      <th></th>\n",
       "      <th></th>\n",
       "    </tr>\n",
       "  </thead>\n",
       "  <tbody>\n",
       "    <tr>\n",
       "      <th>Alabama</th>\n",
       "      <td>36.0</td>\n",
       "      <td>49.6</td>\n",
       "      <td>-13.6</td>\n",
       "      <td>3197</td>\n",
       "      <td>14.4</td>\n",
       "      <td>9</td>\n",
       "    </tr>\n",
       "    <tr>\n",
       "      <th>Alaska</th>\n",
       "      <td>35.9</td>\n",
       "      <td>44.3</td>\n",
       "      <td>-8.4</td>\n",
       "      <td>402</td>\n",
       "      <td>19.8</td>\n",
       "      <td>3</td>\n",
       "    </tr>\n",
       "    <tr>\n",
       "      <th>Arizona</th>\n",
       "      <td>39.8</td>\n",
       "      <td>47.3</td>\n",
       "      <td>-7.5</td>\n",
       "      <td>4325</td>\n",
       "      <td>12.9</td>\n",
       "      <td>11</td>\n",
       "    </tr>\n",
       "    <tr>\n",
       "      <th>Arkansas</th>\n",
       "      <td>41.5</td>\n",
       "      <td>40.8</td>\n",
       "      <td>0.7</td>\n",
       "      <td>2071</td>\n",
       "      <td>17.7</td>\n",
       "      <td>6</td>\n",
       "    </tr>\n",
       "    <tr>\n",
       "      <th>California</th>\n",
       "      <td>48.3</td>\n",
       "      <td>34.6</td>\n",
       "      <td>13.7</td>\n",
       "      <td>16197</td>\n",
       "      <td>17.1</td>\n",
       "      <td>55</td>\n",
       "    </tr>\n",
       "  </tbody>\n",
       "</table>\n",
       "</div>"
      ],
      "text/plain": [
       "            Democrat  Republican  Dem_Adv      N  Unknown  Votes\n",
       "State                                                           \n",
       "Alabama         36.0        49.6    -13.6   3197     14.4      9\n",
       "Alaska          35.9        44.3     -8.4    402     19.8      3\n",
       "Arizona         39.8        47.3     -7.5   4325     12.9     11\n",
       "Arkansas        41.5        40.8      0.7   2071     17.7      6\n",
       "California      48.3        34.6     13.7  16197     17.1     55"
      ]
     },
     "execution_count": 66,
     "metadata": {},
     "output_type": "execute_result"
    }
   ],
   "source": [
    "combined = gallup_2012.join(electoral_votes)\n",
    "combined.head()"
   ]
  },
  {
   "cell_type": "code",
   "execution_count": 67,
   "metadata": {},
   "outputs": [],
   "source": [
    "combined.to_csv(\"data/cleanedgallup.csv\")"
   ]
  },
  {
   "cell_type": "markdown",
   "metadata": {},
   "source": [
    "We can construct sub-dataframes by using an array-like indexing syntax"
   ]
  },
  {
   "cell_type": "code",
   "execution_count": 68,
   "metadata": {},
   "outputs": [
    {
     "data": {
      "text/html": [
       "<div>\n",
       "<style scoped>\n",
       "    .dataframe tbody tr th:only-of-type {\n",
       "        vertical-align: middle;\n",
       "    }\n",
       "\n",
       "    .dataframe tbody tr th {\n",
       "        vertical-align: top;\n",
       "    }\n",
       "\n",
       "    .dataframe thead th {\n",
       "        text-align: right;\n",
       "    }\n",
       "</style>\n",
       "<table border=\"1\" class=\"dataframe\">\n",
       "  <thead>\n",
       "    <tr style=\"text-align: right;\">\n",
       "      <th></th>\n",
       "      <th>Dem_Adv</th>\n",
       "      <th>Votes</th>\n",
       "    </tr>\n",
       "    <tr>\n",
       "      <th>State</th>\n",
       "      <th></th>\n",
       "      <th></th>\n",
       "    </tr>\n",
       "  </thead>\n",
       "  <tbody>\n",
       "    <tr>\n",
       "      <th>Alabama</th>\n",
       "      <td>-13.6</td>\n",
       "      <td>9</td>\n",
       "    </tr>\n",
       "    <tr>\n",
       "      <th>Alaska</th>\n",
       "      <td>-8.4</td>\n",
       "      <td>3</td>\n",
       "    </tr>\n",
       "    <tr>\n",
       "      <th>Arizona</th>\n",
       "      <td>-7.5</td>\n",
       "      <td>11</td>\n",
       "    </tr>\n",
       "    <tr>\n",
       "      <th>Arkansas</th>\n",
       "      <td>0.7</td>\n",
       "      <td>6</td>\n",
       "    </tr>\n",
       "    <tr>\n",
       "      <th>California</th>\n",
       "      <td>13.7</td>\n",
       "      <td>55</td>\n",
       "    </tr>\n",
       "  </tbody>\n",
       "</table>\n",
       "</div>"
      ],
      "text/plain": [
       "            Dem_Adv  Votes\n",
       "State                     \n",
       "Alabama       -13.6      9\n",
       "Alaska         -8.4      3\n",
       "Arizona        -7.5     11\n",
       "Arkansas        0.7      6\n",
       "California     13.7     55"
      ]
     },
     "execution_count": 68,
     "metadata": {},
     "output_type": "execute_result"
    }
   ],
   "source": [
    "combined[['Dem_Adv', 'Votes']].head()"
   ]
  },
  {
   "cell_type": "markdown",
   "metadata": {},
   "source": [
    "You can make simple plots very easily with pandas:"
   ]
  },
  {
   "cell_type": "code",
   "execution_count": 69,
   "metadata": {},
   "outputs": [
    {
     "data": {
      "image/png": "[encoded data removed]",
      "text/plain": [
       "<Figure size 432x288 with 1 Axes>"
      ]
     },
     "metadata": {
      "needs_background": "light"
     },
     "output_type": "display_data"
    }
   ],
   "source": [
    "combined.Votes.hist(bins=15);"
   ]
  },
  {
   "cell_type": "code",
   "execution_count": 74,
   "metadata": {},
   "outputs": [
    {
     "data": {
      "image/png": "[encoded data removed]",
      "text/plain": [
       "<Figure size 864x1440 with 1 Axes>"
      ]
     },
     "metadata": {
      "needs_background": "light"
     },
     "output_type": "display_data"
    }
   ],
   "source": [
    "plt.figure(figsize=(12, 20))\n",
    "combined.sort_values('Dem_Adv')['Dem_Adv'].plot(kind=\"barh\");"
   ]
  },
  {
   "cell_type": "markdown",
   "metadata": {},
   "source": [
    "What exactly is in a Pandas Series? Lets see:"
   ]
  },
  {
   "cell_type": "code",
   "execution_count": 75,
   "metadata": {},
   "outputs": [
    {
     "data": {
      "text/plain": [
       "State\n",
       "Alabama                  9\n",
       "Alaska                   3\n",
       "Arizona                 11\n",
       "Arkansas                 6\n",
       "California              55\n",
       "Colorado                 9\n",
       "Connecticut              7\n",
       "Delaware                 3\n",
       "District of Columbia     3\n",
       "Florida                 29\n",
       "Georgia                 16\n",
       "Hawaii                   4\n",
       "Idaho                    4\n",
       "Illinois                20\n",
       "Indiana                 11\n",
       "Iowa                     6\n",
       "Kansas                   6\n",
       "Kentucky                 8\n",
       "Louisiana                8\n",
       "Maine                    4\n",
       "Maryland                10\n",
       "Massachusetts           11\n",
       "Michigan                16\n",
       "Minnesota               10\n",
       "Mississippi              6\n",
       "Missouri                10\n",
       "Montana                  3\n",
       "Nebraska                 5\n",
       "Nevada                   6\n",
       "New Hampshire            4\n",
       "New Jersey              14\n",
       "New Mexico               5\n",
       "New York                29\n",
       "North Carolina          15\n",
       "North Dakota             3\n",
       "Ohio                    18\n",
       "Oklahoma                 7\n",
       "Oregon                   7\n",
       "Pennsylvania            20\n",
       "Rhode Island             4\n",
       "South Carolina           9\n",
       "South Dakota             3\n",
       "Tennessee               11\n",
       "Texas                   38\n",
       "Utah                     6\n",
       "Vermont                  3\n",
       "Virginia                13\n",
       "Washington              12\n",
       "West Virginia            5\n",
       "Wisconsin               10\n",
       "Wyoming                  3\n",
       "Name: Votes, dtype: int64"
      ]
     },
     "execution_count": 75,
     "metadata": {},
     "output_type": "execute_result"
    }
   ],
   "source": [
    "combined.Votes"
   ]
  },
  {
   "cell_type": "code",
   "execution_count": 76,
   "metadata": {},
   "outputs": [
    {
     "data": {
      "text/plain": [
       "array([ 9,  3, 11,  6, 55,  9,  7,  3,  3, 29, 16,  4,  4, 20, 11,  6,  6,\n",
       "        8,  8,  4, 10, 11, 16, 10,  6, 10,  3,  5,  6,  4, 14,  5, 29, 15,\n",
       "        3, 18,  7,  7, 20,  4,  9,  3, 11, 38,  6,  3, 13, 12,  5, 10,  3])"
      ]
     },
     "execution_count": 76,
     "metadata": {},
     "output_type": "execute_result"
    }
   ],
   "source": [
    "votes_array = combined.Votes.values\n",
    "votes_array"
   ]
  },
  {
   "cell_type": "code",
   "execution_count": 77,
   "metadata": {},
   "outputs": [
    {
     "data": {
      "text/plain": [
       "(numpy.ndarray, dtype('int64'))"
      ]
     },
     "execution_count": 77,
     "metadata": {},
     "output_type": "execute_result"
    }
   ],
   "source": [
    "type(votes_array), votes_array.dtype"
   ]
  },
  {
   "cell_type": "markdown",
   "metadata": {},
   "source": [
    "This is a special kind of list called a `numpy array`. Unlike regular python lists, the items in here are all of one type, 64 bit integers. This allows python to allocate memory contiguously for the array, as it knows what to expect. This particular array is 1-dimensional."
   ]
  },
  {
   "cell_type": "code",
   "execution_count": 78,
   "metadata": {},
   "outputs": [
    {
     "data": {
      "text/plain": [
       "(51,)"
      ]
     },
     "execution_count": 78,
     "metadata": {},
     "output_type": "execute_result"
    }
   ],
   "source": [
    "votes_array.shape"
   ]
  },
  {
   "cell_type": "markdown",
   "metadata": {},
   "source": [
    "If you get `values` from a dataframe, you get a 2-D array!"
   ]
  },
  {
   "cell_type": "code",
   "execution_count": 79,
   "metadata": {},
   "outputs": [
    {
     "data": {
      "text/plain": [
       "array([[-13.6,   9. ],\n",
       "       [ -8.4,   3. ],\n",
       "       [ -7.5,  11. ],\n",
       "       [  0.7,   6. ],\n",
       "       [ 13.7,  55. ],\n",
       "       [ -5.2,   9. ],\n",
       "       [ 15.4,   7. ],\n",
       "       [ 17.4,   3. ],\n",
       "       [ 66.3,   3. ],\n",
       "       [  0.7,  29. ],\n",
       "       [ -4. ,  16. ],\n",
       "       [ 25.6,   4. ],\n",
       "       [-30.3,   4. ],\n",
       "       [ 12.6,  20. ],\n",
       "       [ -6.7,  11. ],\n",
       "       [  1.8,   6. ],\n",
       "       [-16.9,   6. ],\n",
       "       [  0.4,   8. ],\n",
       "       [ -4.8,   8. ],\n",
       "       [  4.4,   4. ],\n",
       "       [ 20.2,  10. ],\n",
       "       [ 19.1,  11. ],\n",
       "       [ 11.1,  16. ],\n",
       "       [ 10.2,  10. ],\n",
       "       [ -7. ,   6. ],\n",
       "       [ -3.9,  10. ],\n",
       "       [-13.7,   3. ],\n",
       "       [-19. ,   5. ],\n",
       "       [ -4.2,   6. ],\n",
       "       [ -1.5,   4. ],\n",
       "       [ 11.5,  14. ],\n",
       "       [  3.6,   5. ],\n",
       "       [ 21.2,  29. ],\n",
       "       [  0.2,  15. ],\n",
       "       [-13.2,   3. ],\n",
       "       [  3.6,  18. ],\n",
       "       [ -9.4,   7. ],\n",
       "       [  8.1,   7. ],\n",
       "       [  5.2,  20. ],\n",
       "       [ 26. ,   4. ],\n",
       "       [-11.9,   9. ],\n",
       "       [ -6. ,   3. ],\n",
       "       [ -8.4,  11. ],\n",
       "       [ -5.8,  38. ],\n",
       "       [-39.3,   6. ],\n",
       "       [ 13.9,   3. ],\n",
       "       [ -3. ,  13. ],\n",
       "       [  9.8,  12. ],\n",
       "       [  3.4,   5. ],\n",
       "       [  2.8,  10. ],\n",
       "       [-29.9,   3. ]])"
      ]
     },
     "execution_count": 79,
     "metadata": {},
     "output_type": "execute_result"
    }
   ],
   "source": [
    "array_2d = combined[['Dem_Adv', 'Votes']].values\n",
    "array_2d"
   ]
  },
  {
   "cell_type": "markdown",
   "metadata": {},
   "source": [
    "Notice that the electoral votes got co-erced to floats"
   ]
  },
  {
   "cell_type": "code",
   "execution_count": 80,
   "metadata": {},
   "outputs": [
    {
     "data": {
      "text/plain": [
       "(numpy.ndarray, (51, 2), dtype('float64'))"
      ]
     },
     "execution_count": 80,
     "metadata": {},
     "output_type": "execute_result"
    }
   ],
   "source": [
    "type(array_2d), array_2d.shape, array_2d.dtype"
   ]
  },
  {
   "cell_type": "markdown",
   "metadata": {},
   "source": [
    "## JSON file format\n",
    "\n",
    "```\n",
    "{\"type\":\"FeatureCollection\",\"features\":[\n",
    "{\"type\":\"Feature\",\"id\":\"AL\",\"properties\":{\"name\":\"Alabama\"},\"geometry\":{\"type\":\"Polygon\",\"coordinates\":[[[-87.359296,35.00118],[-85.606675,34.984749],\n",
    "[-85.431413,34.124869],[-85.184951,32.859696],[-85.069935,32.580372],[-84.960397,32.421541],\n",
    "[-85.004212,32.322956],[-84.889196,32.262709],[-85.058981,32.13674],[-85.053504,32.01077],\n",
    "[-85.141136,31.840985],[-85.042551,31.539753],[-85.113751,31.27686],[-85.004212,31.003013],\n",
    "[-85.497137,30.997536],[-87.600282,30.997536],[-87.633143,30.86609],[-87.408589,30.674397],\n",
    "[-87.446927,30.510088],[-87.37025,30.427934],[-87.518128,30.280057],[-87.655051,30.247195],\n",
    "[-87.90699,30.411504],[-87.934375,30.657966],[-88.011052,30.685351],[-88.10416,30.499135],\n",
    "[-88.137022,30.318396],[-88.394438,30.367688],[-88.471115,31.895754],[-88.241084,33.796253],\n",
    "[-88.098683,34.891641],[-88.202745,34.995703],[-87.359296,35.00118]]]}},\n",
    "{\"type\":\"Feature\",\"id\":\"AK\",\"properties\":{\"name\":\"Alaska\"},\"geometry\":{\"type\":\"M\n",
    "```\n",
    "\n",
    "This is an often used file format on the web. Here we have US State shapefiles in JSON. It maps to a python dictionary. We use a context manager (`with`) to open this file and load json data. The context manager makes sure the file gets closed."
   ]
  },
  {
   "cell_type": "code",
   "execution_count": 81,
   "metadata": {},
   "outputs": [],
   "source": [
    "import json\n",
    "with open(\"data/us-states.json\") as fd: # makes sure file is closed.\n",
    "    data = json.load(fd)"
   ]
  },
  {
   "cell_type": "code",
   "execution_count": 83,
   "metadata": {},
   "outputs": [
    {
     "name": "stdout",
     "output_type": "stream",
     "text": [
      "dict_keys(['type', 'features'])\n"
     ]
    },
    {
     "data": {
      "text/plain": [
       "{'type': 'Feature',\n",
       " 'id': 'AL',\n",
       " 'properties': {'name': 'Alabama'},\n",
       " 'geometry': {'type': 'Polygon',\n",
       "  'coordinates': [[[-87.359296, 35.00118],\n",
       "    [-85.606675, 34.984749],\n",
       "    [-85.431413, 34.124869],\n",
       "    [-85.184951, 32.859696],\n",
       "    [-85.069935, 32.580372],\n",
       "    [-84.960397, 32.421541],\n",
       "    [-85.004212, 32.322956],\n",
       "    [-84.889196, 32.262709],\n",
       "    [-85.058981, 32.13674],\n",
       "    [-85.053504, 32.01077],\n",
       "    [-85.141136, 31.840985],\n",
       "    [-85.042551, 31.539753],\n",
       "    [-85.113751, 31.27686],\n",
       "    [-85.004212, 31.003013],\n",
       "    [-85.497137, 30.997536],\n",
       "    [-87.600282, 30.997536],\n",
       "    [-87.633143, 30.86609],\n",
       "    [-87.408589, 30.674397],\n",
       "    [-87.446927, 30.510088],\n",
       "    [-87.37025, 30.427934],\n",
       "    [-87.518128, 30.280057],\n",
       "    [-87.655051, 30.247195],\n",
       "    [-87.90699, 30.411504],\n",
       "    [-87.934375, 30.657966],\n",
       "    [-88.011052, 30.685351],\n",
       "    [-88.10416, 30.499135],\n",
       "    [-88.137022, 30.318396],\n",
       "    [-88.394438, 30.367688],\n",
       "    [-88.471115, 31.895754],\n",
       "    [-88.241084, 33.796253],\n",
       "    [-88.098683, 34.891641],\n",
       "    [-88.202745, 34.995703],\n",
       "    [-87.359296, 35.00118]]]}}"
      ]
     },
     "execution_count": 83,
     "metadata": {},
     "output_type": "execute_result"
    }
   ],
   "source": [
    "print(data.keys())\n",
    "data['features'][0]"
   ]
  },
  {
   "cell_type": "code",
   "execution_count": 84,
   "metadata": {},
   "outputs": [
    {
     "data": {
      "text/plain": [
       "{'type': 'Feature',\n",
       " 'id': 'AK',\n",
       " 'properties': {'name': 'Alaska'},\n",
       " 'geometry': {'type': 'MultiPolygon',\n",
       "  'coordinates': [[[[-131.602021, 55.117982],\n",
       "     [-131.569159, 55.28229],\n",
       "     [-131.355558, 55.183705],\n",
       "     [-131.38842, 55.01392],\n",
       "     [-131.645836, 55.035827],\n",
       "     [-131.602021, 55.117982]]],\n",
       "   [[[-131.832052, 55.42469],\n",
       "     [-131.645836, 55.304197],\n",
       "     [-131.749898, 55.128935],\n",
       "     [-131.832052, 55.189182],\n",
       "     [-131.832052, 55.42469]]],\n",
       "   [[[-132.976733, 56.437924],\n",
       "     [-132.735747, 56.459832],\n",
       "     [-132.631685, 56.421493],\n",
       "     [-132.664547, 56.273616],\n",
       "     [-132.878148, 56.240754],\n",
       "     [-133.069841, 56.333862],\n",
       "     [-132.976733, 56.437924]]],\n",
       "   [[[-133.595627, 56.350293],\n",
       "     [-133.162949, 56.317431],\n",
       "     [-133.05341, 56.125739],\n",
       "     [-132.620732, 55.912138],\n",
       "     [-132.472854, 55.780691],\n",
       "     [-132.4619, 55.671152],\n",
       "     [-132.357838, 55.649245],\n",
       "     [-132.341408, 55.506844],\n",
       "     [-132.166146, 55.364444],\n",
       "     [-132.144238, 55.238474],\n",
       "     [-132.029222, 55.276813],\n",
       "     [-131.97993, 55.178228],\n",
       "     [-131.958022, 54.789365],\n",
       "     [-132.029222, 54.701734],\n",
       "     [-132.308546, 54.718165],\n",
       "     [-132.385223, 54.915335],\n",
       "     [-132.483808, 54.898904],\n",
       "     [-132.686455, 55.046781],\n",
       "     [-132.746701, 54.997489],\n",
       "     [-132.916486, 55.046781],\n",
       "     [-132.889102, 54.898904],\n",
       "     [-132.73027, 54.937242],\n",
       "     [-132.626209, 54.882473],\n",
       "     [-132.675501, 54.679826],\n",
       "     [-132.867194, 54.701734],\n",
       "     [-133.157472, 54.95915],\n",
       "     [-133.239626, 55.090597],\n",
       "     [-133.223195, 55.22752],\n",
       "     [-133.453227, 55.216566],\n",
       "     [-133.453227, 55.320628],\n",
       "     [-133.277964, 55.331582],\n",
       "     [-133.102702, 55.42469],\n",
       "     [-133.17938, 55.588998],\n",
       "     [-133.387503, 55.62186],\n",
       "     [-133.420365, 55.884753],\n",
       "     [-133.497042, 56.0162],\n",
       "     [-133.639442, 55.923092],\n",
       "     [-133.694212, 56.070969],\n",
       "     [-133.546335, 56.142169],\n",
       "     [-133.666827, 56.311955],\n",
       "     [-133.595627, 56.350293]]],\n",
       "   [[[-133.738027, 55.556137],\n",
       "     [-133.546335, 55.490413],\n",
       "     [-133.414888, 55.572568],\n",
       "     [-133.283441, 55.534229],\n",
       "     [-133.420365, 55.386352],\n",
       "     [-133.633966, 55.430167],\n",
       "     [-133.738027, 55.556137]]],\n",
       "   [[[-133.907813, 56.930849],\n",
       "     [-134.050213, 57.029434],\n",
       "     [-133.885905, 57.095157],\n",
       "     [-133.343688, 57.002049],\n",
       "     [-133.102702, 57.007526],\n",
       "     [-132.932917, 56.82131],\n",
       "     [-132.620732, 56.667956],\n",
       "     [-132.653593, 56.55294],\n",
       "     [-132.817901, 56.492694],\n",
       "     [-133.042456, 56.520078],\n",
       "     [-133.201287, 56.448878],\n",
       "     [-133.420365, 56.492694],\n",
       "     [-133.66135, 56.448878],\n",
       "     [-133.710643, 56.684386],\n",
       "     [-133.688735, 56.837741],\n",
       "     [-133.869474, 56.843218],\n",
       "     [-133.907813, 56.930849]]],\n",
       "   [[[-134.115936, 56.48174],\n",
       "     [-134.25286, 56.558417],\n",
       "     [-134.400737, 56.722725],\n",
       "     [-134.417168, 56.848695],\n",
       "     [-134.296675, 56.908941],\n",
       "     [-134.170706, 56.848695],\n",
       "     [-134.143321, 56.952757],\n",
       "     [-133.748981, 56.772017],\n",
       "     [-133.710643, 56.596755],\n",
       "     [-133.847566, 56.574848],\n",
       "     [-133.935197, 56.377678],\n",
       "     [-133.836612, 56.322908],\n",
       "     [-133.957105, 56.092877],\n",
       "     [-134.110459, 56.142169],\n",
       "     [-134.132367, 55.999769],\n",
       "     [-134.230952, 56.070969],\n",
       "     [-134.291198, 56.350293],\n",
       "     [-134.115936, 56.48174]]],\n",
       "   [[[-134.636246, 56.28457],\n",
       "     [-134.669107, 56.169554],\n",
       "     [-134.806031, 56.235277],\n",
       "     [-135.178463, 56.67891],\n",
       "     [-135.413971, 56.810356],\n",
       "     [-135.331817, 56.914418],\n",
       "     [-135.424925, 57.166357],\n",
       "     [-135.687818, 57.369004],\n",
       "     [-135.419448, 57.566174],\n",
       "     [-135.298955, 57.48402],\n",
       "     [-135.063447, 57.418296],\n",
       "     [-134.849846, 57.407343],\n",
       "     [-134.844369, 57.248511],\n",
       "     [-134.636246, 56.728202],\n",
       "     [-134.636246, 56.28457]]],\n",
       "   [[[-134.712923, 58.223407],\n",
       "     [-134.373353, 58.14673],\n",
       "     [-134.176183, 58.157683],\n",
       "     [-134.187137, 58.081006],\n",
       "     [-133.902336, 57.807159],\n",
       "     [-134.099505, 57.850975],\n",
       "     [-134.148798, 57.757867],\n",
       "     [-133.935197, 57.615466],\n",
       "     [-133.869474, 57.363527],\n",
       "     [-134.083075, 57.297804],\n",
       "     [-134.154275, 57.210173],\n",
       "     [-134.499322, 57.029434],\n",
       "     [-134.603384, 57.034911],\n",
       "     [-134.6472, 57.226604],\n",
       "     [-134.575999, 57.341619],\n",
       "     [-134.608861, 57.511404],\n",
       "     [-134.729354, 57.719528],\n",
       "     [-134.707446, 57.829067],\n",
       "     [-134.784123, 58.097437],\n",
       "     [-134.91557, 58.212453],\n",
       "     [-134.953908, 58.409623],\n",
       "     [-134.712923, 58.223407]]],\n",
       "   [[[-135.857603, 57.330665],\n",
       "     [-135.715203, 57.330665],\n",
       "     [-135.567326, 57.149926],\n",
       "     [-135.633049, 57.023957],\n",
       "     [-135.857603, 56.996572],\n",
       "     [-135.824742, 57.193742],\n",
       "     [-135.857603, 57.330665]]],\n",
       "   [[[-136.279328, 58.206976],\n",
       "     [-135.978096, 58.201499],\n",
       "     [-135.780926, 58.28913],\n",
       "     [-135.496125, 58.168637],\n",
       "     [-135.64948, 58.037191],\n",
       "     [-135.59471, 57.987898],\n",
       "     [-135.45231, 58.135776],\n",
       "     [-135.107263, 58.086483],\n",
       "     [-134.91557, 57.976944],\n",
       "     [-135.025108, 57.779775],\n",
       "     [-134.937477, 57.763344],\n",
       "     [-134.822462, 57.500451],\n",
       "     [-135.085355, 57.462112],\n",
       "     [-135.572802, 57.675713],\n",
       "     [-135.556372, 57.456635],\n",
       "     [-135.709726, 57.369004],\n",
       "     [-135.890465, 57.407343],\n",
       "     [-136.000004, 57.544266],\n",
       "     [-136.208128, 57.637374],\n",
       "     [-136.366959, 57.829067],\n",
       "     [-136.569606, 57.916698],\n",
       "     [-136.558652, 58.075529],\n",
       "     [-136.421728, 58.130299],\n",
       "     [-136.377913, 58.267222],\n",
       "     [-136.279328, 58.206976]]],\n",
       "   [[[-147.079854, 60.200582],\n",
       "     [-147.501579, 59.948643],\n",
       "     [-147.53444, 59.850058],\n",
       "     [-147.874011, 59.784335],\n",
       "     [-147.80281, 59.937689],\n",
       "     [-147.435855, 60.09652],\n",
       "     [-147.205824, 60.271782],\n",
       "     [-147.079854, 60.200582]]],\n",
       "   [[[-147.561825, 60.578491],\n",
       "     [-147.616594, 60.370367],\n",
       "     [-147.758995, 60.156767],\n",
       "     [-147.956165, 60.227967],\n",
       "     [-147.791856, 60.474429],\n",
       "     [-147.561825, 60.578491]]],\n",
       "   [[[-147.786379, 70.245291],\n",
       "     [-147.682318, 70.201475],\n",
       "     [-147.162008, 70.15766],\n",
       "     [-146.888161, 70.185044],\n",
       "     [-146.510252, 70.185044],\n",
       "     [-146.099482, 70.146706],\n",
       "     [-145.858496, 70.168614],\n",
       "     [-145.622988, 70.08646],\n",
       "     [-145.195787, 69.993352],\n",
       "     [-144.620708, 69.971444],\n",
       "     [-144.461877, 70.026213],\n",
       "     [-144.078491, 70.059075],\n",
       "     [-143.914183, 70.130275],\n",
       "     [-143.497935, 70.141229],\n",
       "     [-143.503412, 70.091936],\n",
       "     [-143.25695, 70.119321],\n",
       "     [-142.747594, 70.042644],\n",
       "     [-142.402547, 69.916674],\n",
       "     [-142.079408, 69.856428],\n",
       "     [-142.008207, 69.801659],\n",
       "     [-141.712453, 69.790705],\n",
       "     [-141.433129, 69.697597],\n",
       "     [-141.378359, 69.63735],\n",
       "     [-141.208574, 69.686643],\n",
       "     [-141.00045, 69.648304],\n",
       "     [-141.00045, 60.304644],\n",
       "     [-140.53491, 60.22249],\n",
       "     [-140.474664, 60.310121],\n",
       "     [-139.987216, 60.184151],\n",
       "     [-139.696939, 60.342983],\n",
       "     [-139.088998, 60.359413],\n",
       "     [-139.198537, 60.091043],\n",
       "     [-139.045183, 59.997935],\n",
       "     [-138.700135, 59.910304],\n",
       "     [-138.623458, 59.767904],\n",
       "     [-137.604747, 59.242118],\n",
       "     [-137.445916, 58.908024],\n",
       "     [-137.265177, 59.001132],\n",
       "     [-136.827022, 59.159963],\n",
       "     [-136.580559, 59.16544],\n",
       "     [-136.465544, 59.285933],\n",
       "     [-136.476498, 59.466672],\n",
       "     [-136.301236, 59.466672],\n",
       "     [-136.25742, 59.625503],\n",
       "     [-135.945234, 59.663842],\n",
       "     [-135.479694, 59.800766],\n",
       "     [-135.025108, 59.565257],\n",
       "     [-135.068924, 59.422857],\n",
       "     [-134.959385, 59.280456],\n",
       "     [-134.701969, 59.247595],\n",
       "     [-134.378829, 59.033994],\n",
       "     [-134.400737, 58.973748],\n",
       "     [-134.25286, 58.858732],\n",
       "     [-133.842089, 58.727285],\n",
       "     [-133.173903, 58.152206],\n",
       "     [-133.075318, 57.998852],\n",
       "     [-132.867194, 57.845498],\n",
       "     [-132.560485, 57.505928],\n",
       "     [-132.253777, 57.21565],\n",
       "     [-132.368792, 57.095157],\n",
       "     [-132.05113, 57.051341],\n",
       "     [-132.127807, 56.876079],\n",
       "     [-131.870391, 56.804879],\n",
       "     [-131.837529, 56.602232],\n",
       "     [-131.580113, 56.613186],\n",
       "     [-131.087188, 56.405062],\n",
       "     [-130.78048, 56.366724],\n",
       "     [-130.621648, 56.268139],\n",
       "     [-130.468294, 56.240754],\n",
       "     [-130.424478, 56.142169],\n",
       "     [-130.101339, 56.114785],\n",
       "     [-130.002754, 55.994292],\n",
       "     [-130.150631, 55.769737],\n",
       "     [-130.128724, 55.583521],\n",
       "     [-129.986323, 55.276813],\n",
       "     [-130.095862, 55.200136],\n",
       "     [-130.336847, 54.920812],\n",
       "     [-130.687372, 54.718165],\n",
       "     [-130.785957, 54.822227],\n",
       "     [-130.917403, 54.789365],\n",
       "     [-131.010511, 54.997489],\n",
       "     [-130.983126, 55.08512],\n",
       "     [-131.092665, 55.189182],\n",
       "     [-130.862634, 55.298721],\n",
       "     [-130.928357, 55.337059],\n",
       "     [-131.158389, 55.200136],\n",
       "     [-131.284358, 55.287767],\n",
       "     [-131.426759, 55.238474],\n",
       "     [-131.843006, 55.457552],\n",
       "     [-131.700606, 55.698537],\n",
       "     [-131.963499, 55.616383],\n",
       "     [-131.974453, 55.49589],\n",
       "     [-132.182576, 55.588998],\n",
       "     [-132.226392, 55.704014],\n",
       "     [-132.083991, 55.829984],\n",
       "     [-132.127807, 55.955953],\n",
       "     [-132.324977, 55.851892],\n",
       "     [-132.522147, 56.076446],\n",
       "     [-132.642639, 56.032631],\n",
       "     [-132.719317, 56.218847],\n",
       "     [-132.527624, 56.339339],\n",
       "     [-132.341408, 56.339339],\n",
       "     [-132.396177, 56.487217],\n",
       "     [-132.297592, 56.67891],\n",
       "     [-132.450946, 56.673433],\n",
       "     [-132.768609, 56.837741],\n",
       "     [-132.993164, 57.034911],\n",
       "     [-133.51895, 57.177311],\n",
       "     [-133.507996, 57.577128],\n",
       "     [-133.677781, 57.62642],\n",
       "     [-133.639442, 57.790728],\n",
       "     [-133.814705, 57.834544],\n",
       "     [-134.072121, 58.053622],\n",
       "     [-134.143321, 58.168637],\n",
       "     [-134.586953, 58.206976],\n",
       "     [-135.074401, 58.502731],\n",
       "     [-135.282525, 59.192825],\n",
       "     [-135.38111, 59.033994],\n",
       "     [-135.337294, 58.891593],\n",
       "     [-135.140124, 58.617746],\n",
       "     [-135.189417, 58.573931],\n",
       "     [-135.05797, 58.349376],\n",
       "     [-135.085355, 58.201499],\n",
       "     [-135.277048, 58.234361],\n",
       "     [-135.430402, 58.398669],\n",
       "     [-135.633049, 58.426053],\n",
       "     [-135.91785, 58.382238],\n",
       "     [-135.912373, 58.617746],\n",
       "     [-136.087635, 58.814916],\n",
       "     [-136.246466, 58.75467],\n",
       "     [-136.876314, 58.962794],\n",
       "     [-136.931084, 58.902547],\n",
       "     [-136.586036, 58.836824],\n",
       "     [-136.317666, 58.672516],\n",
       "     [-136.213604, 58.667039],\n",
       "     [-136.180743, 58.535592],\n",
       "     [-136.043819, 58.382238],\n",
       "     [-136.388867, 58.294607],\n",
       "     [-136.591513, 58.349376],\n",
       "     [-136.59699, 58.212453],\n",
       "     [-136.859883, 58.316515],\n",
       "     [-136.947514, 58.393192],\n",
       "     [-137.111823, 58.393192],\n",
       "     [-137.566409, 58.590362],\n",
       "     [-137.900502, 58.765624],\n",
       "     [-137.933364, 58.869686],\n",
       "     [-138.11958, 59.02304],\n",
       "     [-138.634412, 59.132579],\n",
       "     [-138.919213, 59.247595],\n",
       "     [-139.417615, 59.379041],\n",
       "     [-139.746231, 59.505011],\n",
       "     [-139.718846, 59.641934],\n",
       "     [-139.625738, 59.598119],\n",
       "     [-139.5162, 59.68575],\n",
       "     [-139.625738, 59.88292],\n",
       "     [-139.488815, 59.992458],\n",
       "     [-139.554538, 60.041751],\n",
       "     [-139.801, 59.833627],\n",
       "     [-140.315833, 59.696704],\n",
       "     [-140.92925, 59.745996],\n",
       "     [-141.444083, 59.871966],\n",
       "     [-141.46599, 59.970551],\n",
       "     [-141.706976, 59.948643],\n",
       "     [-141.964392, 60.019843],\n",
       "     [-142.539471, 60.085566],\n",
       "     [-142.873564, 60.091043],\n",
       "     [-143.623905, 60.036274],\n",
       "     [-143.892275, 59.997935],\n",
       "     [-144.231845, 60.140336],\n",
       "     [-144.65357, 60.206059],\n",
       "     [-144.785016, 60.29369],\n",
       "     [-144.834309, 60.441568],\n",
       "     [-145.124586, 60.430614],\n",
       "     [-145.223171, 60.299167],\n",
       "     [-145.738004, 60.474429],\n",
       "     [-145.820158, 60.551106],\n",
       "     [-146.351421, 60.408706],\n",
       "     [-146.608837, 60.238921],\n",
       "     [-146.718376, 60.397752],\n",
       "     [-146.608837, 60.485383],\n",
       "     [-146.455483, 60.463475],\n",
       "     [-145.951604, 60.578491],\n",
       "     [-146.017328, 60.666122],\n",
       "     [-146.252836, 60.622307],\n",
       "     [-146.345944, 60.737322],\n",
       "     [-146.565022, 60.753753],\n",
       "     [-146.784099, 61.044031],\n",
       "     [-146.866253, 60.972831],\n",
       "     [-147.172962, 60.934492],\n",
       "     [-147.271547, 60.972831],\n",
       "     [-147.375609, 60.879723],\n",
       "     [-147.758995, 60.912584],\n",
       "     [-147.775426, 60.808523],\n",
       "     [-148.032842, 60.781138],\n",
       "     [-148.153334, 60.819476],\n",
       "     [-148.065703, 61.005692],\n",
       "     [-148.175242, 61.000215],\n",
       "     [-148.350504, 60.803046],\n",
       "     [-148.109519, 60.737322],\n",
       "     [-148.087611, 60.594922],\n",
       "     [-147.939734, 60.441568],\n",
       "     [-148.027365, 60.277259],\n",
       "     [-148.219058, 60.332029],\n",
       "     [-148.273827, 60.249875],\n",
       "     [-148.087611, 60.217013],\n",
       "     [-147.983549, 59.997935],\n",
       "     [-148.251919, 59.95412],\n",
       "     [-148.399797, 59.997935],\n",
       "     [-148.635305, 59.937689],\n",
       "     [-148.755798, 59.986981],\n",
       "     [-149.067984, 59.981505],\n",
       "     [-149.05703, 60.063659],\n",
       "     [-149.204907, 60.008889],\n",
       "     [-149.287061, 59.904827],\n",
       "     [-149.418508, 59.997935],\n",
       "     [-149.582816, 59.866489],\n",
       "     [-149.511616, 59.806242],\n",
       "     [-149.741647, 59.729565],\n",
       "     [-149.949771, 59.718611],\n",
       "     [-150.031925, 59.61455],\n",
       "     [-150.25648, 59.521442],\n",
       "     [-150.409834, 59.554303],\n",
       "     [-150.579619, 59.444764],\n",
       "     [-150.716543, 59.450241],\n",
       "     [-151.001343, 59.225687],\n",
       "     [-151.308052, 59.209256],\n",
       "     [-151.406637, 59.280456],\n",
       "     [-151.592853, 59.159963],\n",
       "     [-151.976239, 59.253071],\n",
       "     [-151.888608, 59.422857],\n",
       "     [-151.636669, 59.483103],\n",
       "     [-151.47236, 59.472149],\n",
       "     [-151.423068, 59.537872],\n",
       "     [-151.127313, 59.669319],\n",
       "     [-151.116359, 59.778858],\n",
       "     [-151.505222, 59.63098],\n",
       "     [-151.828361, 59.718611],\n",
       "     [-151.8667, 59.778858],\n",
       "     [-151.702392, 60.030797],\n",
       "     [-151.423068, 60.211536],\n",
       "     [-151.379252, 60.359413],\n",
       "     [-151.297098, 60.386798],\n",
       "     [-151.264237, 60.545629],\n",
       "     [-151.406637, 60.720892],\n",
       "     [-151.06159, 60.786615],\n",
       "     [-150.404357, 61.038554],\n",
       "     [-150.245526, 60.939969],\n",
       "     [-150.042879, 60.912584],\n",
       "     [-149.741647, 61.016646],\n",
       "     [-150.075741, 61.15357],\n",
       "     [-150.207187, 61.257632],\n",
       "     [-150.47008, 61.246678],\n",
       "     [-150.656296, 61.29597],\n",
       "     [-150.711066, 61.252155],\n",
       "     [-151.023251, 61.180954],\n",
       "     [-151.165652, 61.044031],\n",
       "     [-151.477837, 61.011169],\n",
       "     [-151.800977, 60.852338],\n",
       "     [-151.833838, 60.748276],\n",
       "     [-152.080301, 60.693507],\n",
       "     [-152.13507, 60.578491],\n",
       "     [-152.310332, 60.507291],\n",
       "     [-152.392486, 60.304644],\n",
       "     [-152.732057, 60.173197],\n",
       "     [-152.567748, 60.069136],\n",
       "     [-152.704672, 59.915781],\n",
       "     [-153.022334, 59.888397],\n",
       "     [-153.049719, 59.691227],\n",
       "     [-153.345474, 59.620026],\n",
       "     [-153.438582, 59.702181],\n",
       "     [-153.586459, 59.548826],\n",
       "     [-153.761721, 59.543349],\n",
       "     [-153.72886, 59.433811],\n",
       "     [-154.117723, 59.368087],\n",
       "     [-154.1944, 59.066856],\n",
       "     [-153.750768, 59.050425],\n",
       "     [-153.400243, 58.968271],\n",
       "     [-153.301658, 58.869686],\n",
       "     [-153.444059, 58.710854],\n",
       "     [-153.679567, 58.612269],\n",
       "     [-153.898645, 58.606793],\n",
       "     [-153.920553, 58.519161],\n",
       "     [-154.062953, 58.4863],\n",
       "     [-153.99723, 58.376761],\n",
       "     [-154.145107, 58.212453],\n",
       "     [-154.46277, 58.059098],\n",
       "     [-154.643509, 58.059098],\n",
       "     [-154.818771, 58.004329],\n",
       "     [-154.988556, 58.015283],\n",
       "     [-155.120003, 57.955037],\n",
       "     [-155.081664, 57.872883],\n",
       "     [-155.328126, 57.829067],\n",
       "     [-155.377419, 57.708574],\n",
       "     [-155.547204, 57.785251],\n",
       "     [-155.73342, 57.549743],\n",
       "     [-156.045606, 57.566174],\n",
       "     [-156.023698, 57.440204],\n",
       "     [-156.209914, 57.473066],\n",
       "     [-156.34136, 57.418296],\n",
       "     [-156.34136, 57.248511],\n",
       "     [-156.549484, 56.985618],\n",
       "     [-156.883577, 56.952757],\n",
       "     [-157.157424, 56.832264],\n",
       "     [-157.20124, 56.766541],\n",
       "     [-157.376502, 56.859649],\n",
       "     [-157.672257, 56.607709],\n",
       "     [-157.754411, 56.67891],\n",
       "     [-157.918719, 56.657002],\n",
       "     [-157.957058, 56.514601],\n",
       "     [-158.126843, 56.459832],\n",
       "     [-158.32949, 56.48174],\n",
       "     [-158.488321, 56.339339],\n",
       "     [-158.208997, 56.295524],\n",
       "     [-158.510229, 55.977861],\n",
       "     [-159.375585, 55.873799],\n",
       "     [-159.616571, 55.594475],\n",
       "     [-159.676817, 55.654722],\n",
       "     [-159.643955, 55.829984],\n",
       "     [-159.813741, 55.857368],\n",
       "     [-160.027341, 55.791645],\n",
       "     [-160.060203, 55.720445],\n",
       "     [-160.394296, 55.605429],\n",
       "     [-160.536697, 55.473983],\n",
       "     [-160.580512, 55.567091],\n",
       "     [-160.668143, 55.457552],\n",
       "     [-160.865313, 55.528752],\n",
       "     [-161.232268, 55.358967],\n",
       "     [-161.506115, 55.364444],\n",
       "     [-161.467776, 55.49589],\n",
       "     [-161.588269, 55.62186],\n",
       "     [-161.697808, 55.517798],\n",
       "     [-161.686854, 55.408259],\n",
       "     [-162.053809, 55.074166],\n",
       "     [-162.179779, 55.15632],\n",
       "     [-162.218117, 55.03035],\n",
       "     [-162.470057, 55.052258],\n",
       "     [-162.508395, 55.249428],\n",
       "     [-162.661749, 55.293244],\n",
       "     [-162.716519, 55.222043],\n",
       "     [-162.579595, 55.134412],\n",
       "     [-162.645319, 54.997489],\n",
       "     [-162.847965, 54.926289],\n",
       "     [-163.00132, 55.079643],\n",
       "     [-163.187536, 55.090597],\n",
       "     [-163.220397, 55.03035],\n",
       "     [-163.034181, 54.942719],\n",
       "     [-163.373752, 54.800319],\n",
       "     [-163.14372, 54.76198],\n",
       "     [-163.138243, 54.696257],\n",
       "     [-163.329936, 54.74555],\n",
       "     [-163.587352, 54.614103],\n",
       "     [-164.085754, 54.61958],\n",
       "     [-164.332216, 54.531949],\n",
       "     [-164.354124, 54.466226],\n",
       "     [-164.638925, 54.389548],\n",
       "     [-164.847049, 54.416933],\n",
       "     [-164.918249, 54.603149],\n",
       "     [-164.710125, 54.663395],\n",
       "     [-164.551294, 54.88795],\n",
       "     [-164.34317, 54.893427],\n",
       "     [-163.894061, 55.041304],\n",
       "     [-163.532583, 55.046781],\n",
       "     [-163.39566, 54.904381],\n",
       "     [-163.291598, 55.008443],\n",
       "     [-163.313505, 55.128935],\n",
       "     [-163.105382, 55.183705],\n",
       "     [-162.880827, 55.183705],\n",
       "     [-162.579595, 55.446598],\n",
       "     [-162.245502, 55.682106],\n",
       "     [-161.807347, 55.89023],\n",
       "     [-161.292514, 55.983338],\n",
       "     [-161.078914, 55.939523],\n",
       "     [-160.87079, 55.999769],\n",
       "     [-160.816021, 55.912138],\n",
       "     [-160.931036, 55.813553],\n",
       "     [-160.805067, 55.736876],\n",
       "     [-160.766728, 55.857368],\n",
       "     [-160.509312, 55.868322],\n",
       "     [-160.438112, 55.791645],\n",
       "     [-160.27928, 55.76426],\n",
       "     [-160.273803, 55.857368],\n",
       "     [-160.536697, 55.939523],\n",
       "     [-160.558604, 55.994292],\n",
       "     [-160.383342, 56.251708],\n",
       "     [-160.147834, 56.399586],\n",
       "     [-159.830171, 56.541986],\n",
       "     [-159.326293, 56.667956],\n",
       "     [-158.959338, 56.848695],\n",
       "     [-158.784076, 56.782971],\n",
       "     [-158.641675, 56.810356],\n",
       "     [-158.701922, 56.925372],\n",
       "     [-158.658106, 57.034911],\n",
       "     [-158.378782, 57.264942],\n",
       "     [-157.995396, 57.41282],\n",
       "     [-157.688688, 57.609989],\n",
       "     [-157.705118, 57.719528],\n",
       "     [-157.458656, 58.497254],\n",
       "     [-157.07527, 58.705377],\n",
       "     [-157.119086, 58.869686],\n",
       "     [-158.039212, 58.634177],\n",
       "     [-158.32949, 58.661562],\n",
       "     [-158.40069, 58.760147],\n",
       "     [-158.564998, 58.803962],\n",
       "     [-158.619768, 58.913501],\n",
       "     [-158.767645, 58.864209],\n",
       "     [-158.860753, 58.694424],\n",
       "     [-158.701922, 58.480823],\n",
       "     [-158.893615, 58.387715],\n",
       "     [-159.0634, 58.420577],\n",
       "     [-159.392016, 58.760147],\n",
       "     [-159.616571, 58.929932],\n",
       "     [-159.731586, 58.929932],\n",
       "     [-159.808264, 58.803962],\n",
       "     [-159.906848, 58.782055],\n",
       "     [-160.054726, 58.886116],\n",
       "     [-160.235465, 58.902547],\n",
       "     [-160.317619, 59.072332],\n",
       "     [-160.854359, 58.88064],\n",
       "     [-161.33633, 58.743716],\n",
       "     [-161.374669, 58.667039],\n",
       "     [-161.752577, 58.552023],\n",
       "     [-161.938793, 58.656085],\n",
       "     [-161.769008, 58.776578],\n",
       "     [-161.829255, 59.061379],\n",
       "     [-161.955224, 59.36261],\n",
       "     [-161.703285, 59.48858],\n",
       "     [-161.911409, 59.740519],\n",
       "     [-162.092148, 59.88292],\n",
       "     [-162.234548, 60.091043],\n",
       "     [-162.448149, 60.178674],\n",
       "     [-162.502918, 59.997935],\n",
       "     [-162.760334, 59.959597],\n",
       "     [-163.171105, 59.844581],\n",
       "     [-163.66403, 59.795289],\n",
       "     [-163.9324, 59.806242],\n",
       "     [-164.162431, 59.866489],\n",
       "     [-164.189816, 60.02532],\n",
       "     [-164.386986, 60.074613],\n",
       "     [-164.699171, 60.29369],\n",
       "     [-164.962064, 60.337506],\n",
       "     [-165.268773, 60.578491],\n",
       "     [-165.060649, 60.68803],\n",
       "     [-165.016834, 60.890677],\n",
       "     [-165.175665, 60.846861],\n",
       "     [-165.197573, 60.972831],\n",
       "     [-165.120896, 61.076893],\n",
       "     [-165.323543, 61.170001],\n",
       "     [-165.34545, 61.071416],\n",
       "     [-165.591913, 61.109754],\n",
       "     [-165.624774, 61.279539],\n",
       "     [-165.816467, 61.301447],\n",
       "     [-165.920529, 61.416463],\n",
       "     [-165.915052, 61.558863],\n",
       "     [-166.106745, 61.49314],\n",
       "     [-166.139607, 61.630064],\n",
       "     [-165.904098, 61.662925],\n",
       "     [-166.095791, 61.81628],\n",
       "     [-165.756221, 61.827233],\n",
       "     [-165.756221, 62.013449],\n",
       "     [-165.674067, 62.139419],\n",
       "     [-165.044219, 62.539236],\n",
       "     [-164.912772, 62.659728],\n",
       "     [-164.819664, 62.637821],\n",
       "     [-164.874433, 62.807606],\n",
       "     [-164.633448, 63.097884],\n",
       "     [-164.425324, 63.212899],\n",
       "     [-164.036462, 63.262192],\n",
       "     [-163.73523, 63.212899],\n",
       "     [-163.313505, 63.037637],\n",
       "     [-163.039658, 63.059545],\n",
       "     [-162.661749, 63.22933],\n",
       "     [-162.272887, 63.486746],\n",
       "     [-162.075717, 63.514131],\n",
       "     [-162.026424, 63.448408],\n",
       "     [-161.555408, 63.448408],\n",
       "     [-161.13916, 63.503177],\n",
       "     [-160.766728, 63.771547],\n",
       "     [-160.766728, 63.837271],\n",
       "     [-160.952944, 64.08921],\n",
       "     [-160.974852, 64.237087],\n",
       "     [-161.26513, 64.395918],\n",
       "     [-161.374669, 64.532842],\n",
       "     [-161.078914, 64.494503],\n",
       "     [-160.79959, 64.609519],\n",
       "     [-160.783159, 64.719058],\n",
       "     [-161.144637, 64.921705],\n",
       "     [-161.413007, 64.762873],\n",
       "     [-161.664946, 64.790258],\n",
       "     [-161.900455, 64.702627],\n",
       "     [-162.168825, 64.680719],\n",
       "     [-162.234548, 64.620473],\n",
       "     [-162.541257, 64.532842],\n",
       "     [-162.634365, 64.384965],\n",
       "     [-162.787719, 64.324718],\n",
       "     [-162.858919, 64.49998],\n",
       "     [-163.045135, 64.538319],\n",
       "     [-163.176582, 64.401395],\n",
       "     [-163.253259, 64.467119],\n",
       "     [-163.598306, 64.565704],\n",
       "     [-164.304832, 64.560227],\n",
       "     [-164.80871, 64.450688],\n",
       "     [-165.000403, 64.434257],\n",
       "     [-165.411174, 64.49998],\n",
       "     [-166.188899, 64.576658],\n",
       "     [-166.391546, 64.636904],\n",
       "     [-166.484654, 64.735489],\n",
       "     [-166.413454, 64.872412],\n",
       "     [-166.692778, 64.987428],\n",
       "     [-166.638008, 65.113398],\n",
       "     [-166.462746, 65.179121],\n",
       "     [-166.517516, 65.337952],\n",
       "     [-166.796839, 65.337952],\n",
       "     [-167.026871, 65.381768],\n",
       "     [-167.47598, 65.414629],\n",
       "     [-167.711489, 65.496784],\n",
       "     [-168.072967, 65.578938],\n",
       "     [-168.105828, 65.682999],\n",
       "     [-167.541703, 65.819923],\n",
       "     [-166.829701, 66.049954],\n",
       "     [-166.3313, 66.186878],\n",
       "     [-166.046499, 66.110201],\n",
       "     [-165.756221, 66.09377],\n",
       "     [-165.690498, 66.203309],\n",
       "     [-165.86576, 66.21974],\n",
       "     [-165.88219, 66.312848],\n",
       "     [-165.186619, 66.466202],\n",
       "     [-164.403417, 66.581218],\n",
       "     [-163.981692, 66.592172],\n",
       "     [-163.751661, 66.553833],\n",
       "     [-163.872153, 66.389525],\n",
       "     [-163.828338, 66.274509],\n",
       "     [-163.915969, 66.192355],\n",
       "     [-163.768091, 66.060908],\n",
       "     [-163.494244, 66.082816],\n",
       "     [-163.149197, 66.060908],\n",
       "     [-162.749381, 66.088293],\n",
       "     [-162.634365, 66.039001],\n",
       "     [-162.371472, 66.028047],\n",
       "     [-162.14144, 66.077339],\n",
       "     [-161.840208, 66.02257],\n",
       "     [-161.549931, 66.241647],\n",
       "     [-161.341807, 66.252601],\n",
       "     [-161.199406, 66.208786],\n",
       "     [-161.128206, 66.334755],\n",
       "     [-161.528023, 66.395002],\n",
       "     [-161.911409, 66.345709],\n",
       "     [-161.87307, 66.510017],\n",
       "     [-162.174302, 66.68528],\n",
       "     [-162.502918, 66.740049],\n",
       "     [-162.601503, 66.89888],\n",
       "     [-162.344087, 66.937219],\n",
       "     [-162.015471, 66.778388],\n",
       "     [-162.075717, 66.652418],\n",
       "     [-161.916886, 66.553833],\n",
       "     [-161.571838, 66.438817],\n",
       "     [-161.489684, 66.55931],\n",
       "     [-161.884024, 66.718141],\n",
       "     [-161.714239, 67.002942],\n",
       "     [-161.851162, 67.052235],\n",
       "     [-162.240025, 66.991988],\n",
       "     [-162.639842, 67.008419],\n",
       "     [-162.700088, 67.057712],\n",
       "     [-162.902735, 67.008419],\n",
       "     [-163.740707, 67.128912],\n",
       "     [-163.757138, 67.254881],\n",
       "     [-164.009077, 67.534205],\n",
       "     [-164.211724, 67.638267],\n",
       "     [-164.534863, 67.725898],\n",
       "     [-165.192096, 67.966884],\n",
       "     [-165.493328, 68.059992],\n",
       "     [-165.794559, 68.081899],\n",
       "     [-166.243668, 68.246208],\n",
       "     [-166.681824, 68.339316],\n",
       "     [-166.703731, 68.372177],\n",
       "     [-166.375115, 68.42147],\n",
       "     [-166.227238, 68.574824],\n",
       "     [-166.216284, 68.881533],\n",
       "     [-165.329019, 68.859625],\n",
       "     [-164.255539, 68.930825],\n",
       "     [-163.976215, 68.985595],\n",
       "     [-163.532583, 69.138949],\n",
       "     [-163.110859, 69.374457],\n",
       "     [-163.023228, 69.609966],\n",
       "     [-162.842489, 69.812613],\n",
       "     [-162.470057, 69.982398],\n",
       "     [-162.311225, 70.108367],\n",
       "     [-161.851162, 70.311014],\n",
       "     [-161.779962, 70.256245],\n",
       "     [-161.396576, 70.239814],\n",
       "     [-160.837928, 70.343876],\n",
       "     [-160.487404, 70.453415],\n",
       "     [-159.649432, 70.792985],\n",
       "     [-159.33177, 70.809416],\n",
       "     [-159.298908, 70.760123],\n",
       "     [-158.975769, 70.798462],\n",
       "     [-158.658106, 70.787508],\n",
       "     [-158.033735, 70.831323],\n",
       "     [-157.420318, 70.979201],\n",
       "     [-156.812377, 71.285909],\n",
       "     [-156.565915, 71.351633],\n",
       "     [-156.522099, 71.296863],\n",
       "     [-155.585543, 71.170894],\n",
       "     [-155.508865, 71.083263],\n",
       "     [-155.832005, 70.968247],\n",
       "     [-155.979882, 70.96277],\n",
       "     [-155.974405, 70.809416],\n",
       "     [-155.503388, 70.858708],\n",
       "     [-155.476004, 70.940862],\n",
       "     [-155.262403, 71.017539],\n",
       "     [-155.191203, 70.973724],\n",
       "     [-155.032372, 71.148986],\n",
       "     [-154.566832, 70.990155],\n",
       "     [-154.643509, 70.869662],\n",
       "     [-154.353231, 70.8368],\n",
       "     [-154.183446, 70.7656],\n",
       "     [-153.931507, 70.880616],\n",
       "     [-153.487874, 70.886093],\n",
       "     [-153.235935, 70.924431],\n",
       "     [-152.589656, 70.886093],\n",
       "     [-152.26104, 70.842277],\n",
       "     [-152.419871, 70.606769],\n",
       "     [-151.817408, 70.546523],\n",
       "     [-151.773592, 70.486276],\n",
       "     [-151.187559, 70.382214],\n",
       "     [-151.182082, 70.431507],\n",
       "     [-150.760358, 70.49723],\n",
       "     [-150.355064, 70.491753],\n",
       "     [-150.349588, 70.436984],\n",
       "     [-150.114079, 70.431507],\n",
       "     [-149.867617, 70.508184],\n",
       "     [-149.462323, 70.519138],\n",
       "     [-149.177522, 70.486276],\n",
       "     [-148.78866, 70.404122],\n",
       "     [-148.607921, 70.420553],\n",
       "     [-148.350504, 70.305537],\n",
       "     [-148.202627, 70.349353],\n",
       "     [-147.961642, 70.316491],\n",
       "     [-147.786379, 70.245291]]],\n",
       "   [[[-152.94018, 58.026237],\n",
       "     [-152.945657, 57.982421],\n",
       "     [-153.290705, 58.048145],\n",
       "     [-153.044242, 58.305561],\n",
       "     [-152.819688, 58.327469],\n",
       "     [-152.666333, 58.562977],\n",
       "     [-152.496548, 58.354853],\n",
       "     [-152.354148, 58.426053],\n",
       "     [-152.080301, 58.311038],\n",
       "     [-152.080301, 58.152206],\n",
       "     [-152.480117, 58.130299],\n",
       "     [-152.655379, 58.059098],\n",
       "     [-152.94018, 58.026237]]],\n",
       "   [[[-153.958891, 57.538789],\n",
       "     [-153.67409, 57.670236],\n",
       "     [-153.931507, 57.69762],\n",
       "     [-153.936983, 57.812636],\n",
       "     [-153.723383, 57.889313],\n",
       "     [-153.570028, 57.834544],\n",
       "     [-153.548121, 57.719528],\n",
       "     [-153.46049, 57.796205],\n",
       "     [-153.455013, 57.96599],\n",
       "     [-153.268797, 57.889313],\n",
       "     [-153.235935, 57.998852],\n",
       "     [-153.071627, 57.933129],\n",
       "     [-152.874457, 57.933129],\n",
       "     [-152.721103, 57.993375],\n",
       "     [-152.469163, 57.889313],\n",
       "     [-152.469163, 57.599035],\n",
       "     [-152.151501, 57.620943],\n",
       "     [-152.359625, 57.42925],\n",
       "     [-152.74301, 57.505928],\n",
       "     [-152.60061, 57.379958],\n",
       "     [-152.710149, 57.275896],\n",
       "     [-152.907319, 57.325188],\n",
       "     [-152.912796, 57.128019],\n",
       "     [-153.214027, 57.073249],\n",
       "     [-153.312612, 56.991095],\n",
       "     [-153.498828, 57.067772],\n",
       "     [-153.695998, 56.859649],\n",
       "     [-153.849352, 56.837741],\n",
       "     [-154.013661, 56.744633],\n",
       "     [-154.073907, 56.969187],\n",
       "     [-154.303938, 56.848695],\n",
       "     [-154.314892, 56.919895],\n",
       "     [-154.523016, 56.991095],\n",
       "     [-154.539447, 57.193742],\n",
       "     [-154.742094, 57.275896],\n",
       "     [-154.627078, 57.511404],\n",
       "     [-154.227261, 57.659282],\n",
       "     [-153.980799, 57.648328],\n",
       "     [-153.958891, 57.538789]]],\n",
       "   [[[-154.53397, 56.602232],\n",
       "     [-154.742094, 56.399586],\n",
       "     [-154.807817, 56.432447],\n",
       "     [-154.53397, 56.602232]]],\n",
       "   [[[-155.634835, 55.923092],\n",
       "     [-155.476004, 55.912138],\n",
       "     [-155.530773, 55.704014],\n",
       "     [-155.793666, 55.731399],\n",
       "     [-155.837482, 55.802599],\n",
       "     [-155.634835, 55.923092]]],\n",
       "   [[[-159.890418, 55.28229],\n",
       "     [-159.950664, 55.068689],\n",
       "     [-160.257373, 54.893427],\n",
       "     [-160.109495, 55.161797],\n",
       "     [-160.005433, 55.134412],\n",
       "     [-159.890418, 55.28229]]],\n",
       "   [[[-160.520266, 55.358967],\n",
       "     [-160.33405, 55.358967],\n",
       "     [-160.339527, 55.249428],\n",
       "     [-160.525743, 55.128935],\n",
       "     [-160.690051, 55.211089],\n",
       "     [-160.794113, 55.134412],\n",
       "     [-160.854359, 55.320628],\n",
       "     [-160.79959, 55.380875],\n",
       "     [-160.520266, 55.358967]]],\n",
       "   [[[-162.256456, 54.981058],\n",
       "     [-162.234548, 54.893427],\n",
       "     [-162.349564, 54.838658],\n",
       "     [-162.437195, 54.931766],\n",
       "     [-162.256456, 54.981058]]],\n",
       "   [[[-162.415287, 63.634624],\n",
       "     [-162.563165, 63.536039],\n",
       "     [-162.612457, 63.62367],\n",
       "     [-162.415287, 63.634624]]],\n",
       "   [[[-162.80415, 54.488133],\n",
       "     [-162.590549, 54.449795],\n",
       "     [-162.612457, 54.367641],\n",
       "     [-162.782242, 54.373118],\n",
       "     [-162.80415, 54.488133]]],\n",
       "   [[[-165.548097, 54.29644],\n",
       "     [-165.476897, 54.181425],\n",
       "     [-165.630251, 54.132132],\n",
       "     [-165.685021, 54.252625],\n",
       "     [-165.548097, 54.29644]]],\n",
       "   [[[-165.73979, 54.15404],\n",
       "     [-166.046499, 54.044501],\n",
       "     [-166.112222, 54.121178],\n",
       "     [-165.980775, 54.219763],\n",
       "     [-165.73979, 54.15404]]],\n",
       "   [[[-166.364161, 60.359413],\n",
       "     [-166.13413, 60.397752],\n",
       "     [-166.084837, 60.326552],\n",
       "     [-165.88219, 60.342983],\n",
       "     [-165.685021, 60.277259],\n",
       "     [-165.646682, 59.992458],\n",
       "     [-165.750744, 59.89935],\n",
       "     [-166.00816, 59.844581],\n",
       "     [-166.062929, 59.745996],\n",
       "     [-166.440838, 59.855535],\n",
       "     [-166.6161, 59.850058],\n",
       "     [-166.994009, 59.992458],\n",
       "     [-167.125456, 59.992458],\n",
       "     [-167.344534, 60.074613],\n",
       "     [-167.421211, 60.206059],\n",
       "     [-167.311672, 60.238921],\n",
       "     [-166.93924, 60.206059],\n",
       "     [-166.763978, 60.310121],\n",
       "     [-166.577762, 60.321075],\n",
       "     [-166.495608, 60.392275],\n",
       "     [-166.364161, 60.359413]]],\n",
       "   [[[-166.375115, 54.01164],\n",
       "     [-166.210807, 53.934962],\n",
       "     [-166.5449, 53.748746],\n",
       "     [-166.539423, 53.715885],\n",
       "     [-166.117699, 53.852808],\n",
       "     [-166.112222, 53.776131],\n",
       "     [-166.282007, 53.683023],\n",
       "     [-166.555854, 53.622777],\n",
       "     [-166.583239, 53.529669],\n",
       "     [-166.878994, 53.431084],\n",
       "     [-167.13641, 53.425607],\n",
       "     [-167.306195, 53.332499],\n",
       "     [-167.623857, 53.250345],\n",
       "     [-167.793643, 53.337976],\n",
       "     [-167.459549, 53.442038],\n",
       "     [-167.355487, 53.425607],\n",
       "     [-167.103548, 53.513238],\n",
       "     [-167.163794, 53.611823],\n",
       "     [-167.021394, 53.715885],\n",
       "     [-166.807793, 53.666592],\n",
       "     [-166.785886, 53.732316],\n",
       "     [-167.015917, 53.754223],\n",
       "     [-167.141887, 53.825424],\n",
       "     [-167.032348, 53.945916],\n",
       "     [-166.643485, 54.017116],\n",
       "     [-166.561331, 53.880193],\n",
       "     [-166.375115, 54.01164]]],\n",
       "   [[[-168.790446, 53.157237],\n",
       "     [-168.40706, 53.34893],\n",
       "     [-168.385152, 53.431084],\n",
       "     [-168.237275, 53.524192],\n",
       "     [-168.007243, 53.568007],\n",
       "     [-167.886751, 53.518715],\n",
       "     [-167.842935, 53.387268],\n",
       "     [-168.270136, 53.244868],\n",
       "     [-168.500168, 53.036744],\n",
       "     [-168.686384, 52.965544],\n",
       "     [-168.790446, 53.157237]]],\n",
       "   [[[-169.74891, 52.894344],\n",
       "     [-169.705095, 52.795759],\n",
       "     [-169.962511, 52.790282],\n",
       "     [-169.989896, 52.856005],\n",
       "     [-169.74891, 52.894344]]],\n",
       "   [[[-170.148727, 57.221127],\n",
       "     [-170.28565, 57.128019],\n",
       "     [-170.313035, 57.221127],\n",
       "     [-170.148727, 57.221127]]],\n",
       "   [[[-170.669036, 52.697174],\n",
       "     [-170.603313, 52.604066],\n",
       "     [-170.789529, 52.538343],\n",
       "     [-170.816914, 52.636928],\n",
       "     [-170.669036, 52.697174]]],\n",
       "   [[[-171.742517, 63.716778],\n",
       "     [-170.94836, 63.5689],\n",
       "     [-170.488297, 63.69487],\n",
       "     [-170.280174, 63.683916],\n",
       "     [-170.093958, 63.612716],\n",
       "     [-170.044665, 63.492223],\n",
       "     [-169.644848, 63.4265],\n",
       "     [-169.518879, 63.366254],\n",
       "     [-168.99857, 63.338869],\n",
       "     [-168.686384, 63.295053],\n",
       "     [-168.856169, 63.147176],\n",
       "     [-169.108108, 63.180038],\n",
       "     [-169.376478, 63.152653],\n",
       "     [-169.513402, 63.08693],\n",
       "     [-169.639372, 62.939052],\n",
       "     [-169.831064, 63.075976],\n",
       "     [-170.055619, 63.169084],\n",
       "     [-170.263743, 63.180038],\n",
       "     [-170.362328, 63.2841],\n",
       "     [-170.866206, 63.415546],\n",
       "     [-171.101715, 63.421023],\n",
       "     [-171.463193, 63.306007],\n",
       "     [-171.73704, 63.366254],\n",
       "     [-171.852055, 63.486746],\n",
       "     [-171.742517, 63.716778]]],\n",
       "   [[[-172.432611, 52.390465],\n",
       "     [-172.41618, 52.275449],\n",
       "     [-172.607873, 52.253542],\n",
       "     [-172.569535, 52.352127],\n",
       "     [-172.432611, 52.390465]]],\n",
       "   [[[-173.626584, 52.14948],\n",
       "     [-173.495138, 52.105664],\n",
       "     [-173.122706, 52.111141],\n",
       "     [-173.106275, 52.07828],\n",
       "     [-173.549907, 52.028987],\n",
       "     [-173.626584, 52.14948]]],\n",
       "   [[[-174.322156, 52.280926],\n",
       "     [-174.327632, 52.379511],\n",
       "     [-174.185232, 52.41785],\n",
       "     [-173.982585, 52.319265],\n",
       "     [-174.059262, 52.226157],\n",
       "     [-174.179755, 52.231634],\n",
       "     [-174.141417, 52.127572],\n",
       "     [-174.333109, 52.116618],\n",
       "     [-174.738403, 52.007079],\n",
       "     [-174.968435, 52.039941],\n",
       "     [-174.902711, 52.116618],\n",
       "     [-174.656249, 52.105664],\n",
       "     [-174.322156, 52.280926]]],\n",
       "   [[[-176.469116, 51.853725],\n",
       "     [-176.288377, 51.870156],\n",
       "     [-176.288377, 51.744186],\n",
       "     [-176.518409, 51.760617],\n",
       "     [-176.80321, 51.61274],\n",
       "     [-176.912748, 51.80991],\n",
       "     [-176.792256, 51.815386],\n",
       "     [-176.775825, 51.963264],\n",
       "     [-176.627947, 51.968741],\n",
       "     [-176.627947, 51.859202],\n",
       "     [-176.469116, 51.853725]]],\n",
       "   [[[-177.153734, 51.946833],\n",
       "     [-177.044195, 51.897541],\n",
       "     [-177.120872, 51.727755],\n",
       "     [-177.274226, 51.678463],\n",
       "     [-177.279703, 51.782525],\n",
       "     [-177.153734, 51.946833]]],\n",
       "   [[[-178.123152, 51.919448],\n",
       "     [-177.953367, 51.913971],\n",
       "     [-177.800013, 51.793479],\n",
       "     [-177.964321, 51.651078],\n",
       "     [-178.123152, 51.919448]]],\n",
       "   [[[173.107557, 52.992929],\n",
       "     [173.293773, 52.927205],\n",
       "     [173.304726, 52.823143],\n",
       "     [172.90491, 52.762897],\n",
       "     [172.642017, 52.927205],\n",
       "     [172.642017, 53.003883],\n",
       "     [173.107557, 52.992929]]]]}}"
      ]
     },
     "execution_count": 84,
     "metadata": {},
     "output_type": "execute_result"
    }
   ],
   "source": [
    "data['features'][1]"
   ]
  },
  {
   "cell_type": "code",
   "execution_count": 85,
   "metadata": {},
   "outputs": [
    {
     "data": {
      "text/plain": [
       "[[[-87.359296, 35.00118],\n",
       "  [-85.606675, 34.984749],\n",
       "  [-85.431413, 34.124869],\n",
       "  [-85.184951, 32.859696],\n",
       "  [-85.069935, 32.580372],\n",
       "  [-84.960397, 32.421541],\n",
       "  [-85.004212, 32.322956],\n",
       "  [-84.889196, 32.262709],\n",
       "  [-85.058981, 32.13674],\n",
       "  [-85.053504, 32.01077],\n",
       "  [-85.141136, 31.840985],\n",
       "  [-85.042551, 31.539753],\n",
       "  [-85.113751, 31.27686],\n",
       "  [-85.004212, 31.003013],\n",
       "  [-85.497137, 30.997536],\n",
       "  [-87.600282, 30.997536],\n",
       "  [-87.633143, 30.86609],\n",
       "  [-87.408589, 30.674397],\n",
       "  [-87.446927, 30.510088],\n",
       "  [-87.37025, 30.427934],\n",
       "  [-87.518128, 30.280057],\n",
       "  [-87.655051, 30.247195],\n",
       "  [-87.90699, 30.411504],\n",
       "  [-87.934375, 30.657966],\n",
       "  [-88.011052, 30.685351],\n",
       "  [-88.10416, 30.499135],\n",
       "  [-88.137022, 30.318396],\n",
       "  [-88.394438, 30.367688],\n",
       "  [-88.471115, 31.895754],\n",
       "  [-88.241084, 33.796253],\n",
       "  [-88.098683, 34.891641],\n",
       "  [-88.202745, 34.995703],\n",
       "  [-87.359296, 35.00118]]]"
      ]
     },
     "execution_count": 85,
     "metadata": {},
     "output_type": "execute_result"
    }
   ],
   "source": [
    "data['features'][0]['geometry']['coordinates']"
   ]
  },
  {
   "cell_type": "markdown",
   "metadata": {},
   "source": [
    "With an idea of the structure of the JSON file, we can now iterate over the \"Features\":"
   ]
  },
  {
   "cell_type": "code",
   "execution_count": 86,
   "metadata": {},
   "outputs": [],
   "source": [
    "#adapted from  https://github.com/dataiap/dataiap/blob/master/resources/util/map_util.py\n",
    "\n",
    "#load in state geometry\n",
    "from collections import defaultdict \n",
    "state2poly = defaultdict(list) # a dictionary where every value is an empty list\n",
    "\n",
    "\n",
    "for f in data['features']:\n",
    "    state = states_abbrev[f['id']] #use our old dictionary to map to a state name\n",
    "    geo = f['geometry']\n",
    "    if geo['type'] == 'Polygon':\n",
    "        for coords in geo['coordinates']:\n",
    "            state2poly[state].append(coords)\n",
    "    elif geo['type'] == 'MultiPolygon':\n",
    "        for polygon in geo['coordinates']:\n",
    "            state2poly[state].extend(polygon)"
   ]
  },
  {
   "cell_type": "code",
   "execution_count": 87,
   "metadata": {},
   "outputs": [
    {
     "data": {
      "text/plain": [
       "[[[-87.359296, 35.00118],\n",
       "  [-85.606675, 34.984749],\n",
       "  [-85.431413, 34.124869],\n",
       "  [-85.184951, 32.859696],\n",
       "  [-85.069935, 32.580372],\n",
       "  [-84.960397, 32.421541],\n",
       "  [-85.004212, 32.322956],\n",
       "  [-84.889196, 32.262709],\n",
       "  [-85.058981, 32.13674],\n",
       "  [-85.053504, 32.01077],\n",
       "  [-85.141136, 31.840985],\n",
       "  [-85.042551, 31.539753],\n",
       "  [-85.113751, 31.27686],\n",
       "  [-85.004212, 31.003013],\n",
       "  [-85.497137, 30.997536],\n",
       "  [-87.600282, 30.997536],\n",
       "  [-87.633143, 30.86609],\n",
       "  [-87.408589, 30.674397],\n",
       "  [-87.446927, 30.510088],\n",
       "  [-87.37025, 30.427934],\n",
       "  [-87.518128, 30.280057],\n",
       "  [-87.655051, 30.247195],\n",
       "  [-87.90699, 30.411504],\n",
       "  [-87.934375, 30.657966],\n",
       "  [-88.011052, 30.685351],\n",
       "  [-88.10416, 30.499135],\n",
       "  [-88.137022, 30.318396],\n",
       "  [-88.394438, 30.367688],\n",
       "  [-88.471115, 31.895754],\n",
       "  [-88.241084, 33.796253],\n",
       "  [-88.098683, 34.891641],\n",
       "  [-88.202745, 34.995703],\n",
       "  [-87.359296, 35.00118]]]"
      ]
     },
     "execution_count": 87,
     "metadata": {},
     "output_type": "execute_result"
    }
   ],
   "source": [
    "state2poly['Alabama']"
   ]
  },
  {
   "cell_type": "code",
   "execution_count": null,
   "metadata": {},
   "outputs": [],
   "source": [
    "state2poly['Alaska']"
   ]
  },
  {
   "cell_type": "markdown",
   "metadata": {},
   "source": [
    "## Functions\n",
    "\n",
    "A function object is a reusable block of code that does a specific task. Functions are all over Python, either on their own or on other objects. To invoke a function func, you call it as func(arguments).\n",
    "\n",
    "We've seen built-in Python functions and methods. For example, `len` and `print` are built-in Python functions. When you called `np.mean` to calculate the mean of three numbers, there `mean` is a function in the numpy module and numpy was abbreviated as `np`. This syntax allow us to have multiple \"mean\" functions in different modules; calling this one as `np.mean` guarantees that we will pick up numpy's `mean` function, as opposed to a `mean` function from a different module."
   ]
  },
  {
   "cell_type": "code",
   "execution_count": 88,
   "metadata": {},
   "outputs": [
    {
     "data": {
      "text/plain": [
       "2.0"
      ]
     },
     "execution_count": 88,
     "metadata": {},
     "output_type": "execute_result"
    }
   ],
   "source": [
    "np.mean([1,2,3])"
   ]
  },
  {
   "cell_type": "markdown",
   "metadata": {},
   "source": [
    "A function that belongs to an object is called a method. An example of this is append on an existing list. In other words, a method is a function on an instance of a type of object (also called class, in this case, list type)."
   ]
  },
  {
   "cell_type": "code",
   "execution_count": 89,
   "metadata": {},
   "outputs": [
    {
     "data": {
      "text/plain": [
       "[1.0, 2.09, 4.0, 2.0, 0.444, 56.7]"
      ]
     },
     "execution_count": 89,
     "metadata": {},
     "output_type": "execute_result"
    }
   ],
   "source": [
    "new_float_list = [1.0, 2.09, 4.0, 2.0, 0.444]\n",
    "new_float_list.append(56.7) \n",
    "new_float_list"
   ]
  },
  {
   "cell_type": "markdown",
   "metadata": {},
   "source": [
    "We'll now learn to write our own user-defined functions. Below is the syntax for defining a basic function with one input argument and one output. You can also define functions with no input or output arguments, or multiple input or output arguments.\n",
    "\n",
    "```\n",
    "def name_of_function(arg):\n",
    "    ...\n",
    "    return(output)\n",
    "```\n",
    "\n"
   ]
  },
  {
   "cell_type": "code",
   "execution_count": 91,
   "metadata": {},
   "outputs": [
    {
     "data": {
      "text/plain": [
       "NoneType"
      ]
     },
     "execution_count": 91,
     "metadata": {},
     "output_type": "execute_result"
    }
   ],
   "source": [
    "type(None)"
   ]
  },
  {
   "cell_type": "code",
   "execution_count": 92,
   "metadata": {},
   "outputs": [
    {
     "data": {
      "text/plain": [
       "9"
      ]
     },
     "execution_count": 92,
     "metadata": {},
     "output_type": "execute_result"
    }
   ],
   "source": [
    "def square(x):\n",
    "    x_sqr = x*x\n",
    "    return(x_sqr)\n",
    "square(3)"
   ]
  },
  {
   "cell_type": "code",
   "execution_count": 93,
   "metadata": {},
   "outputs": [
    {
     "data": {
      "text/plain": [
       "(25, 125)"
      ]
     },
     "execution_count": 93,
     "metadata": {},
     "output_type": "execute_result"
    }
   ],
   "source": [
    "def square_and_cube(x):\n",
    "    x_cub = x*x*x\n",
    "    x_sqr = x*x\n",
    "    return(x_sqr, x_cub)\n",
    "\n",
    "square_and_cube(5)"
   ]
  },
  {
   "cell_type": "markdown",
   "metadata": {},
   "source": [
    "Often we quickly define mathematical functions with a one-line function called a lambda function. Lambda functions are great because they enable us to write functions without having to name them, ie, they're anonymous.\n",
    "No return statement is needed."
   ]
  },
  {
   "cell_type": "code",
   "execution_count": 94,
   "metadata": {},
   "outputs": [
    {
     "name": "stdout",
     "output_type": "stream",
     "text": [
      "9\n"
     ]
    },
    {
     "data": {
      "text/plain": [
       "25"
      ]
     },
     "execution_count": 94,
     "metadata": {},
     "output_type": "execute_result"
    }
   ],
   "source": [
    "square = lambda x: x*x\n",
    "print(square(3))\n",
    "\n",
    "\n",
    "hypotenuse = lambda x, y: x*x + y*y\n",
    "\n",
    "## Same as\n",
    "\n",
    "# def hypotenuse(x, y):\n",
    "#     return(x*x + y*y)\n",
    "\n",
    "hypotenuse(3,4)"
   ]
  },
  {
   "cell_type": "markdown",
   "metadata": {},
   "source": [
    "Functions may also have default argument values. Functions with default values are used extensively in many libraries. The default values are assigned when the function is defined."
   ]
  },
  {
   "cell_type": "code",
   "execution_count": 95,
   "metadata": {},
   "outputs": [
    {
     "name": "stdout",
     "output_type": "stream",
     "text": [
      "With x and y: (10, 2, 20)\n",
      "With x only: (10, 1, 10)\n"
     ]
    }
   ],
   "source": [
    "# This function can be called with x and y, in which case it will return x*y;\n",
    "# or it can be called with x only, in which case it will return x*1.\n",
    "def get_multiple(x, y=1):\n",
    "    return x, y, x*y\n",
    "\n",
    "print(\"With x and y:\", get_multiple(10, 2))\n",
    "print(\"With x only:\", get_multiple(10))"
   ]
  },
  {
   "cell_type": "markdown",
   "metadata": {},
   "source": [
    "## An application of functions to plotting"
   ]
  },
  {
   "cell_type": "code",
   "execution_count": 98,
   "metadata": {},
   "outputs": [],
   "source": [
    "def draw_state(ax, stateid, **kwargs):\n",
    "    \"\"\"\n",
    "    draw_state(ax, stateid, color=..., **kwargs)\n",
    "\n",
    "    Automatically draws a filled shape representing the state in\n",
    "    subplot.\n",
    "    The color keyword argument specifies the fill color.  It accepts keyword\n",
    "    arguments that plot() accepts\n",
    "    \"\"\"\n",
    "    for polygon in state2poly[stateid]:\n",
    "        xs, ys = zip(*polygon)\n",
    "        ax.plot(xs, ys, 'k', lw=1)\n",
    "        ax.fill(xs, ys, **kwargs)\n",
    "\n",
    "        \n",
    "def make_map(states, label, figsize=(12, 9)):\n",
    "    \"\"\"\n",
    "    Draw a cloropleth map, that maps data onto the United States\n",
    "\n",
    "    Inputs\n",
    "    -------\n",
    "    states : Column of a DataFrame\n",
    "        The value for each state, to display on a map\n",
    "    label : str\n",
    "        Label of the color bar\n",
    "\n",
    "    Returns\n",
    "    --------\n",
    "    The map\n",
    "    \"\"\"\n",
    "    fig = plt.figure(figsize=figsize) # create a figure\n",
    "    ax = plt.gca() # get axes from the figure\n",
    "\n",
    "    if states.max() < 2: # colormap for election probabilities   \n",
    "        cmap = cm.RdBu\n",
    "        vmin, vmax = 0, 1\n",
    "    else:  # colormap for electoral votes, or other values\n",
    "        cmap = cm.binary\n",
    "        vmin, vmax = states.min(), states.max()\n",
    "    norm = mpl.colors.Normalize(vmin=vmin, vmax=vmax)\n",
    "\n",
    "    skip = set(['National', 'District of Columbia', 'Guam', 'Puerto Rico',\n",
    "                'Virgin Islands', 'American Samoa', 'Northern Mariana Islands'])\n",
    "\n",
    "    for state in states_abbrev.values():\n",
    "        if state in skip:\n",
    "            continue\n",
    "        color = cmap(norm(states.loc[state]))\n",
    "        draw_state(ax, state, color = color)\n",
    "\n",
    "    #add an inset colorbar\n",
    "    ax1 = fig.add_axes([0.45, 0.70, 0.4, 0.02])    \n",
    "    cb1=mpl.colorbar.ColorbarBase(ax1, cmap=cmap,\n",
    "                                  norm=norm,\n",
    "                                  orientation='horizontal')\n",
    "    ax1.set_title(label)\n",
    "    ax.set_xticks([])\n",
    "    ax.set_yticks([])\n",
    "    ax.set_xlim(-180, -60)\n",
    "    ax.set_ylim(15, 75)\n",
    "    sns.despine(left=True, bottom=True)\n",
    "    return ax"
   ]
  },
  {
   "cell_type": "markdown",
   "metadata": {},
   "source": [
    "We plot a map of these probabilities as before, run the simulation, and display the results"
   ]
  },
  {
   "cell_type": "code",
   "execution_count": 99,
   "metadata": {},
   "outputs": [
    {
     "data": {
      "image/png": "[encoded data removed]",
      "text/plain": [
       "<Figure size 1008x720 with 2 Axes>"
      ]
     },
     "metadata": {
      "needs_background": "light"
     },
     "output_type": "display_data"
    }
   ],
   "source": [
    "make_map(combined.Dem_Adv, \"Dem Advantage\", figsize=(14, 10));"
   ]
  },
  {
   "cell_type": "code",
   "execution_count": null,
   "metadata": {},
   "outputs": [],
   "source": []
  }
 ],
 "metadata": {
  "celltoolbar": "Edit Metadata",
  "kernelspec": {
   "display_name": "Python 3",
   "language": "python",
   "name": "python3"
  },
  "language_info": {
   "codemirror_mode": {
    "name": "ipython",
    "version": 3
   },
   "file_extension": ".py",
   "mimetype": "text/x-python",
   "name": "python",
   "nbconvert_exporter": "python",
   "pygments_lexer": "ipython3",
   "version": "3.7.3"
  }
 },
 "nbformat": 4,
 "nbformat_minor": 2
}
